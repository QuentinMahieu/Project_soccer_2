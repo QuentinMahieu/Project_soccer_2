{
 "cells": [
  {
   "cell_type": "code",
   "execution_count": 2,
   "metadata": {},
   "outputs": [],
   "source": [
    "import pandas as pd\n",
    "import gmaps\n",
    "import matplotlib.pyplot as plt\n",
    "import json\n",
    "import requests\n",
    "from weather_and_gkey import (weather_key, gkey)\n",
    "import statistics\n",
    "import warnings\n",
    "warnings.filterwarnings(\"ignore\")"
   ]
  },
  {
   "cell_type": "code",
   "execution_count": 3,
   "metadata": {},
   "outputs": [],
   "source": [
    "#importing rankings data \n",
    "engrank_df = pd.read_csv(\"../../team_player/cleaned/engranking.csv\")\n",
    "itrank_df = pd.read_csv(\"../../team_player/cleaned/itranking.csv\")\n",
    "sprank_df = pd.read_csv(\"../../team_player/cleaned/spainranking.csv\")"
   ]
  },
  {
   "cell_type": "code",
   "execution_count": 9,
   "metadata": {},
   "outputs": [],
   "source": [
    "#getting the top 4 teams for each of the leagues for these years:\n",
    "years = [2015, 2016, 2017, 2018, 2019]\n",
    "\n",
    "#in each of this lists, each index is a dataframe with the top 4 teams in each season\n",
    "eng_top4teams = []\n",
    "it_top4teams = []\n",
    "sp_top4teams = []\n",
    "\n",
    "#in each of this lists, each index is a dataframe with the last 4 teams in each season\n",
    "eng_last4teams = []\n",
    "it_last4teams = []\n",
    "sp_last4teams = []\n",
    "\n",
    "for year in years:\n",
    "    \n",
    "    #top teams\n",
    "    eng_top4teams.append(engrank_df.loc[engrank_df[\"Year\"]==year][['Year','Teams','Points']].sort_values('Points', ascending = False).iloc[:4])\n",
    "    it_top4teams.append(itrank_df.loc[itrank_df[\"Year\"]==year][['Year','Teams','Points']].sort_values('Points', ascending = False).iloc[:4])\n",
    "    sp_top4teams.append(sprank_df.loc[sprank_df[\"Year\"]==year][['Year','Teams','Points']].sort_values('Points', ascending = False).iloc[:4])\n",
    "    \n",
    "    #last 4 teams\n",
    "    eng_last4teams.append(engrank_df.loc[engrank_df[\"Year\"]==year][['Year','Teams','Points']].sort_values('Points', ascending = False).iloc[-5:-1])\n",
    "    it_last4teams.append(itrank_df.loc[itrank_df[\"Year\"]==year][['Year','Teams','Points']].sort_values('Points', ascending = False).iloc[-5:-1])\n",
    "    sp_last4teams.append(sprank_df.loc[sprank_df[\"Year\"]==year][['Year','Teams','Points']].sort_values('Points', ascending = False).iloc[-5:-1])"
   ]
  },
  {
   "cell_type": "code",
   "execution_count": 6,
   "metadata": {},
   "outputs": [],
   "source": [
    "'''\n",
    "Accessing all players data files\n",
    "Each index in places [0:4] is a dataframe with the players data for 2015, 2016, 2017, 2018, 2019\n",
    "\n",
    "'''\n",
    "\n",
    "numbers = [15,16,17,18, 19]\n",
    "players = []\n",
    "\n",
    "for number in numbers:\n",
    "    players.append(pd.read_csv(f\"../../team_player/raw/players_{number}.csv\"))\n",
    "\n"
   ]
  },
  {
   "cell_type": "code",
   "execution_count": 63,
   "metadata": {},
   "outputs": [],
   "source": [
    "#chanche names function so that I can match the team names from rankins.csv with players csv\n",
    "\n",
    "def names_change(df):\n",
    "    \n",
    "    #italian league\n",
    "    df[\"club\"] = df[\"club\"].str.replace(\"Lazio\", \"SS Lazio\")\n",
    "    df[\"club\"] = df[\"club\"].str.replace(\"Roma\", \"AS Roma\")\n",
    "    df['club'] = df['club'].str.replace(\"Inter\", \"FC Internazionale Milano\")\n",
    "    df[\"club\"] = df[\"club\"].str.replace(\"FC Crotone\", \"Crotone\")\n",
    "    \n",
    "    df[\"club\"] = df[\"club\"].str.replace(\"Fiorentina\", \"ACF Fiorentina\")\n",
    "    df[\"club\"] = df[\"club\"].str.replace(\"Sassuolo\", \"Sassuolo Calcio\")\n",
    "    df[\"club\"] = df[\"club\"].str.replace(\"Chievo Verona\", \"AC Chievo Verona\")\n",
    "    df[\"club\"] = df[\"club\"].str.replace(\"Cagliari\", \"Cagliari Calcio\")\n",
    "    \n",
    "    #spanish league\n",
    "    df[\"club\"] = df[\"club\"].str.replace(\"Real Sporting de Gijón\", \"Sporting Gijón\")\n",
    "    df[\"club\"] = df[\"club\"].str.replace(\"Athletic Club de Bilbao\", \"Athletic Club Bilbao\")\n",
    "    df[\"club\"] = df[\"club\"].str.replace(\"Deportivo de La Coruña\", \"RCD La Coruña\")\n",
    "    df[\"club\"] = df[\"club\"].str.replace(\"RC Celta\", \"RC Celta Vigo\")\n",
    "    \n",
    "    return df\n",
    "\n",
    "#apply function to all players dataframes\n",
    "for players_df in players:\n",
    "    names_change(players_df)"
   ]
  },
  {
   "cell_type": "code",
   "execution_count": 12,
   "metadata": {},
   "outputs": [],
   "source": [
    "#function for getting nationatilities per season\n",
    "\n",
    "def get_nationalities(league_topteams, players):\n",
    "    \n",
    "    '''\n",
    "    This function takes two list of dataframes. Each index of the list is a dataframe for 1 season for 5 seasons\n",
    "    \n",
    "        index 0 = 2015\n",
    "        .\n",
    "        .\n",
    "        index 4 = 2019\n",
    "    \n",
    "    and returns a list of dataframes with the players names, ages, nationalities and teams for each season\n",
    "    \n",
    "    '''\n",
    "    \n",
    "    #empty list: preparing to append a dataframe for each season\n",
    "    all_seasons_data =[]\n",
    "    \n",
    "    #iterating through both dataframes at once: each iteration is a season\n",
    "    for topteams, season_players in zip(league_topteams, players):\n",
    "    \n",
    "        nationalities_1_season = []\n",
    "        for index, row in topteams.iterrows():\n",
    "            team = row['Teams']\n",
    "        \n",
    "            #getting relevant player data for 1/4 teams: each iteration is 1 team for that season\n",
    "            nationalities_1_team = season_players[season_players['club']== team][['short_name','age', 'nationality','club']].reset_index()\n",
    "            nationalities_1_season.append(nationalities_1_team)\n",
    "            \n",
    "        #packing all 1 season teams player data into 1 dataframe and appending to all_seasons\n",
    "        new_df = pd.concat(nationalities_1_season)\n",
    "        \n",
    "        all_seasons_data.append(new_df.drop('index', axis = 1))\n",
    "        \n",
    "    return all_seasons_data\n",
    "    "
   ]
  },
  {
   "cell_type": "code",
   "execution_count": 13,
   "metadata": {},
   "outputs": [],
   "source": [
    "'''\n",
    "Each of league_nationalities_top_teams is a list of dataframes with players and nationalities for each of the top4  teams\n",
    "and each index represents a differents season\n",
    "\n",
    "'''\n",
    "engleague_nationalities_top_teams = get_nationalities(eng_top4teams, players)\n",
    "itleague_nationalities_top_teams = get_nationalities(it_top4teams, players)\n",
    "spleague_nationalities_top_teams = get_nationalities(sp_top4teams, players)\n"
   ]
  },
  {
   "cell_type": "code",
   "execution_count": 53,
   "metadata": {},
   "outputs": [],
   "source": [
    "engleague_nationalities_last_teams = get_nationalities(eng_last4teams, players)\n",
    "itleague_nationalities_last_teams = get_nationalities(it_last4teams, players)\n",
    "spleague_nationalities_last_teams = get_nationalities(sp_last4teams, players)"
   ]
  },
  {
   "cell_type": "markdown",
   "metadata": {},
   "source": [
    "## This section is an analysis on nationalities  at a league level: combining data for the top 4 teams in each season across 2015 - 2019 for each league"
   ]
  },
  {
   "cell_type": "code",
   "execution_count": 15,
   "metadata": {},
   "outputs": [],
   "source": [
    "def league_all_seasons_nationalities(league_nationalities_top_teams, local_nationality):\n",
    "    \n",
    "    '''\n",
    "    This function takes a list of dataframes for a league of choice, and the local nationality for that league as a string. \n",
    "    Each index for the first parameter is a different season, and the data corresponds to the top 4 teams in each season. \n",
    "    It concats all dataframes into one single dataframe and returns a nationality count for that leagues top teams accross \n",
    "    2015-2019 normalised based on local_nationality.\n",
    "    \n",
    "    '''\n",
    "    #concatinating all list indexes in to dataframe: 2015 - 2019 all in one dataframe\n",
    "    all_seasons = pd.concat(league_nationalities_top_teams).drop_duplicates(subset = 'short_name')\n",
    "    \n",
    "    #getting nationality count\n",
    "    season_nationalities = all_seasons.groupby('nationality').count().sort_values('short_name',ascending = False)\n",
    "    tidy_up = season_nationalities.reset_index()[['nationality','short_name']].rename({'short_name': 'count'}, axis = 1)\n",
    "    \n",
    "    #getting local nationality count\n",
    "    local_count = tidy_up[tidy_up['nationality'] == local_nationality]['count'].astype(float)[0]\n",
    "    \n",
    "    #normalising data based on local_nationality\n",
    "    tidy_up['count'] = round(tidy_up['count'] / local_count * 100, 3)\n",
    "    \n",
    "    #chanching count to percentages\n",
    "    tidy_up = tidy_up.rename({'count' : 'percentage'}, axis = 1)\n",
    "    \n",
    "    return tidy_up"
   ]
  },
  {
   "cell_type": "code",
   "execution_count": 16,
   "metadata": {},
   "outputs": [],
   "source": [
    "#all 5 seasons normalised nationalities data for each season's top 4 teams: 1 dataframe of nationalities frequencies\n",
    "engleague_all_seasons_nationalities = league_all_seasons_nationalities(engleague_nationalities_top_teams, 'England')\n",
    "itleague_all_seasons_nationalities = league_all_seasons_nationalities(itleague_nationalities_top_teams, 'Italy')\n",
    "spleague_all_seasons_nationalities = league_all_seasons_nationalities(spleague_nationalities_top_teams, 'Spain')"
   ]
  },
  {
   "cell_type": "code",
   "execution_count": 11,
   "metadata": {},
   "outputs": [],
   "source": [
    "#Not using as we are not plotting this data in GMAPS\n",
    "#all 5 seasons normalised nationalities data for each season's last 4 teams: 1 dataframe of nationalities frequencies\n",
    "#last4_engleague_all_seasons_nationalities = league_all_seasons_nationalities(engleague_nationalities_last_teams, 'England')\n",
    "#last4_itleague_all_seasons_nationalities = league_all_seasons_nationalities(itleague_nationalities_last_teams, 'Italy')\n",
    "#last4_spleague_all_seasons_nationalities = league_all_seasons_nationalities(spleague_nationalities_last_teams, 'Spain')"
   ]
  },
  {
   "cell_type": "code",
   "execution_count": 12,
   "metadata": {},
   "outputs": [],
   "source": [
    "#creating exports for the top teams\n",
    "engleague_all_seasons_nationalities.to_csv(\"../cleaned/english_nationalities_all_seasons.csv\")\n",
    "itleague_all_seasons_nationalities.to_csv(\"../cleaned/italy_nationalities_all_seasons.csv\")\n",
    "spleague_all_seasons_nationalities.to_csv(\"../cleaned/spain_nationalities_all_seasons.csv\")"
   ]
  },
  {
   "cell_type": "code",
   "execution_count": 17,
   "metadata": {},
   "outputs": [],
   "source": [
    "#loading json with countries and their capital cities \n",
    "with open('country_by_capital.json' , 'r') as jsonfile:\n",
    "    data = jsonfile.read()\n",
    "country_capitals = json.loads(data)\n",
    "#print(json.dumps(country_capitals, indent = 4, sort_keys = True))\n",
    "\n",
    "#creating a dataframe for countries and nationalities\n",
    "countries = []\n",
    "cities = []\n",
    "\n",
    "for i in range(len(country_capitals)):\n",
    "    \n",
    "    #getting inside each dictionary\n",
    "    for key, value in country_capitals[i].items():\n",
    "        \n",
    "        if key == 'country':\n",
    "            countries.append(value)\n",
    "        \n",
    "        if key == \"city\":\n",
    "            cities.append(value)\n",
    "        \n",
    "countries_and_capitals_df = pd.DataFrame({\n",
    "    'nationality': countries,\n",
    "    'capital':cities\n",
    "})\n",
    "\n",
    "countries_and_capitals_df['capital'] = countries_and_capitals_df['capital'].replace('Bruxelles [Brussel]', 'Brussel')\n",
    "countries_and_capitals_df['capital'] = countries_and_capitals_df['capital'].replace('San Jos', 'San Jose')\n",
    "countries_and_capitals_df['capital'] = countries_and_capitals_df['capital'].replace('Santaf', 'Bogota')\n",
    "countries_and_capitals_df['capital'] = countries_and_capitals_df['capital'].replace('Bucuresti', 'Bucharest')\n",
    "countries_and_capitals_df['capital'] = countries_and_capitals_df['capital'].replace('Yaound', 'Yaounde')\n",
    "countries_and_capitals_df['capital'] = countries_and_capitals_df['capital'].replace('Athenai', 'Athens')\n",
    "countries_and_capitals_df['capital'] = countries_and_capitals_df['capital'].replace('Asunci', 'Asuncion')\n",
    "countries_and_capitals_df['capital'] = countries_and_capitals_df['capital'].replace('Helsinki [Helsingfors]', 'Helsinki')\n",
    "countries_and_capitals_df['capital'] = countries_and_capitals_df['capital'].replace('Ciudad de M', 'Mexico City')\n",
    "countries_and_capitals_df['capital'] = countries_and_capitals_df['capital'].replace('Roma', 'Rome')\n",
    "countries_and_capitals_df['capital'] = countries_and_capitals_df['capital'].replace('Bras', 'Brasilia')\n"
   ]
  },
  {
   "cell_type": "code",
   "execution_count": 19,
   "metadata": {},
   "outputs": [],
   "source": [
    "def get_coordinates(league_all_seasons_nationalities):\n",
    "    \n",
    "    '''\n",
    "    Takes as a parameter a dataframe of nationalities, and returns a dataframe with capital cities and their corresponding\n",
    "    latitudes and longitudes by making API calls to Openweathermap\n",
    "    \n",
    "    '''\n",
    "    \n",
    "    #merging on \n",
    "    league_and_locations = pd.merge(league_all_seasons_nationalities, countries_and_capitals_df, on = 'nationality', how = 'inner')\n",
    "\n",
    "    league_and_locations['lat'] = ''\n",
    "    league_and_locations['lng'] = ''\n",
    "\n",
    "    for index, row in league_and_locations.iterrows():\n",
    "    \n",
    "        city = row['capital']\n",
    "    \n",
    "        try: \n",
    "            url = f\"http://api.openweathermap.org/data/2.5/weather?q={city}&appid={weather_key}\"\n",
    "            response = requests.get(url).json()\n",
    "        \n",
    "            #lat and longitude\n",
    "            league_and_locations['lat'].iloc[index] = response['coord']['lat']\n",
    "            league_and_locations['lng'].iloc[index] = response['coord']['lon']\n",
    "        \n",
    "        except:\n",
    "            print(f\"Name issue:{city} at index:{index}\")\n",
    "        \n",
    "\n",
    "    return league_and_locations"
   ]
  },
  {
   "cell_type": "code",
   "execution_count": 20,
   "metadata": {},
   "outputs": [],
   "source": [
    "#API Call to weathermap \n",
    "engleague_coordinates = get_coordinates(engleague_all_seasons_nationalities)"
   ]
  },
  {
   "cell_type": "code",
   "execution_count": 21,
   "metadata": {},
   "outputs": [],
   "source": [
    "#API Call to weather map\n",
    "itleague_coordinates = get_coordinates(itleague_all_seasons_nationalities)"
   ]
  },
  {
   "cell_type": "code",
   "execution_count": 22,
   "metadata": {},
   "outputs": [],
   "source": [
    "#API call to weather map\n",
    "spleague_coordinates = get_coordinates(spleague_all_seasons_nationalities)"
   ]
  },
  {
   "cell_type": "code",
   "execution_count": 23,
   "metadata": {},
   "outputs": [],
   "source": [
    "itleague_coordinates['lat'] = itleague_coordinates['lat'].replace(34.26, 41.902782)\n",
    "itleague_coordinates['lng'] = itleague_coordinates['lng'].replace(-85.16, 12.496366)\n",
    "engleague_coordinates['lat'] = engleague_coordinates['lat'].replace(34.26, 41.902782)\n",
    "engleague_coordinates['lng'] = engleague_coordinates['lng'].replace(-85.16, 12.496366)\n",
    "spleague_coordinates['lat'] = spleague_coordinates['lat'].replace(34.26, 41.902782)\n",
    "spleague_coordinates['lng'] = spleague_coordinates['lng'].replace(-85.16, 12.496366)"
   ]
  },
  {
   "cell_type": "code",
   "execution_count": 26,
   "metadata": {},
   "outputs": [],
   "source": [
    "def heatmap_plot(league_coordinates):\n",
    "    \n",
    "    # Configure gmaps with API key\n",
    "    gmaps.configure(api_key=gkey)\n",
    "    \n",
    "    # Heatmap layer\n",
    "    fig = gmaps.figure()\n",
    "\n",
    "    league_coordinates['lat'] = league_coordinates['lat'].astype(float)\n",
    "    league_coordinates['lng'] = league_coordinates['lng'].astype(float)\n",
    "\n",
    "    #coordinates\n",
    "    locations = league_coordinates[['lat', 'lng']]\n",
    "    \n",
    "    #nationality frequency as weight parameter\n",
    "    weight = league_coordinates['percentage'].astype(float)*10\n",
    "    \n",
    "    heat_layer = gmaps.heatmap_layer(locations, weights = weight, \n",
    "                                 dissipating=False, max_intensity=100,\n",
    "                                 point_radius = 2)\n",
    "    \n",
    "    #add layer\n",
    "    fig.add_layer(heat_layer)\n",
    "    \n",
    "    #center\n",
    "    gmaps.figure(center=(0, 0), zoom_level=1)\n",
    "\n",
    "    return fig"
   ]
  },
  {
   "cell_type": "code",
   "execution_count": 27,
   "metadata": {},
   "outputs": [
    {
     "data": {
      "application/vnd.jupyter.widget-view+json": {
       "model_id": "68c7e2c93e904127893ea3de7a94a5d0",
       "version_major": 2,
       "version_minor": 0
      },
      "text/plain": [
       "Figure(layout=FigureLayout(height='420px'))"
      ]
     },
     "metadata": {},
     "output_type": "display_data"
    }
   ],
   "source": [
    "heatmap_plot(engleague_coordinates)"
   ]
  },
  {
   "cell_type": "code",
   "execution_count": 28,
   "metadata": {},
   "outputs": [
    {
     "data": {
      "application/vnd.jupyter.widget-view+json": {
       "model_id": "df89327ada4e492990709906801fe003",
       "version_major": 2,
       "version_minor": 0
      },
      "text/plain": [
       "Figure(layout=FigureLayout(height='420px'))"
      ]
     },
     "metadata": {},
     "output_type": "display_data"
    }
   ],
   "source": [
    "heatmap_plot(itleague_coordinates)"
   ]
  },
  {
   "cell_type": "code",
   "execution_count": 29,
   "metadata": {},
   "outputs": [
    {
     "data": {
      "application/vnd.jupyter.widget-view+json": {
       "model_id": "9f5c3746e46145be9a0fc4eae71b30ba",
       "version_major": 2,
       "version_minor": 0
      },
      "text/plain": [
       "Figure(layout=FigureLayout(height='420px'))"
      ]
     },
     "metadata": {},
     "output_type": "display_data"
    }
   ],
   "source": [
    "heatmap_plot(spleague_coordinates)"
   ]
  },
  {
   "cell_type": "markdown",
   "metadata": {},
   "source": [
    "## The following is a ethnic diversity analysis at a teams level  for the top 4 and last 4 teams of each league for every season"
   ]
  },
  {
   "cell_type": "code",
   "execution_count": 67,
   "metadata": {},
   "outputs": [],
   "source": [
    "def league_diversity_per_teams(league_nationalities, league_top4teams, local_country):\n",
    "    \n",
    "    '''\n",
    "    This function takes as an input a list of dataframes with players nationalities and each league top 4 teams\n",
    "    and returns a dictionaty where each key is a season (2015..2019) and each value pair is dictionaries with \n",
    "    the teams as keys and their diversity count as value pairs.\n",
    "    \n",
    "    '''\n",
    "    \n",
    "    #number of players\n",
    "    #number_players = 33\n",
    "    \n",
    "    #diversity in each team english league 2015\n",
    "    years = [2015, 2016, 2017, 2018, 2019]\n",
    "\n",
    "    #empty dictionary of dictionaries: each year will be a key for a dictionary of the players diversity count\n",
    "    all_seasons_diversity = {}\n",
    "\n",
    "    season_count = 0\n",
    "    for year in years:\n",
    "    \n",
    "        #empty dictionary for the team\n",
    "        team_percentage_local_players_1_season = {} \n",
    "        for index, row in league_top4teams[season_count].reset_index().iterrows():\n",
    "            \n",
    "            #defininf team name from dataframe\n",
    "            team = row['Teams']\n",
    "            \n",
    "            #diversity = count of different nationalities in each team\n",
    "            team_player_count = len(league_nationalities[season_count][(league_nationalities[season_count]['club'] == team)])\n",
    "            \n",
    "            \n",
    "            national_player_count = len(league_nationalities[season_count][\n",
    "                (league_nationalities[season_count]['club'] == team) & (\n",
    "                    league_nationalities[season_count]['nationality'] == local_country)])\n",
    "            \n",
    "            try:\n",
    "                team_percentage_local_players_1_season[team] = round(national_player_count / team_player_count * 100, 1)\n",
    "            \n",
    "            except Exception as ex:\n",
    "                #print(f\"There was an issue with {team} in season {season_count}\")\n",
    "                #print(ex)\n",
    "                continue\n",
    "                \n",
    "        #creating dictionary per season: key is the season ; value_pair: nested dictionary of teams and their diversity\n",
    "        all_seasons_diversity[year] = team_percentage_local_players_1_season\n",
    "    \n",
    "        #next season\n",
    "        season_count += 1\n",
    "\n",
    "    return all_seasons_diversity"
   ]
  },
  {
   "cell_type": "code",
   "execution_count": null,
   "metadata": {},
   "outputs": [],
   "source": []
  },
  {
   "cell_type": "code",
   "execution_count": 31,
   "metadata": {},
   "outputs": [],
   "source": [
    "def average_diversity(league_nationalities, teams, country):\n",
    "    \n",
    "    '''\n",
    "    This function calculates the average diversity across all seasons [2015:2019]\n",
    "    \n",
    "    '''\n",
    "    \n",
    "    values = []\n",
    "    for season in league_diversity_per_teams(league_nationalities, teams, country).keys():\n",
    "        teams_dict = league_diversity_per_teams(league_nationalities, teams, country)[season]\n",
    "        for team, percent in teams_dict.items():\n",
    "            values.append(percent)\n",
    "    return statistics.mean(values) "
   ]
  },
  {
   "cell_type": "code",
   "execution_count": 32,
   "metadata": {},
   "outputs": [
    {
     "data": {
      "text/plain": [
       "36.005"
      ]
     },
     "execution_count": 32,
     "metadata": {},
     "output_type": "execute_result"
    }
   ],
   "source": [
    "#eng top\n",
    "average_diversity(engleague_nationalities_top_teams, eng_top4teams, 'England')"
   ]
  },
  {
   "cell_type": "code",
   "execution_count": 33,
   "metadata": {},
   "outputs": [
    {
     "data": {
      "text/plain": [
       "42.095"
      ]
     },
     "execution_count": 33,
     "metadata": {},
     "output_type": "execute_result"
    }
   ],
   "source": [
    "#eng last\n",
    "average_diversity(engleague_nationalities_last_teams, eng_last4teams, 'England')"
   ]
  },
  {
   "cell_type": "code",
   "execution_count": 34,
   "metadata": {},
   "outputs": [
    {
     "data": {
      "text/plain": [
       "34.975"
      ]
     },
     "execution_count": 34,
     "metadata": {},
     "output_type": "execute_result"
    }
   ],
   "source": [
    "#IT top\n",
    "average_diversity(itleague_nationalities_top_teams, it_top4teams, 'Italy')"
   ]
  },
  {
   "cell_type": "code",
   "execution_count": 35,
   "metadata": {},
   "outputs": [
    {
     "data": {
      "text/plain": [
       "64.28947368421052"
      ]
     },
     "execution_count": 35,
     "metadata": {},
     "output_type": "execute_result"
    }
   ],
   "source": [
    "#IT last\n",
    "average_diversity(itleague_nationalities_last_teams, it_last4teams, 'Italy')"
   ]
  },
  {
   "cell_type": "code",
   "execution_count": 36,
   "metadata": {},
   "outputs": [
    {
     "data": {
      "text/plain": [
       "47.615"
      ]
     },
     "execution_count": 36,
     "metadata": {},
     "output_type": "execute_result"
    }
   ],
   "source": [
    "#spain top\n",
    "average_diversity(spleague_nationalities_top_teams, sp_top4teams, 'Spain')"
   ]
  },
  {
   "cell_type": "code",
   "execution_count": 37,
   "metadata": {},
   "outputs": [
    {
     "data": {
      "text/plain": [
       "70.16"
      ]
     },
     "execution_count": 37,
     "metadata": {},
     "output_type": "execute_result"
    }
   ],
   "source": [
    "#spain last\n",
    "average_diversity(spleague_nationalities_last_teams, sp_last4teams, 'Spain')"
   ]
  },
  {
   "cell_type": "markdown",
   "metadata": {},
   "source": [
    "*******************************************************************************************************************************"
   ]
  },
  {
   "cell_type": "code",
   "execution_count": 40,
   "metadata": {},
   "outputs": [],
   "source": [
    "def plot_diversity_by_teams(league_nationalities, league_top4teams, local_country):\n",
    "    \n",
    "    '''\n",
    "    This function takes two list of dataframe and returns a plot with the diversity count for each league top teams. \n",
    "    This function calls another function: league_diversity, whose output is a dictionary of dictionaries with the top\n",
    "    teams for each season and their diversity count\n",
    "    \n",
    "    '''\n",
    "    %matplotlib inline\n",
    "    \n",
    "    plt.figure(figsize = [17.5,4])\n",
    "\n",
    "    #subplot counter\n",
    "    subplot_count = 1\n",
    "        \n",
    "    #looping over league_diversity function whose output is a dictionary of dictionaries\n",
    "    for year, teams_diversity_count in league_diversity_per_teams(league_nationalities, league_top4teams, local_country).items():\n",
    "        \n",
    "        tick_location = [1, 2, 3, 4]      \n",
    "        frequencies = [diversity_count for team, diversity_count in teams_diversity_count.items()]\n",
    "        \n",
    "        #plotting\n",
    "        plt.subplot(1,5,subplot_count)\n",
    "        plt.bar(tick_location, frequencies)\n",
    "        plt.title(f\"% of local players for {year}\")\n",
    "        plt.xticks(tick_location, [team for team in teams_diversity_count.keys()], rotation = 90)\n",
    "        \n",
    "        # counter\n",
    "        subplot_count += 1\n",
    "        \n",
    "        "
   ]
  },
  {
   "cell_type": "code",
   "execution_count": 66,
   "metadata": {},
   "outputs": [],
   "source": [
    "def plot_diversity_last4_teams(league_nationalities, league_top4teams, local_country):\n",
    "    \n",
    "    '''\n",
    "   This is the same function as the previous one but the output is a different colour grapgh\n",
    "    \n",
    "    '''\n",
    "    %matplotlib inline\n",
    "    \n",
    "    plt.figure(figsize = [17.5,4])\n",
    "\n",
    "    #subplot counter\n",
    "    subplot_count = 1\n",
    "        \n",
    "    #looping over league_diversity function whose output is a dictionary of dictionaries\n",
    "    for year, teams_diversity_count in league_diversity_per_teams(league_nationalities, league_top4teams, local_country).items():\n",
    "        \n",
    "        tick_location = [1, 2, 3, 4]      \n",
    "        frequencies = [diversity_count for team, diversity_count in teams_diversity_count.items()]\n",
    "        \n",
    "        #plotting\n",
    "        plt.subplot(1,5,subplot_count)\n",
    "        plt.bar(tick_location, frequencies, color = 'orange')\n",
    "        plt.title(f\"% of local players for {year}\")\n",
    "        plt.xticks(tick_location, [team for team in teams_diversity_count.keys()], rotation = 90)\n",
    "        \n",
    "        # counter\n",
    "        subplot_count += 1\n",
    "        "
   ]
  },
  {
   "cell_type": "code",
   "execution_count": 68,
   "metadata": {},
   "outputs": [
    {
     "data": {
      "text/plain": [
       "{2015: {'Palermo': 36.7, 'Carpi': 75.0, 'Frosinone': 88.5},\n",
       " 2016: {'Genoa': 27.6, 'Empoli': 56.0, 'Palermo': 48.1},\n",
       " 2017: {'Bologna': 45.2, 'SPAL': 100.0, 'Hellas Verona': 79.2},\n",
       " 2018: {'Parma': 86.7, 'Genoa': 40.7, 'Empoli': 58.6, 'Frosinone': 87.5},\n",
       " 2019: {'Torino': 46.2, 'Genoa': 32.0, 'Lecce': 89.7, 'Brescia': 80.0}}"
      ]
     },
     "execution_count": 68,
     "metadata": {},
     "output_type": "execute_result"
    }
   ],
   "source": [
    "league_diversity_per_teams(itleague_nationalities_last_teams, it_last4teams, 'Italy')"
   ]
  },
  {
   "cell_type": "code",
   "execution_count": 65,
   "metadata": {},
   "outputs": [
    {
     "data": {
      "text/html": [
       "<div>\n",
       "<style scoped>\n",
       "    .dataframe tbody tr th:only-of-type {\n",
       "        vertical-align: middle;\n",
       "    }\n",
       "\n",
       "    .dataframe tbody tr th {\n",
       "        vertical-align: top;\n",
       "    }\n",
       "\n",
       "    .dataframe thead th {\n",
       "        text-align: right;\n",
       "    }\n",
       "</style>\n",
       "<table border=\"1\" class=\"dataframe\">\n",
       "  <thead>\n",
       "    <tr style=\"text-align: right;\">\n",
       "      <th></th>\n",
       "      <th>Year</th>\n",
       "      <th>Teams</th>\n",
       "      <th>Points</th>\n",
       "    </tr>\n",
       "  </thead>\n",
       "  <tbody>\n",
       "    <tr>\n",
       "      <th>7</th>\n",
       "      <td>2015</td>\n",
       "      <td>Palermo</td>\n",
       "      <td>39</td>\n",
       "    </tr>\n",
       "    <tr>\n",
       "      <th>19</th>\n",
       "      <td>2015</td>\n",
       "      <td>Udinese Calcio</td>\n",
       "      <td>39</td>\n",
       "    </tr>\n",
       "    <tr>\n",
       "      <th>13</th>\n",
       "      <td>2015</td>\n",
       "      <td>Carpi</td>\n",
       "      <td>38</td>\n",
       "    </tr>\n",
       "    <tr>\n",
       "      <th>4</th>\n",
       "      <td>2015</td>\n",
       "      <td>Frosinone</td>\n",
       "      <td>31</td>\n",
       "    </tr>\n",
       "  </tbody>\n",
       "</table>\n",
       "</div>"
      ],
      "text/plain": [
       "    Year           Teams  Points\n",
       "7   2015         Palermo      39\n",
       "19  2015  Udinese Calcio      39\n",
       "13  2015           Carpi      38\n",
       "4   2015       Frosinone      31"
      ]
     },
     "execution_count": 65,
     "metadata": {},
     "output_type": "execute_result"
    }
   ],
   "source": [
    "it_last4teams[0]"
   ]
  },
  {
   "cell_type": "markdown",
   "metadata": {},
   "source": [
    "                            *** English League: Premiere League's Top 4 vs Last 4 in each season ****"
   ]
  },
  {
   "cell_type": "code",
   "execution_count": 42,
   "metadata": {
    "scrolled": true
   },
   "outputs": [
    {
     "data": {
      "image/png": "[encoded data removed]",
      "text/plain": [
       "<Figure size 1260x288 with 5 Axes>"
      ]
     },
     "metadata": {
      "needs_background": "light"
     },
     "output_type": "display_data"
    }
   ],
   "source": [
    "plot_diversity_by_teams(engleague_nationalities_top_teams, eng_top4teams, 'England')"
   ]
  },
  {
   "cell_type": "code",
   "execution_count": 43,
   "metadata": {},
   "outputs": [
    {
     "data": {
      "image/png": "[encoded data removed]",
      "text/plain": [
       "<Figure size 1260x288 with 5 Axes>"
      ]
     },
     "metadata": {
      "needs_background": "light"
     },
     "output_type": "display_data"
    }
   ],
   "source": [
    "plot_diversity_last4_teams(engleague_nationalities_last_teams, eng_last4teams, 'England')"
   ]
  },
  {
   "cell_type": "markdown",
   "metadata": {},
   "source": [
    "                            *** Italian: Serie A's League: Top 4 vs Last 4 in each season ****"
   ]
  },
  {
   "cell_type": "code",
   "execution_count": 44,
   "metadata": {},
   "outputs": [
    {
     "data": {
      "image/png": "[encoded data removed]",
      "text/plain": [
       "<Figure size 1260x288 with 5 Axes>"
      ]
     },
     "metadata": {
      "needs_background": "light"
     },
     "output_type": "display_data"
    }
   ],
   "source": [
    "plot_diversity_by_teams(itleague_nationalities_top_teams, it_top4teams, 'Italy')"
   ]
  },
  {
   "cell_type": "code",
   "execution_count": null,
   "metadata": {},
   "outputs": [],
   "source": [
    "#getting an error\n",
    "plot_diversity_last4_teams(itleague_nationalities_last_teams, it_last4teams, 'Italy')"
   ]
  },
  {
   "cell_type": "code",
   "execution_count": 46,
   "metadata": {},
   "outputs": [
    {
     "data": {
      "image/png": "[encoded data removed]",
      "text/plain": [
       "<Figure size 1260x288 with 5 Axes>"
      ]
     },
     "metadata": {
      "needs_background": "light"
     },
     "output_type": "display_data"
    }
   ],
   "source": [
    "plot_diversity_by_teams(spleague_nationalities_top_teams, sp_top4teams, 'Spain')"
   ]
  },
  {
   "cell_type": "code",
   "execution_count": 47,
   "metadata": {},
   "outputs": [
    {
     "data": {
      "image/png": "[encoded data removed]",
      "text/plain": [
       "<Figure size 1260x288 with 5 Axes>"
      ]
     },
     "metadata": {
      "needs_background": "light"
     },
     "output_type": "display_data"
    }
   ],
   "source": [
    "plot_diversity_last4_teams(spleague_nationalities_last_teams, sp_last4teams, 'Spain')"
   ]
  },
  {
   "cell_type": "code",
   "execution_count": null,
   "metadata": {},
   "outputs": [],
   "source": []
  }
 ],
 "metadata": {
  "kernelspec": {
   "display_name": "Python 3",
   "language": "python",
   "name": "python3"
  },
  "language_info": {
   "codemirror_mode": {
    "name": "ipython",
    "version": 3
   },
   "file_extension": ".py",
   "mimetype": "text/x-python",
   "name": "python",
   "nbconvert_exporter": "python",
   "pygments_lexer": "ipython3",
   "version": "3.6.10-final"
  }
 },
 "nbformat": 4,
 "nbformat_minor": 4
}