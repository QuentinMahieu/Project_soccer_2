{
 "metadata": {
  "language_info": {
   "codemirror_mode": {
    "name": "ipython",
    "version": 3
   },
   "file_extension": ".py",
   "mimetype": "text/x-python",
   "name": "python",
   "nbconvert_exporter": "python",
   "pygments_lexer": "ipython3",
   "version": "3.6.10-final"
  },
  "orig_nbformat": 2,
  "kernelspec": {
   "name": "python_defaultSpec_1610159200788",
   "display_name": "Python 3.6.10 64-bit"
  }
 },
 "nbformat": 4,
 "nbformat_minor": 2,
 "cells": [
  {
   "cell_type": "code",
   "execution_count": 28,
   "metadata": {},
   "outputs": [],
   "source": [
    "from selenium import webdriver\n",
    "import time\n",
    "from collections import defaultdict\n",
    "\n",
    "def scrape():\n",
    "    driver = webdriver.Chrome('/usr/local/bin/chromedriver')\n",
    "    \n",
    "    url_eng = \"https://www.flashscore.com.au/football/england/epl/standings/\"\n",
    "    url_es = \"https://www.flashscore.com.au/football/spain/laliga/standings/\"\n",
    "    url_it = \"https://www.flashscore.com.au/football/italy/serie-a/standings/\"\n",
    "    urls = [url_eng,url_es,url_it]\n",
    "\n",
    "    driver.get(url_eng)\n",
    "    time.sleep(1)\n",
    "    table = defaultdict(list)\n",
    "    for url in urls:\n",
    "        driver.get(url)\n",
    "        time.sleep(1)\n",
    "        col1 = driver.find_elements_by_xpath('//a[@class=\"rowCellParticipantName___38vskiN\"]')\n",
    "        col2 = driver.find_elements_by_xpath('//span[@class=\"  rowCell____vgDgoa cell___4WLG6Yd \"]')\n",
    "        \n",
    "        for i in range(len(col1)):\n",
    "            table[\"Ranking\"].append(i+1)\n",
    "            table[\"Team\"].append(col1[i].text)\n",
    "            if url == url_eng:\n",
    "                table[\"League\"].append('England')\n",
    "            if url == url_es:\n",
    "                table[\"League\"].append('Spain')\n",
    "            if url == url_it:\n",
    "                table[\"League\"].append('Italy')\n",
    "        count = 0\n",
    "        for i in range(len(col2)):\n",
    "            if count == 0 :\n",
    "                table[\"MP\"].append(col2[i].text)\n",
    "            if count == 1:\n",
    "                table[\"W\"].append(col2[i].text)\n",
    "            if count == 2:\n",
    "                table[\"D\"].append(col2[i].text)\n",
    "            if count == 3:\n",
    "                table[\"L\"].append(col2[i].text)\n",
    "            if count == 4:\n",
    "                table[\"Pts\"].append(col2[i].text)\n",
    "                count = -1\n",
    "            count+=1\n",
    "    table = dict(table)\n",
    "    \n",
    "    # Return results\n",
    "    return table"
   ]
  },
  {
   "cell_type": "code",
   "execution_count": 31,
   "metadata": {},
   "outputs": [],
   "source": [
    "tablep = scrape()"
   ]
  },
  {
   "cell_type": "code",
   "execution_count": 33,
   "metadata": {},
   "outputs": [
    {
     "output_type": "execute_result",
     "data": {
      "text/plain": "    Ranking             Team   League  MP   W  D   L Pts\n0         1        Liverpool  England  17   9  6   2  33\n1         2   Manchester Utd  England  16  10  3   3  33\n2         3        Leicester  England  17  10  2   5  32\n3         4        Tottenham  England  16   8  5   3  29\n4         5  Manchester City  England  15   8  5   2  29\n5         6      Southampton  England  17   8  5   4  29\n6         7          Everton  England  16   9  2   5  29\n7         8      Aston Villa  England  15   8  2   5  26\n8         9          Chelsea  England  17   7  5   5  26\n9        10         West Ham  England  17   7  5   5  26\n10       11          Arsenal  England  17   7  2   8  23\n11       12            Leeds  England  17   7  2   8  23\n12       13           Wolves  England  17   6  4   7  22\n13       14   Crystal Palace  England  17   6  4   7  22\n14       15        Newcastle  England  16   5  4   7  19\n15       16          Burnley  England  15   4  4   7  16\n16       17         Brighton  England  17   2  8   7  14\n17       18           Fulham  England  15   2  5   8  11\n18       19        West Brom  England  17   1  5  11   8\n19       20    Sheffield Utd  England  17   0  2  15   2\n20        1      Atl. Madrid    Spain  15  12  2   1  38\n21        2      Real Madrid    Spain  17  11  3   3  36\n22        3       Villarreal    Spain  18   8  8   2  32\n23        4        Barcelona    Spain  17   9  4   4  31\n24        5    Real Sociedad    Spain  18   8  6   4  30\n25        6          Sevilla    Spain  15   8  3   4  27\n26        7          Granada    Spain  16   7  3   6  24\n27        8       Celta Vigo    Spain  18   6  5   7  23\n28        9      Ath. Bilbao    Spain  18   6  3   9  21\n29       10            Cadiz    Spain  17   5  5   7  20\n30       11            Betis    Spain  17   6  2   9  20\n31       12            Eibar    Spain  17   4  7   6  19\n32       13          Levante    Spain  16   4  6   6  18\n33       14           Alaves    Spain  17   4  6   7  18\n34       15       Valladolid    Spain  17   4  6   7  18\n35       16           Getafe    Spain  16   4  5   7  17\n36       17         Valencia    Spain  17   3  7   7  16\n37       18            Elche    Spain  15   3  7   5  16\n38       19          Osasuna    Spain  16   3  5   8  14\n39       20           Huesca    Spain  17   1  9   7  12\n40        1         AC Milan    Italy  16  11  4   1  37\n41        2            Inter    Italy  16  11  3   2  36\n42        3          AS Roma    Italy  16  10  3   3  33\n43        4         Juventus    Italy  15   8  6   1  30\n44        5         Sassuolo    Italy  16   8  5   3  29\n45        6           Napoli    Italy  15   9  1   5  28\n46        7         Atalanta    Italy  15   8  4   3  28\n47        8            Lazio    Italy  16   7  4   5  25\n48        9           Verona    Italy  16   6  6   4  24\n49       10        Benevento    Italy  16   6  3   7  21\n50       11        Sampdoria    Italy  16   6  2   8  20\n51       12          Bologna    Italy  16   4  5   7  17\n52       13          Udinese    Italy  15   4  4   7  16\n53       14       Fiorentina    Italy  16   3  6   7  15\n54       15         Cagliari    Italy  16   3  5   8  14\n55       16           Spezia    Italy  16   3  5   8  14\n56       17           Torino    Italy  16   2  6   8  12\n57       18            Parma    Italy  16   2  6   8  12\n58       19            Genoa    Italy  16   2  5   9  11\n59       20          Crotone    Italy  16   2  3  11   9",
      "text/html": "<div>\n<style scoped>\n    .dataframe tbody tr th:only-of-type {\n        vertical-align: middle;\n    }\n\n    .dataframe tbody tr th {\n        vertical-align: top;\n    }\n\n    .dataframe thead th {\n        text-align: right;\n    }\n</style>\n<table border=\"1\" class=\"dataframe\">\n  <thead>\n    <tr style=\"text-align: right;\">\n      <th></th>\n      <th>Ranking</th>\n      <th>Team</th>\n      <th>League</th>\n      <th>MP</th>\n      <th>W</th>\n      <th>D</th>\n      <th>L</th>\n      <th>Pts</th>\n    </tr>\n  </thead>\n  <tbody>\n    <tr>\n      <th>0</th>\n      <td>1</td>\n      <td>Liverpool</td>\n      <td>England</td>\n      <td>17</td>\n      <td>9</td>\n      <td>6</td>\n      <td>2</td>\n      <td>33</td>\n    </tr>\n    <tr>\n      <th>1</th>\n      <td>2</td>\n      <td>Manchester Utd</td>\n      <td>England</td>\n      <td>16</td>\n      <td>10</td>\n      <td>3</td>\n      <td>3</td>\n      <td>33</td>\n    </tr>\n    <tr>\n      <th>2</th>\n      <td>3</td>\n      <td>Leicester</td>\n      <td>England</td>\n      <td>17</td>\n      <td>10</td>\n      <td>2</td>\n      <td>5</td>\n      <td>32</td>\n    </tr>\n    <tr>\n      <th>3</th>\n      <td>4</td>\n      <td>Tottenham</td>\n      <td>England</td>\n      <td>16</td>\n      <td>8</td>\n      <td>5</td>\n      <td>3</td>\n      <td>29</td>\n    </tr>\n    <tr>\n      <th>4</th>\n      <td>5</td>\n      <td>Manchester City</td>\n      <td>England</td>\n      <td>15</td>\n      <td>8</td>\n      <td>5</td>\n      <td>2</td>\n      <td>29</td>\n    </tr>\n    <tr>\n      <th>5</th>\n      <td>6</td>\n      <td>Southampton</td>\n      <td>England</td>\n      <td>17</td>\n      <td>8</td>\n      <td>5</td>\n      <td>4</td>\n      <td>29</td>\n    </tr>\n    <tr>\n      <th>6</th>\n      <td>7</td>\n      <td>Everton</td>\n      <td>England</td>\n      <td>16</td>\n      <td>9</td>\n      <td>2</td>\n      <td>5</td>\n      <td>29</td>\n    </tr>\n    <tr>\n      <th>7</th>\n      <td>8</td>\n      <td>Aston Villa</td>\n      <td>England</td>\n      <td>15</td>\n      <td>8</td>\n      <td>2</td>\n      <td>5</td>\n      <td>26</td>\n    </tr>\n    <tr>\n      <th>8</th>\n      <td>9</td>\n      <td>Chelsea</td>\n      <td>England</td>\n      <td>17</td>\n      <td>7</td>\n      <td>5</td>\n      <td>5</td>\n      <td>26</td>\n    </tr>\n    <tr>\n      <th>9</th>\n      <td>10</td>\n      <td>West Ham</td>\n      <td>England</td>\n      <td>17</td>\n      <td>7</td>\n      <td>5</td>\n      <td>5</td>\n      <td>26</td>\n    </tr>\n    <tr>\n      <th>10</th>\n      <td>11</td>\n      <td>Arsenal</td>\n      <td>England</td>\n      <td>17</td>\n      <td>7</td>\n      <td>2</td>\n      <td>8</td>\n      <td>23</td>\n    </tr>\n    <tr>\n      <th>11</th>\n      <td>12</td>\n      <td>Leeds</td>\n      <td>England</td>\n      <td>17</td>\n      <td>7</td>\n      <td>2</td>\n      <td>8</td>\n      <td>23</td>\n    </tr>\n    <tr>\n      <th>12</th>\n      <td>13</td>\n      <td>Wolves</td>\n      <td>England</td>\n      <td>17</td>\n      <td>6</td>\n      <td>4</td>\n      <td>7</td>\n      <td>22</td>\n    </tr>\n    <tr>\n      <th>13</th>\n      <td>14</td>\n      <td>Crystal Palace</td>\n      <td>England</td>\n      <td>17</td>\n      <td>6</td>\n      <td>4</td>\n      <td>7</td>\n      <td>22</td>\n    </tr>\n    <tr>\n      <th>14</th>\n      <td>15</td>\n      <td>Newcastle</td>\n      <td>England</td>\n      <td>16</td>\n      <td>5</td>\n      <td>4</td>\n      <td>7</td>\n      <td>19</td>\n    </tr>\n    <tr>\n      <th>15</th>\n      <td>16</td>\n      <td>Burnley</td>\n      <td>England</td>\n      <td>15</td>\n      <td>4</td>\n      <td>4</td>\n      <td>7</td>\n      <td>16</td>\n    </tr>\n    <tr>\n      <th>16</th>\n      <td>17</td>\n      <td>Brighton</td>\n      <td>England</td>\n      <td>17</td>\n      <td>2</td>\n      <td>8</td>\n      <td>7</td>\n      <td>14</td>\n    </tr>\n    <tr>\n      <th>17</th>\n      <td>18</td>\n      <td>Fulham</td>\n      <td>England</td>\n      <td>15</td>\n      <td>2</td>\n      <td>5</td>\n      <td>8</td>\n      <td>11</td>\n    </tr>\n    <tr>\n      <th>18</th>\n      <td>19</td>\n      <td>West Brom</td>\n      <td>England</td>\n      <td>17</td>\n      <td>1</td>\n      <td>5</td>\n      <td>11</td>\n      <td>8</td>\n    </tr>\n    <tr>\n      <th>19</th>\n      <td>20</td>\n      <td>Sheffield Utd</td>\n      <td>England</td>\n      <td>17</td>\n      <td>0</td>\n      <td>2</td>\n      <td>15</td>\n      <td>2</td>\n    </tr>\n    <tr>\n      <th>20</th>\n      <td>1</td>\n      <td>Atl. Madrid</td>\n      <td>Spain</td>\n      <td>15</td>\n      <td>12</td>\n      <td>2</td>\n      <td>1</td>\n      <td>38</td>\n    </tr>\n    <tr>\n      <th>21</th>\n      <td>2</td>\n      <td>Real Madrid</td>\n      <td>Spain</td>\n      <td>17</td>\n      <td>11</td>\n      <td>3</td>\n      <td>3</td>\n      <td>36</td>\n    </tr>\n    <tr>\n      <th>22</th>\n      <td>3</td>\n      <td>Villarreal</td>\n      <td>Spain</td>\n      <td>18</td>\n      <td>8</td>\n      <td>8</td>\n      <td>2</td>\n      <td>32</td>\n    </tr>\n    <tr>\n      <th>23</th>\n      <td>4</td>\n      <td>Barcelona</td>\n      <td>Spain</td>\n      <td>17</td>\n      <td>9</td>\n      <td>4</td>\n      <td>4</td>\n      <td>31</td>\n    </tr>\n    <tr>\n      <th>24</th>\n      <td>5</td>\n      <td>Real Sociedad</td>\n      <td>Spain</td>\n      <td>18</td>\n      <td>8</td>\n      <td>6</td>\n      <td>4</td>\n      <td>30</td>\n    </tr>\n    <tr>\n      <th>25</th>\n      <td>6</td>\n      <td>Sevilla</td>\n      <td>Spain</td>\n      <td>15</td>\n      <td>8</td>\n      <td>3</td>\n      <td>4</td>\n      <td>27</td>\n    </tr>\n    <tr>\n      <th>26</th>\n      <td>7</td>\n      <td>Granada</td>\n      <td>Spain</td>\n      <td>16</td>\n      <td>7</td>\n      <td>3</td>\n      <td>6</td>\n      <td>24</td>\n    </tr>\n    <tr>\n      <th>27</th>\n      <td>8</td>\n      <td>Celta Vigo</td>\n      <td>Spain</td>\n      <td>18</td>\n      <td>6</td>\n      <td>5</td>\n      <td>7</td>\n      <td>23</td>\n    </tr>\n    <tr>\n      <th>28</th>\n      <td>9</td>\n      <td>Ath. Bilbao</td>\n      <td>Spain</td>\n      <td>18</td>\n      <td>6</td>\n      <td>3</td>\n      <td>9</td>\n      <td>21</td>\n    </tr>\n    <tr>\n      <th>29</th>\n      <td>10</td>\n      <td>Cadiz</td>\n      <td>Spain</td>\n      <td>17</td>\n      <td>5</td>\n      <td>5</td>\n      <td>7</td>\n      <td>20</td>\n    </tr>\n    <tr>\n      <th>30</th>\n      <td>11</td>\n      <td>Betis</td>\n      <td>Spain</td>\n      <td>17</td>\n      <td>6</td>\n      <td>2</td>\n      <td>9</td>\n      <td>20</td>\n    </tr>\n    <tr>\n      <th>31</th>\n      <td>12</td>\n      <td>Eibar</td>\n      <td>Spain</td>\n      <td>17</td>\n      <td>4</td>\n      <td>7</td>\n      <td>6</td>\n      <td>19</td>\n    </tr>\n    <tr>\n      <th>32</th>\n      <td>13</td>\n      <td>Levante</td>\n      <td>Spain</td>\n      <td>16</td>\n      <td>4</td>\n      <td>6</td>\n      <td>6</td>\n      <td>18</td>\n    </tr>\n    <tr>\n      <th>33</th>\n      <td>14</td>\n      <td>Alaves</td>\n      <td>Spain</td>\n      <td>17</td>\n      <td>4</td>\n      <td>6</td>\n      <td>7</td>\n      <td>18</td>\n    </tr>\n    <tr>\n      <th>34</th>\n      <td>15</td>\n      <td>Valladolid</td>\n      <td>Spain</td>\n      <td>17</td>\n      <td>4</td>\n      <td>6</td>\n      <td>7</td>\n      <td>18</td>\n    </tr>\n    <tr>\n      <th>35</th>\n      <td>16</td>\n      <td>Getafe</td>\n      <td>Spain</td>\n      <td>16</td>\n      <td>4</td>\n      <td>5</td>\n      <td>7</td>\n      <td>17</td>\n    </tr>\n    <tr>\n      <th>36</th>\n      <td>17</td>\n      <td>Valencia</td>\n      <td>Spain</td>\n      <td>17</td>\n      <td>3</td>\n      <td>7</td>\n      <td>7</td>\n      <td>16</td>\n    </tr>\n    <tr>\n      <th>37</th>\n      <td>18</td>\n      <td>Elche</td>\n      <td>Spain</td>\n      <td>15</td>\n      <td>3</td>\n      <td>7</td>\n      <td>5</td>\n      <td>16</td>\n    </tr>\n    <tr>\n      <th>38</th>\n      <td>19</td>\n      <td>Osasuna</td>\n      <td>Spain</td>\n      <td>16</td>\n      <td>3</td>\n      <td>5</td>\n      <td>8</td>\n      <td>14</td>\n    </tr>\n    <tr>\n      <th>39</th>\n      <td>20</td>\n      <td>Huesca</td>\n      <td>Spain</td>\n      <td>17</td>\n      <td>1</td>\n      <td>9</td>\n      <td>7</td>\n      <td>12</td>\n    </tr>\n    <tr>\n      <th>40</th>\n      <td>1</td>\n      <td>AC Milan</td>\n      <td>Italy</td>\n      <td>16</td>\n      <td>11</td>\n      <td>4</td>\n      <td>1</td>\n      <td>37</td>\n    </tr>\n    <tr>\n      <th>41</th>\n      <td>2</td>\n      <td>Inter</td>\n      <td>Italy</td>\n      <td>16</td>\n      <td>11</td>\n      <td>3</td>\n      <td>2</td>\n      <td>36</td>\n    </tr>\n    <tr>\n      <th>42</th>\n      <td>3</td>\n      <td>AS Roma</td>\n      <td>Italy</td>\n      <td>16</td>\n      <td>10</td>\n      <td>3</td>\n      <td>3</td>\n      <td>33</td>\n    </tr>\n    <tr>\n      <th>43</th>\n      <td>4</td>\n      <td>Juventus</td>\n      <td>Italy</td>\n      <td>15</td>\n      <td>8</td>\n      <td>6</td>\n      <td>1</td>\n      <td>30</td>\n    </tr>\n    <tr>\n      <th>44</th>\n      <td>5</td>\n      <td>Sassuolo</td>\n      <td>Italy</td>\n      <td>16</td>\n      <td>8</td>\n      <td>5</td>\n      <td>3</td>\n      <td>29</td>\n    </tr>\n    <tr>\n      <th>45</th>\n      <td>6</td>\n      <td>Napoli</td>\n      <td>Italy</td>\n      <td>15</td>\n      <td>9</td>\n      <td>1</td>\n      <td>5</td>\n      <td>28</td>\n    </tr>\n    <tr>\n      <th>46</th>\n      <td>7</td>\n      <td>Atalanta</td>\n      <td>Italy</td>\n      <td>15</td>\n      <td>8</td>\n      <td>4</td>\n      <td>3</td>\n      <td>28</td>\n    </tr>\n    <tr>\n      <th>47</th>\n      <td>8</td>\n      <td>Lazio</td>\n      <td>Italy</td>\n      <td>16</td>\n      <td>7</td>\n      <td>4</td>\n      <td>5</td>\n      <td>25</td>\n    </tr>\n    <tr>\n      <th>48</th>\n      <td>9</td>\n      <td>Verona</td>\n      <td>Italy</td>\n      <td>16</td>\n      <td>6</td>\n      <td>6</td>\n      <td>4</td>\n      <td>24</td>\n    </tr>\n    <tr>\n      <th>49</th>\n      <td>10</td>\n      <td>Benevento</td>\n      <td>Italy</td>\n      <td>16</td>\n      <td>6</td>\n      <td>3</td>\n      <td>7</td>\n      <td>21</td>\n    </tr>\n    <tr>\n      <th>50</th>\n      <td>11</td>\n      <td>Sampdoria</td>\n      <td>Italy</td>\n      <td>16</td>\n      <td>6</td>\n      <td>2</td>\n      <td>8</td>\n      <td>20</td>\n    </tr>\n    <tr>\n      <th>51</th>\n      <td>12</td>\n      <td>Bologna</td>\n      <td>Italy</td>\n      <td>16</td>\n      <td>4</td>\n      <td>5</td>\n      <td>7</td>\n      <td>17</td>\n    </tr>\n    <tr>\n      <th>52</th>\n      <td>13</td>\n      <td>Udinese</td>\n      <td>Italy</td>\n      <td>15</td>\n      <td>4</td>\n      <td>4</td>\n      <td>7</td>\n      <td>16</td>\n    </tr>\n    <tr>\n      <th>53</th>\n      <td>14</td>\n      <td>Fiorentina</td>\n      <td>Italy</td>\n      <td>16</td>\n      <td>3</td>\n      <td>6</td>\n      <td>7</td>\n      <td>15</td>\n    </tr>\n    <tr>\n      <th>54</th>\n      <td>15</td>\n      <td>Cagliari</td>\n      <td>Italy</td>\n      <td>16</td>\n      <td>3</td>\n      <td>5</td>\n      <td>8</td>\n      <td>14</td>\n    </tr>\n    <tr>\n      <th>55</th>\n      <td>16</td>\n      <td>Spezia</td>\n      <td>Italy</td>\n      <td>16</td>\n      <td>3</td>\n      <td>5</td>\n      <td>8</td>\n      <td>14</td>\n    </tr>\n    <tr>\n      <th>56</th>\n      <td>17</td>\n      <td>Torino</td>\n      <td>Italy</td>\n      <td>16</td>\n      <td>2</td>\n      <td>6</td>\n      <td>8</td>\n      <td>12</td>\n    </tr>\n    <tr>\n      <th>57</th>\n      <td>18</td>\n      <td>Parma</td>\n      <td>Italy</td>\n      <td>16</td>\n      <td>2</td>\n      <td>6</td>\n      <td>8</td>\n      <td>12</td>\n    </tr>\n    <tr>\n      <th>58</th>\n      <td>19</td>\n      <td>Genoa</td>\n      <td>Italy</td>\n      <td>16</td>\n      <td>2</td>\n      <td>5</td>\n      <td>9</td>\n      <td>11</td>\n    </tr>\n    <tr>\n      <th>59</th>\n      <td>20</td>\n      <td>Crotone</td>\n      <td>Italy</td>\n      <td>16</td>\n      <td>2</td>\n      <td>3</td>\n      <td>11</td>\n      <td>9</td>\n    </tr>\n  </tbody>\n</table>\n</div>"
     },
     "metadata": {},
     "execution_count": 33
    }
   ],
   "source": [
    "import pandas as pd\n",
    "pd.DataFrame(tablep)"
   ]
  },
  {
   "cell_type": "code",
   "execution_count": null,
   "metadata": {},
   "outputs": [],
   "source": []
  }
 ]
}