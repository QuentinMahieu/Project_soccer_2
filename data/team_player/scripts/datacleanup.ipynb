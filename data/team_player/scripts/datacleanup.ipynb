{
 "metadata": {
  "language_info": {
   "codemirror_mode": {
    "name": "ipython",
    "version": 3
   },
   "file_extension": ".py",
   "mimetype": "text/x-python",
   "name": "python",
   "nbconvert_exporter": "python",
   "pygments_lexer": "ipython3",
   "version": "3.6.10-final"
  },
  "orig_nbformat": 2,
  "kernelspec": {
   "name": "python_defaultSpec_1608351396001",
   "display_name": "Python 3.6.10 64-bit"
  }
 },
 "nbformat": 4,
 "nbformat_minor": 2,
 "cells": [
  {
   "cell_type": "code",
   "execution_count": 1,
   "metadata": {
    "tags": []
   },
   "outputs": [],
   "source": [
    "#Import the modules\n",
    "import pandas as pd\n",
    "pd.set_option('display.max_columns', None)\n",
    "# file paths to files\n",
    "#players\n",
    "path_2015 = \"../raw/players_15.csv\"\n",
    "path_2016 = \"../raw/players_16.csv\"\n",
    "path_2017 = \"../raw/players_17.csv\"\n",
    "path_2018 = \"../raw/players_18.csv\"\n",
    "path_2019 = \"../raw/players_19.csv\"\n",
    "path_2020 = \"../raw/players_20.csv\"\n",
    "paths = [path_2015, path_2016,path_2017,path_2018,path_2019,path_2020]\n",
    "#teams\n",
    "path_teams = \"../raw/big_five_1995-2019.csv\""
   ]
  },
  {
   "cell_type": "code",
   "execution_count": 2,
   "metadata": {
    "tags": []
   },
   "outputs": [
    {
     "output_type": "stream",
     "name": "stdout",
     "text": "['ENG' 'ESP' 'FR' 'GER' 'IT']\n"
    },
    {
     "output_type": "execute_result",
     "data": {
      "text/plain": "     Year              Teams  Points  Goals+  Goals-\n100  2019          Liverpool      82      40      12\n116  2019    Manchester City      57      33      12\n107  2019     Leicester City      53      30      15\n118  2019            Chelsea      48      22      15\n109  2019  Manchester United      45      29      12",
      "text/html": "<div>\n<style scoped>\n    .dataframe tbody tr th:only-of-type {\n        vertical-align: middle;\n    }\n\n    .dataframe tbody tr th {\n        vertical-align: top;\n    }\n\n    .dataframe thead th {\n        text-align: right;\n    }\n</style>\n<table border=\"1\" class=\"dataframe\">\n  <thead>\n    <tr style=\"text-align: right;\">\n      <th></th>\n      <th>Year</th>\n      <th>Teams</th>\n      <th>Points</th>\n      <th>Goals+</th>\n      <th>Goals-</th>\n    </tr>\n  </thead>\n  <tbody>\n    <tr>\n      <th>100</th>\n      <td>2019</td>\n      <td>Liverpool</td>\n      <td>82</td>\n      <td>40</td>\n      <td>12</td>\n    </tr>\n    <tr>\n      <th>116</th>\n      <td>2019</td>\n      <td>Manchester City</td>\n      <td>57</td>\n      <td>33</td>\n      <td>12</td>\n    </tr>\n    <tr>\n      <th>107</th>\n      <td>2019</td>\n      <td>Leicester City</td>\n      <td>53</td>\n      <td>30</td>\n      <td>15</td>\n    </tr>\n    <tr>\n      <th>118</th>\n      <td>2019</td>\n      <td>Chelsea</td>\n      <td>48</td>\n      <td>22</td>\n      <td>15</td>\n    </tr>\n    <tr>\n      <th>109</th>\n      <td>2019</td>\n      <td>Manchester United</td>\n      <td>45</td>\n      <td>29</td>\n      <td>12</td>\n    </tr>\n  </tbody>\n</table>\n</div>"
     },
     "metadata": {},
     "execution_count": 2
    }
   ],
   "source": [
    "#read the team file to focus on the 3 leagues we want to analyse\n",
    "teams = pd.read_csv(path_teams)\n",
    "\n",
    "#find the 3 leagues for 2015 to 2019\n",
    "country_code = teams[\"Country\"].unique()\n",
    "print(country_code)\n",
    "years = [2014,2015,2016,2017,2018,2019]\n",
    "teams = teams[(teams[\"Country\"].isin([\"ENG\",\"ESP\",\"IT\"]))& (\n",
    "                    teams[\"Year\"].isin(years))]\n",
    "\n",
    "teams = teams[['Team 1','Team 2', 'Year', 'Country',\"FT Team 1\",\"FT Team 2\",'Team 1 (pts)', 'Team 2 (pts)']]\n",
    "\n",
    "eng_teams = teams[teams[\"Country\"]== \"ENG\"]\n",
    "it_teams = teams[teams[\"Country\"]== \"IT\"]\n",
    "spain_teams = teams[teams[\"Country\"]== \"ESP\"]\n",
    "\n",
    "def rankingteams(teams):\n",
    "    ranking = {}\n",
    "    for year in years:\n",
    "        a = teams[teams[\"Year\"]==year]\n",
    "        list = a[\"Team 1\"].unique()\n",
    "        points = [0]*len(list)\n",
    "        goalsp = [0]*len(list)\n",
    "        goalsn = [0]*len(list)\n",
    "        for index,team in enumerate(list):\n",
    "            points[index] += a[a[\"Team 1\"]==team][\"Team 1 (pts)\"].sum()\n",
    "            points[index] += a[a[\"Team 2\"]==team][\"Team 2 (pts)\"].sum()\n",
    "            goalsp[index] += a[a[\"Team 1\"]==team][\"FT Team 1\"].sum()\n",
    "            goalsn[index] += a[a[\"Team 1\"]==team][\"FT Team 2\"].sum()\n",
    "            ranking.setdefault(f\"Year\",[]).append(year)\n",
    "            ranking.setdefault(f\"Teams\",[]).append(team)\n",
    "            ranking.setdefault(f\"Points\",[]).append(points[index])\n",
    "            ranking.setdefault(f\"Goals+\",[]).append(goalsp[index])\n",
    "            ranking.setdefault(f\"Goals-\",[]).append(goalsn[index])\n",
    "    return pd.DataFrame(ranking)\n",
    "ranking_it_df = rankingteams(it_teams)\n",
    "ranking_eng_df = rankingteams(eng_teams)\n",
    "ranking_spain_df = rankingteams(spain_teams)\n",
    "# Ranking england and some preparation to match the teams in the other dataframes\n",
    "ranking_eng_df[\"Teams\"] = ranking_eng_df[\"Teams\"].str.replace(\"\\s$\",\"\")\n",
    "ranking_eng_df[\"Teams\"] = ranking_eng_df[\"Teams\"].str.replace(\"\\s+FC\", \"\")\n",
    "ranking_eng_df[\"Teams\"] = ranking_eng_df[\"Teams\"].str.replace(\"\\s+AFC\", \"\")\n",
    "ranking_eng_df[\"Teams\"] = ranking_eng_df[\"Teams\"].str.replace(\"^AFC\\s\", \"\")\n",
    "ranking_eng_df.sort_values([\"Year\",\"Points\"], ascending = False).head()"
   ]
  },
  {
   "cell_type": "code",
   "execution_count": 3,
   "metadata": {
    "tags": []
   },
   "outputs": [
    {
     "output_type": "execute_result",
     "data": {
      "text/plain": "     Year                     Teams  Points  Goals+  Goals-\n112  2019                  Juventus      63      31      10\n113  2019                  SS Lazio      62      39      10\n109  2019  FC Internazionale Milano      54      23      10\n114  2019                  Atalanta      48      33      19\n104  2019                   AS Roma      45      26      19",
      "text/html": "<div>\n<style scoped>\n    .dataframe tbody tr th:only-of-type {\n        vertical-align: middle;\n    }\n\n    .dataframe tbody tr th {\n        vertical-align: top;\n    }\n\n    .dataframe thead th {\n        text-align: right;\n    }\n</style>\n<table border=\"1\" class=\"dataframe\">\n  <thead>\n    <tr style=\"text-align: right;\">\n      <th></th>\n      <th>Year</th>\n      <th>Teams</th>\n      <th>Points</th>\n      <th>Goals+</th>\n      <th>Goals-</th>\n    </tr>\n  </thead>\n  <tbody>\n    <tr>\n      <th>112</th>\n      <td>2019</td>\n      <td>Juventus</td>\n      <td>63</td>\n      <td>31</td>\n      <td>10</td>\n    </tr>\n    <tr>\n      <th>113</th>\n      <td>2019</td>\n      <td>SS Lazio</td>\n      <td>62</td>\n      <td>39</td>\n      <td>10</td>\n    </tr>\n    <tr>\n      <th>109</th>\n      <td>2019</td>\n      <td>FC Internazionale Milano</td>\n      <td>54</td>\n      <td>23</td>\n      <td>10</td>\n    </tr>\n    <tr>\n      <th>114</th>\n      <td>2019</td>\n      <td>Atalanta</td>\n      <td>48</td>\n      <td>33</td>\n      <td>19</td>\n    </tr>\n    <tr>\n      <th>104</th>\n      <td>2019</td>\n      <td>AS Roma</td>\n      <td>45</td>\n      <td>26</td>\n      <td>19</td>\n    </tr>\n  </tbody>\n</table>\n</div>"
     },
     "metadata": {},
     "execution_count": 3
    }
   ],
   "source": [
    "#ranking Italy, clean and export\n",
    "ranking_it_df[\"Teams\"] = ranking_it_df[\"Teams\"].str.replace(\"\\s$\",\"\")\n",
    "ranking_it_df[\"Teams\"] = ranking_it_df[\"Teams\"].str.replace(\"\\s+FC\", \"\")\n",
    "ranking_it_df[\"Teams\"] = ranking_it_df[\"Teams\"].str.replace(\"\\s+BC\", \"\")\n",
    "ranking_it_df[\"Teams\"] = ranking_it_df[\"Teams\"].str.replace(\"\\s+CFC\", \"\")\n",
    "ranking_it_df[\"Teams\"] = ranking_it_df[\"Teams\"].str.replace(\"^\\s?UC\", \"\")\n",
    "ranking_it_df[\"Teams\"] = ranking_it_df[\"Teams\"].str.replace(\"^\\s?US\", \"\")\n",
    "ranking_it_df[\"Teams\"] = ranking_it_df[\"Teams\"].str.replace(\"^\\s?SSC\\s?\", \"\")\n",
    "ranking_it_df[\"Teams\"] = ranking_it_df[\"Teams\"].str.replace(\"^\\s?\",\"\")\n",
    "ranking_it_df.sort_values([\"Year\",\"Points\"], ascending = False).head()"
   ]
  },
  {
   "cell_type": "code",
   "execution_count": 4,
   "metadata": {
    "tags": []
   },
   "outputs": [
    {
     "output_type": "execute_result",
     "data": {
      "text/plain": "     Year          Teams  Points  Goals+  Goals-\n115  2019   FC Barcelona      58      45      12\n113  2019    Real Madrid      56      27       9\n116  2019     Sevilla FC      47      19      13\n114  2019      Getafe CF      46      21      13\n117  2019  Real Sociedad      46      27      12",
      "text/html": "<div>\n<style scoped>\n    .dataframe tbody tr th:only-of-type {\n        vertical-align: middle;\n    }\n\n    .dataframe tbody tr th {\n        vertical-align: top;\n    }\n\n    .dataframe thead th {\n        text-align: right;\n    }\n</style>\n<table border=\"1\" class=\"dataframe\">\n  <thead>\n    <tr style=\"text-align: right;\">\n      <th></th>\n      <th>Year</th>\n      <th>Teams</th>\n      <th>Points</th>\n      <th>Goals+</th>\n      <th>Goals-</th>\n    </tr>\n  </thead>\n  <tbody>\n    <tr>\n      <th>115</th>\n      <td>2019</td>\n      <td>FC Barcelona</td>\n      <td>58</td>\n      <td>45</td>\n      <td>12</td>\n    </tr>\n    <tr>\n      <th>113</th>\n      <td>2019</td>\n      <td>Real Madrid</td>\n      <td>56</td>\n      <td>27</td>\n      <td>9</td>\n    </tr>\n    <tr>\n      <th>116</th>\n      <td>2019</td>\n      <td>Sevilla FC</td>\n      <td>47</td>\n      <td>19</td>\n      <td>13</td>\n    </tr>\n    <tr>\n      <th>114</th>\n      <td>2019</td>\n      <td>Getafe CF</td>\n      <td>46</td>\n      <td>21</td>\n      <td>13</td>\n    </tr>\n    <tr>\n      <th>117</th>\n      <td>2019</td>\n      <td>Real Sociedad</td>\n      <td>46</td>\n      <td>27</td>\n      <td>12</td>\n    </tr>\n  </tbody>\n</table>\n</div>"
     },
     "metadata": {},
     "execution_count": 4
    }
   ],
   "source": [
    "#ranking Spain\n",
    "ranking_spain_df[\"Teams\"] = ranking_spain_df[\"Teams\"].str.replace(\"\\s$\",\"\")\n",
    "ranking_spain_df.sort_values([\"Year\",\"Points\"], ascending = False).head()"
   ]
  },
  {
   "cell_type": "code",
   "execution_count": 5,
   "metadata": {},
   "outputs": [],
   "source": [
    "def playersfunc(filepath,year):\n",
    "    players_df = pd.read_csv(filepath)\n",
    "    players_df = players_df[['short_name','age','height_cm','weight_kg','nationality','club','value_eur','overall',\"wage_eur\"]]\n",
    "    players_df = players_df.rename({\"club\":\"Teams\"},axis=1)\n",
    "    f = {\"age\":\"mean\", \"height_cm\":\"mean\",\"weight_kg\":\"mean\",\"overall\":\"mean\",\"value_eur\":\"mean\",\"wage_eur\":\"mean\"}\n",
    "    players_df = players_df.groupby(\"Teams\").agg(f)\n",
    "    players_df[\"Year\"]= int(year)\n",
    "    players_df = players_df.reset_index()\n",
    "    return cleanup(players_df)\n",
    "def cleanup(df):\n",
    "    df[\"Teams\"] = df[\"Teams\"].str.replace(\"RC Celta\", \"RC Celta Vigo\")\n",
    "    df[\"Teams\"] = df[\"Teams\"].str.replace(\"Real Sporting de Gijón\", \"Sporting Gijón\")\n",
    "    df[\"Teams\"] = df[\"Teams\"].str.replace(\"Athletic Club de Bilbao\", \"Athletic Club Bilbao\")\n",
    "    df[\"Teams\"] = df[\"Teams\"].str.replace(\"Deportivo de La Coruña\", \"RCD La Coruña\")\n",
    "    df[\"Teams\"] = df[\"Teams\"].str.replace(\"Milan\", \"AC Milan\")\n",
    "    df[\"Teams\"] = df[\"Teams\"].str.replace(\"Lazio\", \"SS Lazio\")\n",
    "    df[\"Teams\"] = df[\"Teams\"].str.replace(\"Fiorentina\", \"ACF Fiorentina\")\n",
    "    df[\"Teams\"] = df[\"Teams\"].str.replace(\"Inter\", \"FC Internazionale Milano\")\n",
    "    df[\"Teams\"] = df[\"Teams\"].str.replace(\"Sassuolo\", \"Sassuolo Calcio\")\n",
    "    df[\"Teams\"] = df[\"Teams\"].str.replace(\"Chievo Verona\", \"AC Chievo Verona\")\n",
    "    df[\"Teams\"] = df[\"Teams\"].str.replace(\"Roma\", \"AS Roma\")\n",
    "    df[\"Teams\"] = df[\"Teams\"].str.replace(\"Udinese\", \"Udinese Calcio\")\n",
    "    df[\"Teams\"] = df[\"Teams\"].str.replace(\"Cagliari\", \"Cagliari Calcio\")\n",
    "    df[\"Teams\"] = df[\"Teams\"].str.replace(\"Crotone\", \"FC Crotone\")\n",
    "    return df"
   ]
  },
  {
   "cell_type": "code",
   "execution_count": 6,
   "metadata": {},
   "outputs": [],
   "source": [
    "players_df_2014 = playersfunc(path_2015,2014)\n",
    "players_df_2015 = playersfunc(path_2016,2015)\n",
    "players_df_2016 = playersfunc(path_2017,2016)\n",
    "players_df_2017 = playersfunc(path_2018,2017)\n",
    "players_df_2018 = playersfunc(path_2019,2018)\n",
    "players_df_2019 = playersfunc(path_2020,2019)"
   ]
  },
  {
   "cell_type": "code",
   "execution_count": 7,
   "metadata": {},
   "outputs": [],
   "source": [
    "#append the lists to have 1 data frame\n",
    "players_data = players_df_2014.append([players_df_2015,players_df_2016,players_df_2017,players_df_2018,players_df_2019])"
   ]
  },
  {
   "cell_type": "code",
   "execution_count": 8,
   "metadata": {
    "tags": []
   },
   "outputs": [],
   "source": [
    "#merging with the 3 different competitions\n",
    "eng_df = ranking_eng_df.merge(players_data,on=[\"Year\",\"Teams\"],how = \"left\")\n",
    "it_df = ranking_it_df.merge(players_data,on=[\"Year\",\"Teams\"],how = \"left\")\n",
    "spain_df = ranking_spain_df.merge(players_data,on=[\"Year\",\"Teams\"],how = \"left\")\n",
    "#update the latest data\n",
    "eng_df.iloc[-20:,2] = [99,39,34,54,43,34,59,62,44,66,56,35,41,49,21,52,81,54,66,59]\n",
    "eng_df.iloc[-20:,3] = [85,49,40,43,31,36,61,67,38,66,56,41,39,44,26,51,102,39,69,51]\n",
    "eng_df.iloc[-20:,4] = [33,62,65,50,50,64,47,41,58,36,48,67,54,56,75,60,35,39,54,40]\n",
    "spain_df.iloc[-20:,2] = [51,37,53,33,36,60,39,25,41,70,56,49,52,87,54,82,70,56,42,42]\n",
    "spain_df.iloc[-20:,3] = [41,37,46,40,30,63,34,27,48,51,52,47,46,70,43,86,54,56,39,32]\n",
    "spain_df.iloc[-20:,4] = [38,49,53,65,51,49,59,59,60,27,45,53,54,25,37,38,34,48,56,43]\n",
    "it_df.iloc[-20:,2] = [49,49,45,45,70,42,20,40,49,82,47,66,83,78,78,39,35,51,62,25]\n",
    "it_df.iloc[-20:,3] = [56,51,37,52,77,48,27,46,47,81,52,63,76,79,98,47,52,69,61,35]\n",
    "it_df.iloc[-20:,4] = [57,48,51,56,51,65,70,68,51,36,65,46,43,42,48,73,85,63,50,79]"
   ]
  },
  {
   "cell_type": "code",
   "execution_count": 9,
   "metadata": {},
   "outputs": [],
   "source": [
    "#rounding the columns to make it more readable\n",
    "list_df = [eng_df,spain_df,it_df]\n",
    "for df in list_df:\n",
    "    df[\"age\"] = df[\"age\"].map(lambda x: round(x,2))\n",
    "    df[\"height_cm\"] = df[\"height_cm\"].map(lambda x: round(x,2))\n",
    "    df[\"weight_kg\"] = df[\"weight_kg\"].map(lambda x: round(x,2))\n",
    "    df[\"overall\"] = df[\"overall\"].map(lambda x: round(x,2))\n",
    "    df[\"value_eur\"] = df[\"value_eur\"].astype('int').map(lambda x: round(x))\n",
    "    df[\"wage_eur\"] = df[\"wage_eur\"].map(lambda x: round(x))\n",
    "    df.rename(columns={\"age\": \"avg age\",\"height_cm\":\"avg heights (cm)\",\"weight_kg\":\"avg weight (kg)\",\"overall\":\"avg player rating\",\"value_eur\": \"avg player value (EU)\",\"wage_eur\":\"avg player wage\"},inplace=True)"
   ]
  },
  {
   "cell_type": "code",
   "execution_count": 10,
   "metadata": {},
   "outputs": [],
   "source": [
    "#export to csv\n",
    "spain_df.to_csv(\"../cleaned/spainranking.csv\")\n",
    "it_df.to_csv(\"../cleaned/itranking.csv\")\n",
    "eng_df.to_csv(\"../cleaned/engranking.csv\")"
   ]
  },
  {
   "cell_type": "code",
   "execution_count": null,
   "metadata": {},
   "outputs": [],
   "source": []
  }
 ]
}