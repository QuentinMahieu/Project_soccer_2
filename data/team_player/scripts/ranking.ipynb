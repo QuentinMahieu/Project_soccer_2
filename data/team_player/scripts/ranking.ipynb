{
 "metadata": {
  "language_info": {
   "codemirror_mode": {
    "name": "ipython",
    "version": 3
   },
   "file_extension": ".py",
   "mimetype": "text/x-python",
   "name": "python",
   "nbconvert_exporter": "python",
   "pygments_lexer": "ipython3",
   "version": "3.6.10-final"
  },
  "orig_nbformat": 2,
  "kernelspec": {
   "name": "python_defaultSpec_1608351553190",
   "display_name": "Python 3.6.10 64-bit"
  }
 },
 "nbformat": 4,
 "nbformat_minor": 2,
 "cells": [
  {
   "cell_type": "code",
   "execution_count": 1,
   "metadata": {},
   "outputs": [],
   "source": [
    "#Import the modules\n",
    "import pandas as pd\n",
    "import numpy as np\n",
    "pd.set_option('display.max_columns', None)\n",
    "# file paths to files\n",
    "#players\n",
    "path_2015 = \"../raw/players_15.csv\"\n",
    "path_2016 = \"../raw/players_16.csv\"\n",
    "path_2017 = \"../raw/players_17.csv\"\n",
    "path_2018 = \"../raw/players_18.csv\"\n",
    "path_2019 = \"../raw/players_19.csv\"\n",
    "path_2020 = \"../raw/players_20.csv\"\n",
    "paths = [path_2015, path_2016,path_2017,path_2018,path_2019,path_2020]\n",
    "\n",
    "#cleaned\n",
    "path_eng = \"../cleaned/engranking.csv\"\n",
    "path_it = \"../cleaned/itranking.csv\"\n",
    "path_spain = \"../cleaned/spainranking.csv\"\n",
    "pathss = [path_eng,path_it,path_spain]\n",
    "#read data\n",
    "dfs = []\n",
    "for path in pathss:\n",
    "    df = pd.read_csv(path)\n",
    "    dfs.append(df.sort_values(by=[\"Year\",\"Points\"], ascending = False))"
   ]
  },
  {
   "cell_type": "code",
   "execution_count": 2,
   "metadata": {},
   "outputs": [
    {
     "output_type": "execute_result",
     "data": {
      "text/plain": "     Ranking  Year                Teams  Points  Goals+  Goals-  avg age  \\\n100      100  2019            Liverpool      99      85      33    24.48   \n116      116  2019      Manchester City      81     102      35    24.33   \n109      109  2019    Manchester United      66      66      36    24.82   \n118      118  2019              Chelsea      66      69      54    24.76   \n107      107  2019       Leicester City      62      67      41    25.52   \n..       ...   ...                  ...     ...     ...     ...      ...   \n10        10  2014          Aston Villa      38      18      25    24.41   \n17        17  2014           Sunderland      38      16      27    23.85   \n16        16  2014            Hull City      35      19      24    25.39   \n9          9  2014              Burnley      33      14      21    24.79   \n3          3  2014  Queens Park Rangers      30      23      24    25.85   \n\n     avg heights (cm)  avg weight (kg)  avg player rating  \\\n100            181.21            73.39              75.85   \n116            179.82            72.97              77.00   \n109            183.55            74.97              76.85   \n118            183.18            79.00              77.06   \n107            181.42            76.88              74.36   \n..                ...              ...                ...   \n10             182.47            76.03              69.47   \n17             182.33            76.00              68.03   \n16             182.15            77.18              68.91   \n9              182.06            76.48              65.85   \n3              183.12            77.85              69.85   \n\n     avg player value (EU)  avg player wage  \n100               21008030            80818  \n116               25628636           120727  \n109               15202272            87091  \n118               15302121            85030  \n107                8232575            53000  \n..                     ...              ...  \n10                       0                0  \n17                       0                0  \n16                       0                0  \n9                        0                0  \n3                        0                0  \n\n[120 rows x 12 columns]",
      "text/html": "<div>\n<style scoped>\n    .dataframe tbody tr th:only-of-type {\n        vertical-align: middle;\n    }\n\n    .dataframe tbody tr th {\n        vertical-align: top;\n    }\n\n    .dataframe thead th {\n        text-align: right;\n    }\n</style>\n<table border=\"1\" class=\"dataframe\">\n  <thead>\n    <tr style=\"text-align: right;\">\n      <th></th>\n      <th>Ranking</th>\n      <th>Year</th>\n      <th>Teams</th>\n      <th>Points</th>\n      <th>Goals+</th>\n      <th>Goals-</th>\n      <th>avg age</th>\n      <th>avg heights (cm)</th>\n      <th>avg weight (kg)</th>\n      <th>avg player rating</th>\n      <th>avg player value (EU)</th>\n      <th>avg player wage</th>\n    </tr>\n  </thead>\n  <tbody>\n    <tr>\n      <th>100</th>\n      <td>100</td>\n      <td>2019</td>\n      <td>Liverpool</td>\n      <td>99</td>\n      <td>85</td>\n      <td>33</td>\n      <td>24.48</td>\n      <td>181.21</td>\n      <td>73.39</td>\n      <td>75.85</td>\n      <td>21008030</td>\n      <td>80818</td>\n    </tr>\n    <tr>\n      <th>116</th>\n      <td>116</td>\n      <td>2019</td>\n      <td>Manchester City</td>\n      <td>81</td>\n      <td>102</td>\n      <td>35</td>\n      <td>24.33</td>\n      <td>179.82</td>\n      <td>72.97</td>\n      <td>77.00</td>\n      <td>25628636</td>\n      <td>120727</td>\n    </tr>\n    <tr>\n      <th>109</th>\n      <td>109</td>\n      <td>2019</td>\n      <td>Manchester United</td>\n      <td>66</td>\n      <td>66</td>\n      <td>36</td>\n      <td>24.82</td>\n      <td>183.55</td>\n      <td>74.97</td>\n      <td>76.85</td>\n      <td>15202272</td>\n      <td>87091</td>\n    </tr>\n    <tr>\n      <th>118</th>\n      <td>118</td>\n      <td>2019</td>\n      <td>Chelsea</td>\n      <td>66</td>\n      <td>69</td>\n      <td>54</td>\n      <td>24.76</td>\n      <td>183.18</td>\n      <td>79.00</td>\n      <td>77.06</td>\n      <td>15302121</td>\n      <td>85030</td>\n    </tr>\n    <tr>\n      <th>107</th>\n      <td>107</td>\n      <td>2019</td>\n      <td>Leicester City</td>\n      <td>62</td>\n      <td>67</td>\n      <td>41</td>\n      <td>25.52</td>\n      <td>181.42</td>\n      <td>76.88</td>\n      <td>74.36</td>\n      <td>8232575</td>\n      <td>53000</td>\n    </tr>\n    <tr>\n      <th>...</th>\n      <td>...</td>\n      <td>...</td>\n      <td>...</td>\n      <td>...</td>\n      <td>...</td>\n      <td>...</td>\n      <td>...</td>\n      <td>...</td>\n      <td>...</td>\n      <td>...</td>\n      <td>...</td>\n      <td>...</td>\n    </tr>\n    <tr>\n      <th>10</th>\n      <td>10</td>\n      <td>2014</td>\n      <td>Aston Villa</td>\n      <td>38</td>\n      <td>18</td>\n      <td>25</td>\n      <td>24.41</td>\n      <td>182.47</td>\n      <td>76.03</td>\n      <td>69.47</td>\n      <td>0</td>\n      <td>0</td>\n    </tr>\n    <tr>\n      <th>17</th>\n      <td>17</td>\n      <td>2014</td>\n      <td>Sunderland</td>\n      <td>38</td>\n      <td>16</td>\n      <td>27</td>\n      <td>23.85</td>\n      <td>182.33</td>\n      <td>76.00</td>\n      <td>68.03</td>\n      <td>0</td>\n      <td>0</td>\n    </tr>\n    <tr>\n      <th>16</th>\n      <td>16</td>\n      <td>2014</td>\n      <td>Hull City</td>\n      <td>35</td>\n      <td>19</td>\n      <td>24</td>\n      <td>25.39</td>\n      <td>182.15</td>\n      <td>77.18</td>\n      <td>68.91</td>\n      <td>0</td>\n      <td>0</td>\n    </tr>\n    <tr>\n      <th>9</th>\n      <td>9</td>\n      <td>2014</td>\n      <td>Burnley</td>\n      <td>33</td>\n      <td>14</td>\n      <td>21</td>\n      <td>24.79</td>\n      <td>182.06</td>\n      <td>76.48</td>\n      <td>65.85</td>\n      <td>0</td>\n      <td>0</td>\n    </tr>\n    <tr>\n      <th>3</th>\n      <td>3</td>\n      <td>2014</td>\n      <td>Queens Park Rangers</td>\n      <td>30</td>\n      <td>23</td>\n      <td>24</td>\n      <td>25.85</td>\n      <td>183.12</td>\n      <td>77.85</td>\n      <td>69.85</td>\n      <td>0</td>\n      <td>0</td>\n    </tr>\n  </tbody>\n</table>\n<p>120 rows × 12 columns</p>\n</div>"
     },
     "metadata": {},
     "execution_count": 2
    }
   ],
   "source": [
    "eng_df = dfs[0].sort_values(by=[\"Year\",\"Points\"], ascending=False).rename(columns={\"Unnamed: 0\": \"Ranking\"})\n",
    "it_df = dfs[1].sort_values(by=[\"Year\",\"Points\"], ascending=False).rename(columns={\"Unnamed: 0\": \"Ranking\"})\n",
    "spain_df = dfs[2].sort_values(by=[\"Year\",\"Points\"], ascending=False).rename(columns={\"Unnamed: 0\": \"Ranking\"})\n",
    "eng_df"
   ]
  },
  {
   "cell_type": "code",
   "execution_count": 3,
   "metadata": {
    "tags": []
   },
   "outputs": [
    {
     "output_type": "stream",
     "name": "stdout",
     "text": "[  0   1   2   3   4   5   6   7   8   9  10  11  12  13  14  15  16  17\n  18  19  20  21  22  23  24  25  26  27  28  29  30  31  32  33  34  35\n  36  37  38  39  40  41  42  43  44  45  46  47  48  49  50  51  52  53\n  54  55  56  57  58  59  60  61  62  63  64  65  66  67  68  69  70  71\n  72  73  74  75  76  77  78  79  80  81  82  83  84  85  86  87  88  89\n  90  91  92  93  94  95  96  97  98  99 100 101 102 103 104 105 106 107\n 108 109 110 111 112 113 114 115 116 117 118 119 120]\n"
    }
   ],
   "source": [
    "print(np.arange(len(eng_df)+1))"
   ]
  },
  {
   "cell_type": "code",
   "execution_count": 4,
   "metadata": {
    "tags": []
   },
   "outputs": [],
   "source": [
    "def ranking(df):\n",
    "    rank = 0\n",
    "    for i in np.arange(len(df)):\n",
    "        rank +=1\n",
    "        if i < len(df)-1:\n",
    "            if df[\"Points\"].iloc[i] >= df[\"Points\"].iloc[i+1]:\n",
    "                df[\"Ranking\"].iloc[i] = rank\n",
    "            elif df[\"Points\"].iloc[i] < df[\"Points\"].iloc[i+1]:\n",
    "                df[\"Ranking\"].iloc[i] = 20\n",
    "                rank = 0\n",
    "    return df"
   ]
  },
  {
   "cell_type": "code",
   "execution_count": 5,
   "metadata": {
    "tags": []
   },
   "outputs": [],
   "source": [
    "eng_df = ranking(eng_df)\n",
    "it_df = ranking(it_df)\n",
    "spain_df = ranking(spain_df)"
   ]
  },
  {
   "cell_type": "code",
   "execution_count": 6,
   "metadata": {},
   "outputs": [],
   "source": [
    "it_df[\"Ranking\"][-1:]= 20\n",
    "eng_df[\"Ranking\"][-1:]= 20\n",
    "spain_df[\"Ranking\"][-1:]= 20"
   ]
  },
  {
   "cell_type": "code",
   "execution_count": 7,
   "metadata": {},
   "outputs": [],
   "source": [
    "spain_df.to_csv(\"../cleaned/Liga.csv\", index=False)\n",
    "it_df.to_csv(\"../cleaned/SerieA.csv\",index=False)\n",
    "eng_df.to_csv(\"../cleaned/EPL.csv\",index=False)"
   ]
  },
  {
   "cell_type": "code",
   "execution_count": null,
   "metadata": {},
   "outputs": [],
   "source": []
  }
 ]
}