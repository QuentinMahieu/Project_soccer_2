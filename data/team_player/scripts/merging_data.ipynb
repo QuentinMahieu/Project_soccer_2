{
 "metadata": {
  "language_info": {
   "codemirror_mode": {
    "name": "ipython",
    "version": 3
   },
   "file_extension": ".py",
   "mimetype": "text/x-python",
   "name": "python",
   "nbconvert_exporter": "python",
   "pygments_lexer": "ipython3",
   "version": "3.6.10-final"
  },
  "orig_nbformat": 2,
  "kernelspec": {
   "name": "python_defaultSpec_1610245512769",
   "display_name": "Python 3.6.10 64-bit ('PythonDataNew': conda)"
  }
 },
 "nbformat": 4,
 "nbformat_minor": 2,
 "cells": [
  {
   "cell_type": "code",
   "execution_count": 1,
   "metadata": {},
   "outputs": [],
   "source": [
    "import pandas as pd\n",
    "import os"
   ]
  },
  {
   "cell_type": "code",
   "execution_count": 2,
   "metadata": {
    "tags": []
   },
   "outputs": [
    {
     "output_type": "stream",
     "name": "stdout",
     "text": "Cleaned Files:\n ['EPL.csv', 'spainranking.csv', 'engranking.csv', 'Liga.csv', 'itranking.csv', 'model_data.csv', 'SerieA.csv']\nRaw Files:\n ['players_20.csv', 'players_18.csv', 'players_19.csv', 'fifa21_male2.csv', 'players_17.csv', 'big_five_1995-2019.csv', 'players_16.csv', 'players_15.csv', 'team_stats.xlsx', 'teams_and_leagues.csv']\n"
    }
   ],
   "source": [
    "files = os.listdir(\"../cleaned\")\n",
    "print(\"Cleaned Files:\\n\",files)\n",
    "files2 = os.listdir(\"../raw\")\n",
    "print(\"Raw Files:\\n\",files2)"
   ]
  },
  {
   "cell_type": "code",
   "execution_count": 3,
   "metadata": {},
   "outputs": [
    {
     "output_type": "execute_result",
     "data": {
      "text/plain": "['team_stats', 'epl', 'Sheet3']"
     },
     "metadata": {},
     "execution_count": 3
    }
   ],
   "source": [
    "xl = pd.ExcelFile(\"../raw/team_stats.xlsx\")\n",
    "xl.sheet_names"
   ]
  },
  {
   "cell_type": "code",
   "execution_count": 4,
   "metadata": {},
   "outputs": [],
   "source": [
    "liga = pd.read_excel(\"../raw/team_stats.xlsx\",sheet_name=\"team_stats\",header=0)\n",
    "epl = pd.read_excel(\"../raw/team_stats.xlsx\",sheet_name=\"epl\",header=0)\n",
    "serieA = pd.read_excel(\"../raw/team_stats.xlsx\",sheet_name=\"Sheet3\",header=0)"
   ]
  },
  {
   "cell_type": "code",
   "execution_count": 5,
   "metadata": {},
   "outputs": [],
   "source": [
    "liga.rename({'Rank':'Ranking'},axis=1, inplace=True)\n",
    "epl.rename({'Rank':'Ranking'},axis=1, inplace=True)\n",
    "serieA.rename({'Rank':'Ranking'},axis=1, inplace=True)"
   ]
  },
  {
   "cell_type": "code",
   "execution_count": 6,
   "metadata": {},
   "outputs": [
    {
     "output_type": "execute_result",
     "data": {
      "text/plain": "   Year        Teams  Ranking  avg player value (EU)  avg player wage  \\\n0  2019     Juventus        1             22287121.0         113636.0   \n1  2019  Inter Milan        2             14953666.0          53733.0   \n2  2019     SS Lazio        3             11658939.0          40455.0   \n3  2019     Atalanta        4              8712321.0          38393.0   \n4  2019      AS Roma        5              9323709.0          31516.0   \n\n   Transfer Spend (Euros)      MA Country  \n0                 201.150  194.28   Italy  \n1                 171.284  127.64   Italy  \n2                  41.078   36.29   Italy  \n3                  51.130   49.78   Italy  \n4                 102.690  110.81   Italy  ",
      "text/html": "<div>\n<style scoped>\n    .dataframe tbody tr th:only-of-type {\n        vertical-align: middle;\n    }\n\n    .dataframe tbody tr th {\n        vertical-align: top;\n    }\n\n    .dataframe thead th {\n        text-align: right;\n    }\n</style>\n<table border=\"1\" class=\"dataframe\">\n  <thead>\n    <tr style=\"text-align: right;\">\n      <th></th>\n      <th>Year</th>\n      <th>Teams</th>\n      <th>Ranking</th>\n      <th>avg player value (EU)</th>\n      <th>avg player wage</th>\n      <th>Transfer Spend (Euros)</th>\n      <th>MA</th>\n      <th>Country</th>\n    </tr>\n  </thead>\n  <tbody>\n    <tr>\n      <th>0</th>\n      <td>2019</td>\n      <td>Juventus</td>\n      <td>1</td>\n      <td>22287121.0</td>\n      <td>113636.0</td>\n      <td>201.150</td>\n      <td>194.28</td>\n      <td>Italy</td>\n    </tr>\n    <tr>\n      <th>1</th>\n      <td>2019</td>\n      <td>Inter Milan</td>\n      <td>2</td>\n      <td>14953666.0</td>\n      <td>53733.0</td>\n      <td>171.284</td>\n      <td>127.64</td>\n      <td>Italy</td>\n    </tr>\n    <tr>\n      <th>2</th>\n      <td>2019</td>\n      <td>SS Lazio</td>\n      <td>3</td>\n      <td>11658939.0</td>\n      <td>40455.0</td>\n      <td>41.078</td>\n      <td>36.29</td>\n      <td>Italy</td>\n    </tr>\n    <tr>\n      <th>3</th>\n      <td>2019</td>\n      <td>Atalanta</td>\n      <td>4</td>\n      <td>8712321.0</td>\n      <td>38393.0</td>\n      <td>51.130</td>\n      <td>49.78</td>\n      <td>Italy</td>\n    </tr>\n    <tr>\n      <th>4</th>\n      <td>2019</td>\n      <td>AS Roma</td>\n      <td>5</td>\n      <td>9323709.0</td>\n      <td>31516.0</td>\n      <td>102.690</td>\n      <td>110.81</td>\n      <td>Italy</td>\n    </tr>\n  </tbody>\n</table>\n</div>"
     },
     "metadata": {},
     "execution_count": 6
    }
   ],
   "source": [
    "transfers_it = pd.read_csv(\"../../transfers/cleaned/italy_joined.csv\", dtype={'Ranking':\"Int64\"})\n",
    "transfers_it[\"Country\"] = 'Italy'\n",
    "transfers_es = pd.read_csv(\"../../transfers/cleaned/spain_joined.csv\",dtype={'Ranking':\"Int64\"})\n",
    "transfers_es[\"Country\"] = 'Spain'\n",
    "transfers_en = pd.read_csv(\"../../transfers/cleaned/england_joined.csv\",dtype={'Ranking':\"Int64\"})\n",
    "transfers_en[\"Country\"] = 'England'\n",
    "transfer_df = pd.concat([transfers_it,transfers_es,transfers_en])\n",
    "del transfer_df[\"Unnamed: 0\"]\n",
    "transfer_df.head()"
   ]
  },
  {
   "cell_type": "code",
   "execution_count": 7,
   "metadata": {},
   "outputs": [
    {
     "output_type": "execute_result",
     "data": {
      "text/plain": "   Year  Ranking  Transfer Spend (Euros)      MA Country\n0  2019        1                 201.150  194.28   Italy\n1  2019        2                 171.284  127.64   Italy\n2  2019        3                  41.078   36.29   Italy\n3  2019        4                  51.130   49.78   Italy\n4  2019        5                 102.690  110.81   Italy",
      "text/html": "<div>\n<style scoped>\n    .dataframe tbody tr th:only-of-type {\n        vertical-align: middle;\n    }\n\n    .dataframe tbody tr th {\n        vertical-align: top;\n    }\n\n    .dataframe thead th {\n        text-align: right;\n    }\n</style>\n<table border=\"1\" class=\"dataframe\">\n  <thead>\n    <tr style=\"text-align: right;\">\n      <th></th>\n      <th>Year</th>\n      <th>Ranking</th>\n      <th>Transfer Spend (Euros)</th>\n      <th>MA</th>\n      <th>Country</th>\n    </tr>\n  </thead>\n  <tbody>\n    <tr>\n      <th>0</th>\n      <td>2019</td>\n      <td>1</td>\n      <td>201.150</td>\n      <td>194.28</td>\n      <td>Italy</td>\n    </tr>\n    <tr>\n      <th>1</th>\n      <td>2019</td>\n      <td>2</td>\n      <td>171.284</td>\n      <td>127.64</td>\n      <td>Italy</td>\n    </tr>\n    <tr>\n      <th>2</th>\n      <td>2019</td>\n      <td>3</td>\n      <td>41.078</td>\n      <td>36.29</td>\n      <td>Italy</td>\n    </tr>\n    <tr>\n      <th>3</th>\n      <td>2019</td>\n      <td>4</td>\n      <td>51.130</td>\n      <td>49.78</td>\n      <td>Italy</td>\n    </tr>\n    <tr>\n      <th>4</th>\n      <td>2019</td>\n      <td>5</td>\n      <td>102.690</td>\n      <td>110.81</td>\n      <td>Italy</td>\n    </tr>\n  </tbody>\n</table>\n</div>"
     },
     "metadata": {},
     "execution_count": 7
    }
   ],
   "source": [
    "transfer_df = transfer_df[[\"Year\",\"Ranking\",\"Transfer Spend (Euros)\",\"MA\",\"Country\"]]\n",
    "transfer_df.dropna(subset=[\"Ranking\"],inplace=True)\n",
    "transfer_df.head()"
   ]
  },
  {
   "cell_type": "code",
   "execution_count": 8,
   "metadata": {},
   "outputs": [],
   "source": [
    "eng_df = pd.read_csv(f\"../cleaned/{files[0]}\",encoding=\"UTF-8\")\n",
    "final_eng = eng_df.merge(epl,on=['Ranking','Year'],how='outer')\n",
    "final_eng = final_eng.sort_values([\"Year\",\"Ranking\"]).reset_index(drop=True)\n",
    "final_eng['Goals+'].iloc[0:20] = final_eng['G+'].iloc[0:20]\n",
    "final_eng['Goals-'].iloc[0:20] = final_eng['G-'].iloc[0:20]\n",
    "final_eng['Points_x'].iloc[0:20] = final_eng['Points_y'].iloc[0:20]\n",
    "final_eng['Teams'].iloc[-20:] = final_eng['Team'].iloc[-20:]\n",
    "final_eng['Points_x'].iloc[-20:] = final_eng['Points_y'].iloc[-20:]\n",
    "final_eng['Goals+'].iloc[-20:] = final_eng['G+'].iloc[-20:]\n",
    "final_eng['Goals-'].iloc[-20:] = final_eng['G-'].iloc[-20:]\n",
    "final_eng[\"Country\"] = 'England'\n",
    "final_eng = final_eng.drop(columns=[\"Team\",\"Goals\",\"G+\",\"G-\",\"Points_y\"]).rename({\"Points_x\":\"Points\"},axis=1)"
   ]
  },
  {
   "cell_type": "code",
   "execution_count": 9,
   "metadata": {},
   "outputs": [],
   "source": [
    "es_df = pd.read_csv(f\"../cleaned/{files[3]}\",encoding=\"UTF-8\")\n",
    "final_es = es_df.merge(liga,on=['Ranking','Year'],how='outer')\n",
    "final_es = final_es.sort_values([\"Year\",\"Ranking\"]).reset_index(drop=True)\n",
    "final_es['Goals+'].iloc[0:20] = final_es['G+'].iloc[0:20]\n",
    "final_es['Goals-'].iloc[0:20] = final_es['G-'].iloc[0:20]\n",
    "final_es['Teams'].iloc[-20:] = final_es['Team'].iloc[-20:]\n",
    "final_es['Points_x'].iloc[-20:] = final_es['Points_y'].iloc[-20:]\n",
    "final_es['Goals+'].iloc[-20:] = final_es['G+'].iloc[-20:]\n",
    "final_es['Goals-'].iloc[-20:] = final_es['G-'].iloc[-20:]\n",
    "final_es[\"Country\"] = 'Spain'\n",
    "final_es = final_es.drop(columns=[\"Team\",\"Goals\",\"G+\",\"G-\",\"Points_y\"]).rename({\"Points_x\":\"Points\"},axis=1)"
   ]
  },
  {
   "cell_type": "code",
   "execution_count": 10,
   "metadata": {},
   "outputs": [],
   "source": [
    "it_df = pd.read_csv(f\"../cleaned/{files[6]}\",encoding=\"UTF-8\")\n",
    "final_it = it_df.merge(serieA,on=['Ranking','Year'],how='outer')\n",
    "final_it = final_it.sort_values([\"Year\",\"Ranking\"]).reset_index(drop=True)\n",
    "final_it['Goals+'].iloc[0:20] = final_it['G+'].iloc[0:20]\n",
    "final_it['Goals-'].iloc[0:20] = final_it['G-'].iloc[0:20]\n",
    "final_it['Points_x'].iloc[0:20] = final_it['Points_y'].iloc[0:20]\n",
    "final_it['Teams'].iloc[-20:] = final_it['Team'].iloc[-20:]\n",
    "final_it['Points_x'].iloc[-20:] = final_it['Points_y'].iloc[-20:]\n",
    "final_it['Goals+'].iloc[-20:] = final_it['G+'].iloc[-20:]\n",
    "final_it['Goals-'].iloc[-20:] = final_it['G-'].iloc[-20:]\n",
    "final_it[\"Country\"] = 'Italy'\n",
    "final_it = final_it.drop(columns=[\"Team\",\"Goals\",\"G+\",\"G-\",\"Points_y\"]).rename({\"Points_x\":\"Points\"},axis=1)"
   ]
  },
  {
   "cell_type": "code",
   "execution_count": 11,
   "metadata": {},
   "outputs": [],
   "source": [
    "leagues_df = pd.concat([final_eng,final_it,final_es])\n",
    "leagues_df = leagues_df.merge(transfer_df, on=[\"Year\",\"Ranking\",\"Country\"],how='outer').drop_duplicates()\n",
    "leagues_df.fillna(0,inplace=True)"
   ]
  },
  {
   "cell_type": "code",
   "execution_count": 39,
   "metadata": {},
   "outputs": [
    {
     "output_type": "execute_result",
     "data": {
      "text/plain": "             Teams  Shots pg  Possession%  Pass%     Goals+     Goals-  \\\n0      Aston Villa      15.9         50.1   78.0  26.750000  42.000000   \n1  Manchester City      15.6         59.8   88.3  57.857143  21.285714   \n2        Liverpool      15.4         60.5   86.0  49.142857  22.857143   \n3          Chelsea      13.7         56.9   86.1  46.285714  25.000000   \n4        Tottenham      11.3         48.5   79.9  25.000000  12.000000   \n\n           MA  \n0    0.000000  \n1  134.934286  \n2   92.430000  \n3  115.608571  \n4    0.000000  ",
      "text/html": "<div>\n<style scoped>\n    .dataframe tbody tr th:only-of-type {\n        vertical-align: middle;\n    }\n\n    .dataframe tbody tr th {\n        vertical-align: top;\n    }\n\n    .dataframe thead th {\n        text-align: right;\n    }\n</style>\n<table border=\"1\" class=\"dataframe\">\n  <thead>\n    <tr style=\"text-align: right;\">\n      <th></th>\n      <th>Teams</th>\n      <th>Shots pg</th>\n      <th>Possession%</th>\n      <th>Pass%</th>\n      <th>Goals+</th>\n      <th>Goals-</th>\n      <th>MA</th>\n    </tr>\n  </thead>\n  <tbody>\n    <tr>\n      <th>0</th>\n      <td>Aston Villa</td>\n      <td>15.9</td>\n      <td>50.1</td>\n      <td>78.0</td>\n      <td>26.750000</td>\n      <td>42.000000</td>\n      <td>0.000000</td>\n    </tr>\n    <tr>\n      <th>1</th>\n      <td>Manchester City</td>\n      <td>15.6</td>\n      <td>59.8</td>\n      <td>88.3</td>\n      <td>57.857143</td>\n      <td>21.285714</td>\n      <td>134.934286</td>\n    </tr>\n    <tr>\n      <th>2</th>\n      <td>Liverpool</td>\n      <td>15.4</td>\n      <td>60.5</td>\n      <td>86.0</td>\n      <td>49.142857</td>\n      <td>22.857143</td>\n      <td>92.430000</td>\n    </tr>\n    <tr>\n      <th>3</th>\n      <td>Chelsea</td>\n      <td>13.7</td>\n      <td>56.9</td>\n      <td>86.1</td>\n      <td>46.285714</td>\n      <td>25.000000</td>\n      <td>115.608571</td>\n    </tr>\n    <tr>\n      <th>4</th>\n      <td>Tottenham</td>\n      <td>11.3</td>\n      <td>48.5</td>\n      <td>79.9</td>\n      <td>25.000000</td>\n      <td>12.000000</td>\n      <td>0.000000</td>\n    </tr>\n  </tbody>\n</table>\n</div>"
     },
     "metadata": {},
     "execution_count": 39
    }
   ],
   "source": [
    "#import the data for 2020\n",
    "from selenium import webdriver\n",
    "import time\n",
    "driver = webdriver.Chrome('/usr/local/bin/chromedriver')\n",
    "url_eng = \"https://www.whoscored.com/Regions/252/Tournaments/2/Seasons/8228/Stages/18685/TeamStatistics/England-Premier-League-2020-2021\"\n",
    "url_es = \"https://www.whoscored.com/Regions/206/Tournaments/4/Seasons/8321/Stages/18851/TeamStatistics/Spain-LaLiga-2020-2021\"\n",
    "url_it = \"https://www.whoscored.com/Regions/108/Tournaments/5/Seasons/8330/Stages/18873/TeamStatistics/Italy-Serie-A-2020-2021\"\n",
    "urls = [url_eng,url_es,url_it]\n",
    "dfs = []\n",
    "for url in urls:\n",
    "    driver.get(url)\n",
    "    time.sleep(3)\n",
    "    tbl = driver.find_element_by_xpath(\n",
    "        '//table[@id=\"top-team-stats-summary-grid\"]').get_attribute('outerHTML')\n",
    "    df  = pd.read_html(tbl)[0]\n",
    "    for i,d in df.iterrows():\n",
    "        teams = d[\"Team\"].split(\" \",1)\n",
    "        df[\"Team\"][i] = teams[1]\n",
    "    df = df[[\"Team\",\"Shots pg\", \"Possession%\",\"Pass%\"]].rename({\"Team\":\"Teams\"}, axis=1)\n",
    "    dfs.append(df)\n",
    "df = pd.concat(dfs)\n",
    "df2 = leagues_df.groupby(\"Teams\").agg(\n",
    "    {\"Goals+\":\"mean\",\"Goals-\":\"mean\",\"MA\":\"mean\"}).\\\n",
    "        sort_values(\"Goals+\", ascending=False)\n",
    "df_final = df.merge(df2,on=[\"Teams\"], how=\"inner\")\n",
    "df_final.head()"
   ]
  },
  {
   "cell_type": "code",
   "execution_count": 53,
   "metadata": {},
   "outputs": [],
   "source": [
    "def playersfunc2(filepath,year):\n",
    "    players_df = pd.read_csv(filepath)\n",
    "    players_df = players_df[['Club','OVA']]\n",
    "    players_df = players_df.rename({\"Club\":\"Teams\",'OVA':\"overall\"},axis=1)\n",
    "    f = {\"overall\":\"mean\"}\n",
    "    players_df = players_df.groupby(\"Teams\").agg(f)\n",
    "    players_df[\"Year\"]= int(year)\n",
    "    players_df = players_df.reset_index()\n",
    "    return cleanup(players_df)\n",
    "def cleanup(df):\n",
    "    df[\"Teams\"] = df[\"Teams\"].str.replace(\"RC Celta Vigo\", \"Celta Vigo\")\n",
    "    df[\"Teams\"] = df[\"Teams\"].str.replace(\"Real Sporting de Gijón\", \"Sporting Gijón\")\n",
    "    df[\"Teams\"] = df[\"Teams\"].str.replace(\"Deportivo de La Coruña\", \"RCD La Coruña\")\n",
    "    df[\"Teams\"] = df[\"Teams\"].str.replace(\"Milan\", \"AC Milan\")\n",
    "    df[\"Teams\"] = df[\"Teams\"].str.replace(\"AC Chievo Verona\", \"Verona\")\n",
    "    df[\"Teams\"] = df[\"Teams\"].str.replace(\"Roma\", \"AS Roma\")\n",
    "    df[\"Teams\"] = df[\"Teams\"].str.replace(\"Cagliari\", \"Cagliari Calcio\")\n",
    "    df[\"Teams\"] = df[\"Teams\"].str.replace(\"Tottenham Hotspur\", \"Tottenham\")\n",
    "    df[\"Teams\"] = df[\"Teams\"].str.replace(\"Leicester City\", \"Leicester\")\n",
    "    df[\"Teams\"] = df[\"Teams\"].str.replace(\"Leeds United\", \"Leeds\")\n",
    "    df[\"Teams\"] = df[\"Teams\"].str.replace(\"West Ham United\", \"West Ham\")\n",
    "    df[\"Teams\"] = df[\"Teams\"].str.replace(\"Brighton & Hove Albion\", \"Brighton\")\n",
    "    df[\"Teams\"] = df[\"Teams\"].str.replace(\"AS Roma\", \"Roma\")\n",
    "    df[\"Teams\"] = df[\"Teams\"].str.replace(\"Parma\", \"Parma Calcio 1913\")\n",
    "    df[\"Teams\"] = df[\"Teams\"].str.replace(\"Atlético Madrid\", \"Atletico Madrid\")\n",
    "    df[\"Teams\"] = df[\"Teams\"].str.replace(\"FC Barcelona\", \"Barcelona\")\n",
    "    df[\"Teams\"] = df[\"Teams\"].str.replace(\"Sevilla FC\", \"Sevilla\")\n",
    "    df[\"Teams\"] = df[\"Teams\"].str.replace(\"Granada CF\", \"Granada\")\n",
    "    df[\"Teams\"] = df[\"Teams\"].str.replace(\"Cádiz CF\", \"Cadiz\")\n",
    "    df[\"Teams\"] = df[\"Teams\"].str.replace(\"SD Eibar\", \"Eibar\")\n",
    "    df[\"Teams\"] = df[\"Teams\"].str.replace(\"Valencia CF\", \"Valencia\")\n",
    "    df[\"Teams\"] = df[\"Teams\"].str.replace(\"Elche CF\", \"Elche\")\n",
    "    df[\"Teams\"] = df[\"Teams\"].str.replace(\"Deportivo Alavés\", \"Deportivo Alaves\")\n",
    "    df[\"Teams\"] = df[\"Teams\"].str.replace(\"Getafe CF\", \"Getafe\")\n",
    "    df[\"Teams\"] = df[\"Teams\"].str.replace(\"Real Valladolid CF\", \"Real Valladolid\")\n",
    "    df[\"Teams\"] = df[\"Teams\"].str.replace(\"Levante UD\", \"Levante\")\n",
    "    df[\"Teams\"] = df[\"Teams\"].str.replace(\"CA Osasuna\", \"Osasuna\")\n",
    "    df[\"Teams\"] = df[\"Teams\"].str.replace(\"Villarreal CF\", \"Villarreal\")\n",
    "    # df[\"Teams\"] = df[\"Teams\"].str.replace(\"RC Celta Vigo\", \"Celta Vigo\")\n",
    "    df[\"Teams\"] = df[\"Teams\"].str.replace(\"RC Celta\", \"Celta Vigo\")\n",
    "    df[\"Teams\"] = df[\"Teams\"].str.replace(\"Athletic Club de Bilbao\", \"Athletic Bilbao\")\n",
    "    df[\"Teams\"] = df[\"Teams\"].str.replace(\"FC Internazionale Milano\", \"Inter\")\n",
    "    df[\"Teams\"] = df[\"Teams\"].str.replace(\"Sassuolo Calcio\", \"Sassuolo\")\n",
    "    df[\"Teams\"] = df[\"Teams\"].str.replace(\"Chievo Verona\", \"Verona\")\n",
    "    df[\"Teams\"] = df[\"Teams\"].str.replace(\"SS Lazio\", \"Lazio\")\n",
    "    df[\"Teams\"] = df[\"Teams\"].str.replace(\"Cagliari Calcio\", \"Cagliari\")\n",
    "    df[\"Teams\"] = df[\"Teams\"].str.replace(\"ACF Fiorentina\", \"Fiorentina\")\n",
    "    df[\"Teams\"] = df[\"Teams\"].str.replace(\"FC Crotone\", \"Crotone\")\n",
    "    return df"
   ]
  },
  {
   "cell_type": "code",
   "execution_count": 54,
   "metadata": {},
   "outputs": [],
   "source": [
    "path_2021 = \"../raw/fifa21_male2.csv\"\n",
    "players_df_2020 = playersfunc2(path_2021,2020)\n",
    "df_final2 = df_final.merge(players_df_2020,on=[\"Teams\"])"
   ]
  },
  {
   "cell_type": "code",
   "execution_count": 99,
   "metadata": {},
   "outputs": [],
   "source": [
    "leaguess_df = leagues_df.merge(df_final2,on=['Teams','Year'],how=\"left\")\n",
    "leaguess_df.sort_values(\"Year\",ascending=False, inplace=True)\n",
    "leaguess_df.reset_index(drop=True, inplace=True)\n",
    "leaguess_df.rename({\"Goals+_x\":\"Goals+\",\"Goals-_x\":\"Goals-\",\"MA_x\":\"MA\",\\\n",
    "    \"Possession%_x\":\"Possession%\",\"Pass%_x\":\"Pass%\",\"Shots pg_x\":\"Shots pg\"},axis=1,inplace=True)\n",
    "leaguess_df[\"Goals+\"].iloc[0:60] = leaguess_df[\"Goals+_y\"].iloc[0:60]\n",
    "leaguess_df[\"Goals-\"].iloc[0:60] = leaguess_df[\"Goals-_y\"].iloc[0:60]\n",
    "leaguess_df[\"MA\"].iloc[0:60] = leaguess_df[\"MA_y\"].iloc[0:60]\n",
    "leaguess_df[\"Shots pg\"].iloc[0:60] = leaguess_df[\"Shots pg_y\"].iloc[0:60]\n",
    "leaguess_df[\"avg player rating\"].iloc[0:60] = leaguess_df[\"overall\"].iloc[0:60]\n",
    "leaguess_df[\"Possession%\"].iloc[0:60] = leaguess_df[\"Possession%_y\"].iloc[0:60]\n",
    "leaguess_df[\"Pass%\"].iloc[0:60] = leaguess_df[\"Pass%_y\"].iloc[0:60]\n",
    "leaguess_df.drop([\"Shots pg_y\",\"Possession%_y\",\"Pass%_y\",\"Goals+_y\",\"Goals-_y\",\"MA_y\",\"overall\"],axis=1,inplace=True)\n",
    "leagues_2020_df = leaguess_df[[\"Country\",\"Ranking\",\"Teams\",\"Points\",\"Year\",\"Goals+\",\"Goals-\",\\\n",
    "    \"avg player rating\",\"Shots pg\",\"Possession%\",\"Pass%\",\"MA\"]].iloc[0:60,:].\\\n",
    "        sort_values([\"Country\",\"Ranking\"]).reset_index(drop=True)"
   ]
  },
  {
   "cell_type": "code",
   "execution_count": 100,
   "metadata": {},
   "outputs": [],
   "source": [
    "final_eng.to_csv('../cleaned_final/epl.csv')\n",
    "final_es.to_csv('../cleaned_final/liga.csv')\n",
    "final_it.to_csv('../cleaned_final/serieA.csv')\n",
    "leaguess_df.to_csv('../cleaned_final/leagues.csv')\n",
    "leagues_2020_df.to_csv('../cleaned_final/leagues_2020_data.csv')"
   ]
  },
  {
   "cell_type": "code",
   "execution_count": 60,
   "metadata": {},
   "outputs": [
    {
     "output_type": "execute_result",
     "data": {
      "text/plain": "['Teams', 'Shots pg', 'Possession%', 'Pass%', 'Goals+', 'Goals-', 'MA']"
     },
     "metadata": {},
     "execution_count": 60
    }
   ],
   "source": []
  },
  {
   "cell_type": "code",
   "execution_count": null,
   "metadata": {},
   "outputs": [],
   "source": []
  }
 ]
}