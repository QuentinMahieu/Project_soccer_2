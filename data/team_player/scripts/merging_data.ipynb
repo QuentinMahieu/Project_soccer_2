{
 "metadata": {
  "language_info": {
   "codemirror_mode": {
    "name": "ipython",
    "version": 3
   },
   "file_extension": ".py",
   "mimetype": "text/x-python",
   "name": "python",
   "nbconvert_exporter": "python",
   "pygments_lexer": "ipython3",
   "version": "3.6.10-final"
  },
  "orig_nbformat": 2,
  "kernelspec": {
   "name": "python_defaultSpec_1609818453879",
   "display_name": "Python 3.6.10 64-bit ('PythonDataNew': conda)"
  }
 },
 "nbformat": 4,
 "nbformat_minor": 2,
 "cells": [
  {
   "cell_type": "code",
   "execution_count": 1,
   "metadata": {},
   "outputs": [],
   "source": [
    "import pandas as pd\n",
    "import os"
   ]
  },
  {
   "cell_type": "code",
   "execution_count": 2,
   "metadata": {
    "tags": []
   },
   "outputs": [
    {
     "output_type": "stream",
     "name": "stdout",
     "text": "Cleaned Files:\n ['EPL.csv', 'spainranking.csv', 'engranking.csv', 'Liga.csv', 'itranking.csv', 'model_data.csv', 'SerieA.csv']\nRaw Files:\n ['.players_19.csv.icloud', '.players_16.csv.icloud', '.big_five_1995-2019.csv.icloud', '.players_18.csv.icloud', '.players_15.csv.icloud', 'team_stats.xlsx', 'teams_and_leagues.csv', '.players_17.csv.icloud', '.players_20.csv.icloud']\n"
    }
   ],
   "source": [
    "files = os.listdir(\"../cleaned\")\n",
    "print(\"Cleaned Files:\\n\",files)\n",
    "files2 = os.listdir(\"../raw\")\n",
    "print(\"Raw Files:\\n\",files2)"
   ]
  },
  {
   "cell_type": "code",
   "execution_count": 3,
   "metadata": {},
   "outputs": [
    {
     "output_type": "execute_result",
     "data": {
      "text/plain": "['team_stats', 'epl', 'Sheet3']"
     },
     "metadata": {},
     "execution_count": 3
    }
   ],
   "source": [
    "xl = pd.ExcelFile(\"../raw/team_stats.xlsx\")\n",
    "xl.sheet_names"
   ]
  },
  {
   "cell_type": "code",
   "execution_count": 4,
   "metadata": {},
   "outputs": [],
   "source": [
    "liga = pd.read_excel(\"../raw/team_stats.xlsx\",sheet_name=\"team_stats\",header=0)\n",
    "epl = pd.read_excel(\"../raw/team_stats.xlsx\",sheet_name=\"epl\",header=0)\n",
    "serieA = pd.read_excel(\"../raw/team_stats.xlsx\",sheet_name=\"Sheet3\",header=0)"
   ]
  },
  {
   "cell_type": "code",
   "execution_count": 5,
   "metadata": {},
   "outputs": [],
   "source": [
    "liga.rename({'Rank':'Ranking'},axis=1, inplace=True)\n",
    "epl.rename({'Rank':'Ranking'},axis=1, inplace=True)\n",
    "serieA.rename({'Rank':'Ranking'},axis=1, inplace=True)"
   ]
  },
  {
   "cell_type": "code",
   "execution_count": 6,
   "metadata": {},
   "outputs": [
    {
     "output_type": "execute_result",
     "data": {
      "text/plain": "   Year        Teams  Ranking  avg player value (EU)  avg player wage  \\\n0  2019     Juventus        1             22287121.0         113636.0   \n1  2019  Inter Milan        2             14953666.0          53733.0   \n2  2019     SS Lazio        3             11658939.0          40455.0   \n3  2019     Atalanta        4              8712321.0          38393.0   \n4  2019      AS Roma        5              9323709.0          31516.0   \n\n   Transfer Spend (Euros)      MA Country  \n0                 201.150  194.28   Italy  \n1                 171.284  127.64   Italy  \n2                  41.078   36.29   Italy  \n3                  51.130   49.78   Italy  \n4                 102.690  110.81   Italy  ",
      "text/html": "<div>\n<style scoped>\n    .dataframe tbody tr th:only-of-type {\n        vertical-align: middle;\n    }\n\n    .dataframe tbody tr th {\n        vertical-align: top;\n    }\n\n    .dataframe thead th {\n        text-align: right;\n    }\n</style>\n<table border=\"1\" class=\"dataframe\">\n  <thead>\n    <tr style=\"text-align: right;\">\n      <th></th>\n      <th>Year</th>\n      <th>Teams</th>\n      <th>Ranking</th>\n      <th>avg player value (EU)</th>\n      <th>avg player wage</th>\n      <th>Transfer Spend (Euros)</th>\n      <th>MA</th>\n      <th>Country</th>\n    </tr>\n  </thead>\n  <tbody>\n    <tr>\n      <th>0</th>\n      <td>2019</td>\n      <td>Juventus</td>\n      <td>1</td>\n      <td>22287121.0</td>\n      <td>113636.0</td>\n      <td>201.150</td>\n      <td>194.28</td>\n      <td>Italy</td>\n    </tr>\n    <tr>\n      <th>1</th>\n      <td>2019</td>\n      <td>Inter Milan</td>\n      <td>2</td>\n      <td>14953666.0</td>\n      <td>53733.0</td>\n      <td>171.284</td>\n      <td>127.64</td>\n      <td>Italy</td>\n    </tr>\n    <tr>\n      <th>2</th>\n      <td>2019</td>\n      <td>SS Lazio</td>\n      <td>3</td>\n      <td>11658939.0</td>\n      <td>40455.0</td>\n      <td>41.078</td>\n      <td>36.29</td>\n      <td>Italy</td>\n    </tr>\n    <tr>\n      <th>3</th>\n      <td>2019</td>\n      <td>Atalanta</td>\n      <td>4</td>\n      <td>8712321.0</td>\n      <td>38393.0</td>\n      <td>51.130</td>\n      <td>49.78</td>\n      <td>Italy</td>\n    </tr>\n    <tr>\n      <th>4</th>\n      <td>2019</td>\n      <td>AS Roma</td>\n      <td>5</td>\n      <td>9323709.0</td>\n      <td>31516.0</td>\n      <td>102.690</td>\n      <td>110.81</td>\n      <td>Italy</td>\n    </tr>\n  </tbody>\n</table>\n</div>"
     },
     "metadata": {},
     "execution_count": 6
    }
   ],
   "source": [
    "transfers_it = pd.read_csv(\"../../transfers/cleaned/italy_joined.csv\", dtype={'Ranking':\"Int64\"})\n",
    "transfers_it[\"Country\"] = 'Italy'\n",
    "transfers_es = pd.read_csv(\"../../transfers/cleaned/spain_joined.csv\",dtype={'Ranking':\"Int64\"})\n",
    "transfers_es[\"Country\"] = 'Spain'\n",
    "transfers_en = pd.read_csv(\"../../transfers/cleaned/england_joined.csv\",dtype={'Ranking':\"Int64\"})\n",
    "transfers_en[\"Country\"] = 'England'\n",
    "transfer_df = pd.concat([transfers_it,transfers_es,transfers_en])\n",
    "del transfer_df[\"Unnamed: 0\"]\n",
    "transfer_df.head()"
   ]
  },
  {
   "cell_type": "code",
   "execution_count": 7,
   "metadata": {},
   "outputs": [
    {
     "output_type": "execute_result",
     "data": {
      "text/plain": "   Year  Ranking  Transfer Spend (Euros)      MA Country\n0  2019        1                 201.150  194.28   Italy\n1  2019        2                 171.284  127.64   Italy\n2  2019        3                  41.078   36.29   Italy\n3  2019        4                  51.130   49.78   Italy\n4  2019        5                 102.690  110.81   Italy",
      "text/html": "<div>\n<style scoped>\n    .dataframe tbody tr th:only-of-type {\n        vertical-align: middle;\n    }\n\n    .dataframe tbody tr th {\n        vertical-align: top;\n    }\n\n    .dataframe thead th {\n        text-align: right;\n    }\n</style>\n<table border=\"1\" class=\"dataframe\">\n  <thead>\n    <tr style=\"text-align: right;\">\n      <th></th>\n      <th>Year</th>\n      <th>Ranking</th>\n      <th>Transfer Spend (Euros)</th>\n      <th>MA</th>\n      <th>Country</th>\n    </tr>\n  </thead>\n  <tbody>\n    <tr>\n      <th>0</th>\n      <td>2019</td>\n      <td>1</td>\n      <td>201.150</td>\n      <td>194.28</td>\n      <td>Italy</td>\n    </tr>\n    <tr>\n      <th>1</th>\n      <td>2019</td>\n      <td>2</td>\n      <td>171.284</td>\n      <td>127.64</td>\n      <td>Italy</td>\n    </tr>\n    <tr>\n      <th>2</th>\n      <td>2019</td>\n      <td>3</td>\n      <td>41.078</td>\n      <td>36.29</td>\n      <td>Italy</td>\n    </tr>\n    <tr>\n      <th>3</th>\n      <td>2019</td>\n      <td>4</td>\n      <td>51.130</td>\n      <td>49.78</td>\n      <td>Italy</td>\n    </tr>\n    <tr>\n      <th>4</th>\n      <td>2019</td>\n      <td>5</td>\n      <td>102.690</td>\n      <td>110.81</td>\n      <td>Italy</td>\n    </tr>\n  </tbody>\n</table>\n</div>"
     },
     "metadata": {},
     "execution_count": 7
    }
   ],
   "source": [
    "transfer_df = transfer_df[[\"Year\",\"Ranking\",\"Transfer Spend (Euros)\",\"MA\",\"Country\"]]\n",
    "transfer_df.dropna(subset=[\"Ranking\"],inplace=True)\n",
    "transfer_df.head()"
   ]
  },
  {
   "cell_type": "code",
   "execution_count": 8,
   "metadata": {},
   "outputs": [],
   "source": [
    "eng_df = pd.read_csv(f\"../cleaned/{files[0]}\",encoding=\"UTF-8\")\n",
    "final_eng = eng_df.merge(epl,on=['Ranking','Year'],how='outer')\n",
    "final_eng = final_eng.sort_values([\"Year\",\"Ranking\"]).reset_index(drop=True)\n",
    "final_eng['Goals+'].iloc[0:20] = final_eng['G+'].iloc[0:20]\n",
    "final_eng['Goals-'].iloc[0:20] = final_eng['G-'].iloc[0:20]\n",
    "final_eng['Points_x'].iloc[0:20] = final_eng['Points_y'].iloc[0:20]\n",
    "final_eng['Teams'].iloc[-20:] = final_eng['Team'].iloc[-20:]\n",
    "final_eng['Points_x'].iloc[-20:] = final_eng['Points_y'].iloc[-20:]\n",
    "final_eng['Goals+'].iloc[-20:] = final_eng['G+'].iloc[-20:]\n",
    "final_eng['Goals-'].iloc[-20:] = final_eng['G-'].iloc[-20:]\n",
    "final_eng[\"Country\"] = 'England'\n",
    "final_eng = final_eng.drop(columns=[\"Team\",\"Goals\",\"G+\",\"G-\",\"Points_y\"]).rename({\"Points_x\":\"Points\"},axis=1)"
   ]
  },
  {
   "cell_type": "code",
   "execution_count": 9,
   "metadata": {},
   "outputs": [],
   "source": [
    "es_df = pd.read_csv(f\"../cleaned/{files[3]}\",encoding=\"UTF-8\")\n",
    "final_es = es_df.merge(liga,on=['Ranking','Year'],how='outer')\n",
    "final_es = final_es.sort_values([\"Year\",\"Ranking\"]).reset_index(drop=True)\n",
    "final_es['Goals+'].iloc[0:20] = final_es['G+'].iloc[0:20]\n",
    "final_es['Goals-'].iloc[0:20] = final_es['G-'].iloc[0:20]\n",
    "final_es['Teams'].iloc[-20:] = final_es['Team'].iloc[-20:]\n",
    "final_es['Points_x'].iloc[-20:] = final_es['Points_y'].iloc[-20:]\n",
    "final_es['Goals+'].iloc[-20:] = final_es['G+'].iloc[-20:]\n",
    "final_es['Goals-'].iloc[-20:] = final_es['G-'].iloc[-20:]\n",
    "final_es[\"Country\"] = 'Spain'\n",
    "final_es = final_es.drop(columns=[\"Team\",\"Goals\",\"G+\",\"G-\",\"Points_y\"]).rename({\"Points_x\":\"Points\"},axis=1)"
   ]
  },
  {
   "cell_type": "code",
   "execution_count": 10,
   "metadata": {},
   "outputs": [],
   "source": [
    "it_df = pd.read_csv(f\"../cleaned/{files[6]}\",encoding=\"UTF-8\")\n",
    "final_it = it_df.merge(serieA,on=['Ranking','Year'],how='outer')\n",
    "final_it = final_it.sort_values([\"Year\",\"Ranking\"]).reset_index(drop=True)\n",
    "final_it['Goals+'].iloc[0:20] = final_it['G+'].iloc[0:20]\n",
    "final_it['Goals-'].iloc[0:20] = final_it['G-'].iloc[0:20]\n",
    "final_it['Points_x'].iloc[0:20] = final_it['Points_y'].iloc[0:20]\n",
    "final_it['Teams'].iloc[-20:] = final_it['Team'].iloc[-20:]\n",
    "final_it['Points_x'].iloc[-20:] = final_it['Points_y'].iloc[-20:]\n",
    "final_it['Goals+'].iloc[-20:] = final_it['G+'].iloc[-20:]\n",
    "final_it['Goals-'].iloc[-20:] = final_it['G-'].iloc[-20:]\n",
    "final_it[\"Country\"] = 'Italy'\n",
    "final_it = final_it.drop(columns=[\"Team\",\"Goals\",\"G+\",\"G-\",\"Points_y\"]).rename({\"Points_x\":\"Points\"},axis=1)"
   ]
  },
  {
   "cell_type": "code",
   "execution_count": 11,
   "metadata": {},
   "outputs": [],
   "source": [
    "leagues_df = pd.concat([final_eng,final_it,final_es])\n",
    "leagues_df = leagues_df.merge(transfer_df, on=[\"Year\",\"Ranking\",\"Country\"],how='outer').drop_duplicates()"
   ]
  },
  {
   "cell_type": "code",
   "execution_count": 12,
   "metadata": {},
   "outputs": [],
   "source": [
    "final_eng.to_csv('../cleaned_final/epl.csv')\n",
    "final_es.to_csv('../cleaned_final/liga.csv')\n",
    "final_it.to_csv('../cleaned_final/serieA.csv')\n",
    "leagues_df.to_csv('../cleaned_final/leagues.csv')"
   ]
  },
  {
   "cell_type": "code",
   "execution_count": null,
   "metadata": {},
   "outputs": [],
   "source": []
  }
 ]
}