{
 "cells": [
  {
   "cell_type": "code",
   "execution_count": 3,
   "metadata": {},
   "outputs": [],
   "source": [
    "import pandas as pd\n",
    "import numpy as np"
   ]
  },
  {
   "cell_type": "code",
   "execution_count": 4,
   "metadata": {},
   "outputs": [],
   "source": [
    "# creating lists to use for later looping\n",
    "years = [1992,1993,1994,1995,1996,1997,1998,1999,2000,2001,2002,2003,2004,2005,2006,2007,2008,2009,2010,2011,2012,2013,2014, 2015,2016,2017,2018,2019]\n",
    "leagues = [\"english_premier_league\",\"italian_serie_a\",\"spanish_primera_division\"]"
   ]
  },
  {
   "cell_type": "code",
   "execution_count": 5,
   "metadata": {},
   "outputs": [],
   "source": [
    "# Creating a function that will merge the various years for each league chosen\n",
    "def data_org(league):\n",
    "    appended_data = []\n",
    "    for year in years:\n",
    "        file_path=f\"../raw/{year}/{league}.csv\"\n",
    "        df_league = pd.read_csv(file_path)\n",
    "        appended_data.append(df_league)\n",
    "    new_df = pd.concat(appended_data)\n",
    "    new_df = new_df[[\"year\",\"club_name\",\"transfer_movement\",\"fee_cleaned\"]]\n",
    "    new_df = new_df[new_df[\"transfer_movement\"]=='in']\n",
    "    return new_df"
   ]
  },
  {
   "cell_type": "code",
   "execution_count": 6,
   "metadata": {},
   "outputs": [],
   "source": [
    "# Applying the function to build our datasets\n",
    "premier_league_df = data_org(leagues[0])\n",
    "italian_df = data_org(leagues[1])\n",
    "spanish_df = data_org(leagues[2])"
   ]
  },
  {
   "cell_type": "code",
   "execution_count": 7,
   "metadata": {},
   "outputs": [],
   "source": [
    "# Creating a function that formats the dataframes to suit requirements for analysis\n",
    "def group_transfers(df):\n",
    "    df_group = df.groupby([\"year\"]).sum()\n",
    "    df_group = df_group.sort_values(by=[\"year\"],ascending=True).rename(columns={\"fee_cleaned\": \"Transfer_Spend\",\"year\":\"Year\"}).reset_index()\n",
    "    df_group = df_group.rename(columns={\"club_name\":\"Teams\"})\n",
    "    return df_group"
   ]
  },
  {
   "cell_type": "code",
   "execution_count": 8,
   "metadata": {},
   "outputs": [],
   "source": [
    "# Creating a function that formats the dataframes to suit requirements for analysis\n",
    "def group_and_clean(df):\n",
    "    df_group = df.groupby([\"year\",\"club_name\"]).sum()\n",
    "    df_group = df_group.sort_values(by=[\"year\",\"fee_cleaned\"],ascending=False).rename(columns={\"fee_cleaned\": \"Transfer Spend (Euros)\",\"year\":\"Year\"}).reset_index()\n",
    "    df_group = df_group.rename(columns={\"club_name\":\"Teams\"})\n",
    "    return df_group"
   ]
  },
  {
   "cell_type": "code",
   "execution_count": 11,
   "metadata": {},
   "outputs": [
    {
     "data": {
      "text/html": [
       "<div>\n",
       "<style scoped>\n",
       "    .dataframe tbody tr th:only-of-type {\n",
       "        vertical-align: middle;\n",
       "    }\n",
       "\n",
       "    .dataframe tbody tr th {\n",
       "        vertical-align: top;\n",
       "    }\n",
       "\n",
       "    .dataframe thead th {\n",
       "        text-align: right;\n",
       "    }\n",
       "</style>\n",
       "<table border=\"1\" class=\"dataframe\">\n",
       "  <thead>\n",
       "    <tr style=\"text-align: right;\">\n",
       "      <th></th>\n",
       "      <th>year</th>\n",
       "      <th>Transfer_Spend</th>\n",
       "    </tr>\n",
       "  </thead>\n",
       "  <tbody>\n",
       "    <tr>\n",
       "      <th>0</th>\n",
       "      <td>1992</td>\n",
       "      <td>107.738</td>\n",
       "    </tr>\n",
       "    <tr>\n",
       "      <th>1</th>\n",
       "      <td>1993</td>\n",
       "      <td>69.775</td>\n",
       "    </tr>\n",
       "    <tr>\n",
       "      <th>2</th>\n",
       "      <td>1994</td>\n",
       "      <td>34.088</td>\n",
       "    </tr>\n",
       "    <tr>\n",
       "      <th>3</th>\n",
       "      <td>1995</td>\n",
       "      <td>85.210</td>\n",
       "    </tr>\n",
       "    <tr>\n",
       "      <th>4</th>\n",
       "      <td>1996</td>\n",
       "      <td>101.566</td>\n",
       "    </tr>\n",
       "    <tr>\n",
       "      <th>5</th>\n",
       "      <td>1997</td>\n",
       "      <td>193.487</td>\n",
       "    </tr>\n",
       "    <tr>\n",
       "      <th>6</th>\n",
       "      <td>1998</td>\n",
       "      <td>300.232</td>\n",
       "    </tr>\n",
       "    <tr>\n",
       "      <th>7</th>\n",
       "      <td>1999</td>\n",
       "      <td>442.465</td>\n",
       "    </tr>\n",
       "    <tr>\n",
       "      <th>8</th>\n",
       "      <td>2000</td>\n",
       "      <td>449.642</td>\n",
       "    </tr>\n",
       "    <tr>\n",
       "      <th>9</th>\n",
       "      <td>2001</td>\n",
       "      <td>742.775</td>\n",
       "    </tr>\n",
       "    <tr>\n",
       "      <th>10</th>\n",
       "      <td>2002</td>\n",
       "      <td>322.945</td>\n",
       "    </tr>\n",
       "    <tr>\n",
       "      <th>11</th>\n",
       "      <td>2003</td>\n",
       "      <td>154.391</td>\n",
       "    </tr>\n",
       "    <tr>\n",
       "      <th>12</th>\n",
       "      <td>2004</td>\n",
       "      <td>201.236</td>\n",
       "    </tr>\n",
       "    <tr>\n",
       "      <th>13</th>\n",
       "      <td>2005</td>\n",
       "      <td>171.804</td>\n",
       "    </tr>\n",
       "    <tr>\n",
       "      <th>14</th>\n",
       "      <td>2006</td>\n",
       "      <td>232.786</td>\n",
       "    </tr>\n",
       "    <tr>\n",
       "      <th>15</th>\n",
       "      <td>2007</td>\n",
       "      <td>394.596</td>\n",
       "    </tr>\n",
       "    <tr>\n",
       "      <th>16</th>\n",
       "      <td>2008</td>\n",
       "      <td>544.090</td>\n",
       "    </tr>\n",
       "    <tr>\n",
       "      <th>17</th>\n",
       "      <td>2009</td>\n",
       "      <td>493.033</td>\n",
       "    </tr>\n",
       "    <tr>\n",
       "      <th>18</th>\n",
       "      <td>2010</td>\n",
       "      <td>420.886</td>\n",
       "    </tr>\n",
       "    <tr>\n",
       "      <th>19</th>\n",
       "      <td>2011</td>\n",
       "      <td>569.256</td>\n",
       "    </tr>\n",
       "    <tr>\n",
       "      <th>20</th>\n",
       "      <td>2012</td>\n",
       "      <td>513.896</td>\n",
       "    </tr>\n",
       "    <tr>\n",
       "      <th>21</th>\n",
       "      <td>2013</td>\n",
       "      <td>543.207</td>\n",
       "    </tr>\n",
       "    <tr>\n",
       "      <th>22</th>\n",
       "      <td>2014</td>\n",
       "      <td>416.923</td>\n",
       "    </tr>\n",
       "    <tr>\n",
       "      <th>23</th>\n",
       "      <td>2015</td>\n",
       "      <td>673.384</td>\n",
       "    </tr>\n",
       "    <tr>\n",
       "      <th>24</th>\n",
       "      <td>2016</td>\n",
       "      <td>792.049</td>\n",
       "    </tr>\n",
       "    <tr>\n",
       "      <th>25</th>\n",
       "      <td>2017</td>\n",
       "      <td>945.184</td>\n",
       "    </tr>\n",
       "    <tr>\n",
       "      <th>26</th>\n",
       "      <td>2018</td>\n",
       "      <td>1194.020</td>\n",
       "    </tr>\n",
       "    <tr>\n",
       "      <th>27</th>\n",
       "      <td>2019</td>\n",
       "      <td>1263.359</td>\n",
       "    </tr>\n",
       "  </tbody>\n",
       "</table>\n",
       "</div>"
      ],
      "text/plain": [
       "    year  Transfer_Spend\n",
       "0   1992         107.738\n",
       "1   1993          69.775\n",
       "2   1994          34.088\n",
       "3   1995          85.210\n",
       "4   1996         101.566\n",
       "5   1997         193.487\n",
       "6   1998         300.232\n",
       "7   1999         442.465\n",
       "8   2000         449.642\n",
       "9   2001         742.775\n",
       "10  2002         322.945\n",
       "11  2003         154.391\n",
       "12  2004         201.236\n",
       "13  2005         171.804\n",
       "14  2006         232.786\n",
       "15  2007         394.596\n",
       "16  2008         544.090\n",
       "17  2009         493.033\n",
       "18  2010         420.886\n",
       "19  2011         569.256\n",
       "20  2012         513.896\n",
       "21  2013         543.207\n",
       "22  2014         416.923\n",
       "23  2015         673.384\n",
       "24  2016         792.049\n",
       "25  2017         945.184\n",
       "26  2018        1194.020\n",
       "27  2019        1263.359"
      ]
     },
     "execution_count": 11,
     "metadata": {},
     "output_type": "execute_result"
    }
   ],
   "source": [
    "italian_summary"
   ]
  },
  {
   "cell_type": "code",
   "execution_count": 10,
   "metadata": {},
   "outputs": [],
   "source": [
    "# Applying the function to format our datasets\n",
    "italian_summary = group_transfers(italian_df)\n",
    "english_summary = group_transfers(premier_league_df)\n",
    "spanish_summary = group_transfers(spanish_df)"
   ]
  },
  {
   "cell_type": "code",
   "execution_count": 1,
   "metadata": {},
   "outputs": [
    {
     "ename": "NameError",
     "evalue": "name 'pd' is not defined",
     "output_type": "error",
     "traceback": [
      "\u001b[0;31m---------------------------------------------------------------------------\u001b[0m",
      "\u001b[0;31mNameError\u001b[0m                                 Traceback (most recent call last)",
      "\u001b[0;32m<ipython-input-1-e06c88b4e527>\u001b[0m in \u001b[0;36m<module>\u001b[0;34m\u001b[0m\n\u001b[0;32m----> 1\u001b[0;31m \u001b[0mtransfer_summary\u001b[0m \u001b[0;34m=\u001b[0m \u001b[0mpd\u001b[0m\u001b[0;34m.\u001b[0m\u001b[0mconcat\u001b[0m\u001b[0;34m(\u001b[0m\u001b[0;34m[\u001b[0m\u001b[0mitalian_summary\u001b[0m\u001b[0;34m,\u001b[0m\u001b[0menglish_summary\u001b[0m\u001b[0;34m,\u001b[0m\u001b[0mspanish_summary\u001b[0m\u001b[0;34m]\u001b[0m\u001b[0;34m)\u001b[0m\u001b[0;34m\u001b[0m\u001b[0;34m\u001b[0m\u001b[0m\n\u001b[0m",
      "\u001b[0;31mNameError\u001b[0m: name 'pd' is not defined"
     ]
    }
   ],
   "source": [
    "transfer_summary = pd.concat([italian_summary,english_summary,spanish_summary])\n"
   ]
  },
  {
   "cell_type": "code",
   "execution_count": 37,
   "metadata": {},
   "outputs": [],
   "source": [
    "# Applying the function to format our datasets\n",
    "italian_transfers = group_and_clean(italian_df)\n",
    "english_transfers = group_and_clean(premier_league_df)\n",
    "spanish_transfers = group_and_clean(spanish_df)"
   ]
  },
  {
   "cell_type": "code",
   "execution_count": 39,
   "metadata": {},
   "outputs": [],
   "source": [
    "english_summary[\"League\"]=\"England\"\n",
    "italian_summary[\"League\"]=\"Italy\"\n",
    "spanish_summary[\"League\"]=\"Spain\""
   ]
  },
  {
   "cell_type": "code",
   "execution_count": null,
   "metadata": {},
   "outputs": [],
   "source": []
  },
  {
   "cell_type": "code",
   "execution_count": null,
   "metadata": {},
   "outputs": [],
   "source": [
    "years = [1992,1993,1994,1995,1996,1997,1998,1999,2000,2001,2002,2003,2004,2005,2006,2007,2008,2009,2010,2011,2012,2013,2014, 2015,2016,2017,2018,2019]\n",
    "leagues = [\"english_premier_league\",\"italian_serie_a\",\"spanish_primera_division\"]\n",
    "\n",
    "if year >2013:\n",
    "\n",
    "    for year in years:\n",
    "    \n",
    "    year[i]-year[i-1]-year[i-2]==2"
   ]
  },
  {
   "cell_type": "code",
   "execution_count": 40,
   "metadata": {},
   "outputs": [],
   "source": [
    "# A function that will be used when calculating the moving average \n",
    "# In this data set, there are teams that have not been in the league for each year we are working with due to promotion / relegation. \n",
    "# This function ensures that we are only calculating the Moving Average for teams that have been there for consecutive years.\n",
    "\n",
    "def year_test(time):\n",
    "    count = 0\n",
    "    length = len(time) - 1\n",
    "    outcome = \"False\"\n",
    "    # Using the difference between years to determine if they are sequential.\n",
    "    for year1, year2 in zip(time,time[1:]):\n",
    "        total = year2 - year1\n",
    "        count += total\n",
    "    if length == count:\n",
    "        outcome = \"True\"\n",
    "    return outcome"
   ]
  },
  {
   "cell_type": "code",
   "execution_count": 41,
   "metadata": {},
   "outputs": [],
   "source": [
    "# Function to calculate the moving average (MA)\n",
    "def moving_average(df):\n",
    "    # empty list to store our dataframes\n",
    "    append_team = []\n",
    "    \n",
    "    # sorting values by Team and then year to allow average to calculate\n",
    "    df = df.sort_values(by=[\"Teams\",\"year\"], ascending = True)\n",
    "    \n",
    "    # generating a unique list of the teams\n",
    "    teams = df[\"Teams\"].unique().tolist()\n",
    "\n",
    "    for team in teams:\n",
    "        # filtering on an individual team to create their 3yr MA\n",
    "        team_df = df[df[\"Teams\"]==team]\n",
    "        years = team_df[\"year\"].tolist()\n",
    "        if year_test(years) == \"True\":\n",
    "            # using 'rolling' function to create MA\n",
    "            team_df[\"MA\"] = team_df.iloc[:,2].rolling(window=3,min_periods = 3).mean().round(2)\n",
    "            team_df = team_df[[\"year\",\"Teams\",\"MA\"]]\n",
    "            append_team.append(team_df)\n",
    "    team_list = pd.concat(append_team)\n",
    "    \n",
    "    #joining the dataframes\n",
    "    team_join = pd.merge(df,team_list,how = \"outer\",on=[\"year\",\"Teams\"])\n",
    "    return team_join"
   ]
  },
  {
   "cell_type": "code",
   "execution_count": 42,
   "metadata": {},
   "outputs": [
    {
     "name": "stderr",
     "output_type": "stream",
     "text": [
      "/opt/anaconda3/envs/PythonData/lib/python3.6/site-packages/ipykernel_launcher.py:18: SettingWithCopyWarning: \n",
      "A value is trying to be set on a copy of a slice from a DataFrame.\n",
      "Try using .loc[row_indexer,col_indexer] = value instead\n",
      "\n",
      "See the caveats in the documentation: https://pandas.pydata.org/pandas-docs/stable/user_guide/indexing.html#returning-a-view-versus-a-copy\n"
     ]
    }
   ],
   "source": [
    "# Applying MA function to each league\n",
    "spanish_summary = moving_average(spanish_transfers)\n",
    "english_summary = moving_average(english_transfers)\n",
    "italian_summary = moving_average(italian_transfers)"
   ]
  },
  {
   "cell_type": "code",
   "execution_count": 43,
   "metadata": {},
   "outputs": [],
   "source": [
    "# Cleaning Italian Data\n",
    "italian_summary[\"Teams\"] = italian_summary[\"Teams\"].str.replace(\"\\s$\",\"\")\n",
    "italian_summary[\"Teams\"] = italian_summary[\"Teams\"].str.replace(\"\\s+FC\", \"\")\n",
    "italian_summary[\"Teams\"] = italian_summary[\"Teams\"].str.replace(\"\\s+BC\", \"\")\n",
    "italian_summary[\"Teams\"] = italian_summary[\"Teams\"].str.replace(\"\\s+CFC\", \"\")\n",
    "italian_summary[\"Teams\"] = italian_summary[\"Teams\"].str.replace(\"^\\s?UC\", \"\")\n",
    "italian_summary[\"Teams\"] = italian_summary[\"Teams\"].str.replace(\"^\\s?US\", \"\")\n",
    "italian_summary[\"Teams\"] = italian_summary[\"Teams\"].str.replace(\"^\\s?SSC\\s?\", \"\")\n",
    "italian_summary[\"Teams\"] = italian_summary[\"Teams\"].str.replace(\"^\\s?\",\"\")"
   ]
  },
  {
   "cell_type": "code",
   "execution_count": 44,
   "metadata": {},
   "outputs": [],
   "source": [
    "# Cleaning English Data\n",
    "english_summary[\"Teams\"] = english_summary[\"Teams\"].str.replace(\"\\s$\",\"\")\n",
    "english_summary[\"Teams\"] = english_summary[\"Teams\"].str.replace(\"\\s+FC\", \"\")\n",
    "english_summary[\"Teams\"] = english_summary[\"Teams\"].str.replace(\"\\s+AFC\", \"\")\n",
    "english_summary[\"Teams\"] = english_summary[\"Teams\"].str.replace(\"^AFC\\s\", \"\")"
   ]
  },
  {
   "cell_type": "code",
   "execution_count": 45,
   "metadata": {},
   "outputs": [],
   "source": [
    "# Outputting data to CSV\n",
    "italian_summary.to_csv(\"../cleaned/italian_transfers.csv\")\n",
    "english_summary.to_csv(\"../cleaned/english_transfers.csv\")\n",
    "spanish_summary.to_csv(\"../cleaned/spanish_transfers.csv\")\n",
    "transfer_summary.to_csv(\"../cleaned/transfers_summary.csv\")"
   ]
  },
  {
   "cell_type": "code",
   "execution_count": null,
   "metadata": {},
   "outputs": [],
   "source": []
  }
 ],
 "metadata": {
  "kernelspec": {
   "display_name": "Python 3",
   "language": "python",
   "name": "python3"
  },
  "language_info": {
   "codemirror_mode": {
    "name": "ipython",
    "version": 3
   },
   "file_extension": ".py",
   "mimetype": "text/x-python",
   "name": "python",
   "nbconvert_exporter": "python",
   "pygments_lexer": "ipython3",
   "version": "3.6.10"
  }
 },
 "nbformat": 4,
 "nbformat_minor": 4
}
