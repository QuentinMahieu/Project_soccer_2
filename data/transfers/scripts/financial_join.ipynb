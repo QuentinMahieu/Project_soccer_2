{
 "cells": [
  {
   "cell_type": "code",
   "execution_count": 7,
   "metadata": {},
   "outputs": [],
   "source": [
    "import pandas as pd\n",
    "import numpy as np\n",
    "import difflib"
   ]
  },
  {
   "cell_type": "code",
   "execution_count": 8,
   "metadata": {},
   "outputs": [],
   "source": [
    "# creating lists to use for later looping\n",
    "transfer_data = [\"italian\",\"spanish\",\"english\"]\n",
    "wage_data = [\"SerieA\",\"Liga\",\"EPl\"]"
   ]
  },
  {
   "cell_type": "code",
   "execution_count": 9,
   "metadata": {},
   "outputs": [],
   "source": [
    "# Creating a function to join two cleaned datasets\n",
    "def transfer_joiner(team_a,team_b):\n",
    "    file_transfer = f\"../cleaned/{team_a}_transfers.csv\"\n",
    "    file_wage = f\"../../Team_player/cleaned/{team_b}.csv\"\n",
    "    transfer = pd.read_csv(file_transfer)\n",
    "    transfer = transfer.rename(columns={\"year\":\"Year\"})\n",
    "    transfer = transfer[[\"Year\",\"Teams\",\"Transfer Spend (Euros)\",\"MA\"]]\n",
    "    wage = pd.read_csv(file_wage)\n",
    "    wage = wage[[\"Year\",\"Teams\", \"Ranking\",\"avg player value (EU)\",\"avg player wage\"]]\n",
    "    # As certain team names appear different in the sets, this line does a 'fuzzy' lookup to match the names from one dataframe to another\n",
    "    wage[\"Teams\"] = wage[\"Teams\"].apply(lambda x: difflib.get_close_matches(x,transfer[\"Teams\"])[0])\n",
    "    wage[\"Teams\"] = wage[\"Teams\"].str.replace(\"FC Internazionale\",\"Inter Milan\")\n",
    "    joined = pd.merge(wage,transfer,on=[\"Year\",\"Teams\"],how=\"outer\")\n",
    "    joined = joined[joined[\"Year\"]>2013]\n",
    "    return joined"
   ]
  },
  {
   "cell_type": "code",
   "execution_count": 10,
   "metadata": {},
   "outputs": [],
   "source": [
    "italy_joined = transfer_joiner(transfer_data[0],wage_data[0])\n",
    "spain_joined = transfer_joiner(transfer_data[1],wage_data[1])\n",
    "england_joined = transfer_joiner(transfer_data[2],wage_data[2])"
   ]
  },
  {
   "cell_type": "code",
   "execution_count": 11,
   "metadata": {},
   "outputs": [],
   "source": [
    "italy_joined.to_csv(\"../cleaned/italy_joined.csv\")\n",
    "spain_joined.to_csv(\"../cleaned/spain_joined.csv\")\n",
    "england_joined.to_csv(\"../cleaned/england_joined.csv\")"
   ]
  }
 ],
 "metadata": {
  "kernelspec": {
   "display_name": "Python 3",
   "language": "python",
   "name": "python3"
  },
  "language_info": {
   "codemirror_mode": {
    "name": "ipython",
    "version": 3
   },
   "file_extension": ".py",
   "mimetype": "text/x-python",
   "name": "python",
   "nbconvert_exporter": "python",
   "pygments_lexer": "ipython3",
   "version": "3.6.10-final"
  }
 },
 "nbformat": 4,
 "nbformat_minor": 4
}