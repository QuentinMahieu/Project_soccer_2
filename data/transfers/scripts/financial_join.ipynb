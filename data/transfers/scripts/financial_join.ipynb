{
 "cells": [
  {
   "cell_type": "code",
   "execution_count": 1,
   "metadata": {},
   "outputs": [],
   "source": [
    "import pandas as pd\n",
    "import numpy as np\n",
    "import difflib"
   ]
  },
  {
   "cell_type": "code",
   "execution_count": 2,
   "metadata": {},
   "outputs": [],
   "source": [
    "# creating lists to use for later looping\n",
    "transfer_data = [\"italian\",\"spanish\",\"english\"]\n",
    "wage_data = [\"SerieA\",\"Liga\",\"EPl\"]"
   ]
  },
  {
   "cell_type": "code",
   "execution_count": 3,
   "metadata": {},
   "outputs": [],
   "source": [
    "# Creating a function to join two cleaned datasets\n",
    "def transfer_joiner(team_a,team_b):\n",
    "    file_transfer = f\"../cleaned/{team_a}_transfers.csv\"\n",
    "    file_wage = f\"../../Team_player/cleaned/{team_b}.csv\"\n",
    "    transfer = pd.read_csv(file_transfer)\n",
    "    transfer = transfer.rename(columns={\"year\":\"Year\"})\n",
    "    transfer = transfer[[\"Year\",\"Teams\",\"Transfer Spend (Euros)\",\"MA\"]]\n",
    "    wage = pd.read_csv(file_wage)\n",
    "    wage = wage[[\"Year\",\"Teams\", \"Ranking\",\"avg player value (EU)\",\"avg player wage\"]]\n",
    "    # As certain team names appear different in the sets, this line does a 'fuzzy' lookup to match the names from one dataframe to another\n",
    "    wage[\"Teams\"] = wage[\"Teams\"].apply(lambda x: difflib.get_close_matches(x,transfer[\"Teams\"])[0])\n",
    "    wage[\"Teams\"] = wage[\"Teams\"].str.replace(\"FC Internazionale\",\"Inter Milan\")\n",
    "    joined = pd.merge(wage,transfer,on=[\"Year\",\"Teams\"],how=\"outer\")\n",
    "    joined = joined[joined[\"Year\"]>2014]\n",
    "    return joined"
   ]
  },
  {
   "cell_type": "code",
   "execution_count": 33,
   "metadata": {},
   "outputs": [],
   "source": [
    "italy_joined = transfer_joiner(transfer_data[0],wage_data[0])\n",
    "spain_joined = transfer_joiner(transfer_data[1],wage_data[1])\n",
    "england_joined = transfer_joiner(transfer_data[2],wage_data[2])"
   ]
  },
  {
   "cell_type": "code",
   "execution_count": 16,
   "metadata": {},
   "outputs": [],
   "source": [
    "def top4Clean(df, country):\n",
    "    df = df[[\"Year\",\"Teams\",\"Ranking\",\"avg player value (EU)\",\"avg player wage\",\"Transfer Spend (Euros)\"]]\n",
    "    df = df.rename(columns={\"Teams\":\"Team\",\"avg player value (EU)\":\"Average_Player_Value\",\"avg player wage\":\"Player_Wages\",\"Transfer Spend (Euros)\":\"Transfer_spend\"})\n",
    "    df[\"League\"]=country\n",
    "    df = df[df[\"Ranking\"]<5]\n",
    "    return df"
   ]
  },
  {
   "cell_type": "code",
   "execution_count": 21,
   "metadata": {},
   "outputs": [],
   "source": [
    "italy_top4 = top4Clean(italy_joined,\"Italy\")\n",
    "spain_top4 = top4Clean(spain_joined,\"Spain\")\n",
    "england_top4 = top4Clean(england_joined,\"England\")\n",
    "top_4 = pd.concat([italy_top4,spain_top4,england_top4])"
   ]
  },
  {
   "cell_type": "code",
   "execution_count": null,
   "metadata": {},
   "outputs": [],
   "source": [
    "italy_joined.to_csv(\"../cleaned/italy_joined.csv\")\n",
    "spain_joined.to_csv(\"../cleaned/spain_joined.csv\")\n",
    "england_joined.to_csv(\"../cleaned/england_joined.csv\")"
   ]
  },
  {
   "cell_type": "code",
   "execution_count": 22,
   "metadata": {},
   "outputs": [],
   "source": [
    "top_4.to_csv(\"../cleaned/top4_financials.csv\")"
   ]
  },
  {
   "cell_type": "code",
   "execution_count": 54,
   "metadata": {},
   "outputs": [],
   "source": [
    "def summariser(joined_df,group,league):\n",
    "    years = [2015,2016,2017,2018,2019]\n",
    "\n",
    "    league_wage = []\n",
    "    league_pv = []\n",
    "    transfers = []\n",
    "    for year in years:\n",
    "        join = joined_df[joined_df[\"Year\"]==year]\n",
    "        join\n",
    "        league_wage.append(join[\"avg player wage\"].mean())\n",
    "        league_pv.append(join[\"avg player value (EU)\"].mean())\n",
    "        transfers.append(join[\"Transfer Spend (Euros)\"].mean())\n",
    "\n",
    "    dictionary = {\"Year\":years,\"Wages\":league_wage,\"Value\":league_pv,\"Transfers\":transfers}\n",
    "    df = pd.DataFrame.from_dict(dictionary)\n",
    "    df[\"League\"]=league\n",
    "    df[\"Group\"]=group\n",
    "    return df"
   ]
  },
  {
   "cell_type": "code",
   "execution_count": 65,
   "metadata": {},
   "outputs": [],
   "source": [
    "def summaryTable(df, league):\n",
    "\n",
    "    top4_summary = summariser(df[df[\"Ranking\"]<5],\"Top 4\",league)\n",
    "    bottom4_summary = summariser(df[df[\"Ranking\"]>16],\"Bottom 4\",league)\n",
    "    league_summary = summariser(df,\"League\",league)\n",
    "    summary_df = pd.concat([top4_summary,bottom4_summary,league_summary])\n",
    "    return summary_df\n"
   ]
  },
  {
   "cell_type": "code",
   "execution_count": 68,
   "metadata": {},
   "outputs": [],
   "source": [
    "Italy_df = summaryTable(italy_joined,\"Italy\")\n",
    "England_df=summaryTable(england_joined,\"England\")\n",
    "Spain_df = summaryTable(spain_joined,\"Spain\")\n",
    "summary_df = pd.concat([Italy_df,England_df,Spain_df])\n"
   ]
  },
  {
   "cell_type": "code",
   "execution_count": 69,
   "metadata": {},
   "outputs": [],
   "source": [
    "summary_df.to_csv(\"../cleaned/summary_financials.csv\")"
   ]
  },
  {
   "cell_type": "code",
   "execution_count": null,
   "metadata": {},
   "outputs": [],
   "source": []
  }
 ],
 "metadata": {
  "kernelspec": {
   "display_name": "Python 3",
   "language": "python",
   "name": "python3"
  },
  "language_info": {
   "codemirror_mode": {
    "name": "ipython",
    "version": 3
   },
   "file_extension": ".py",
   "mimetype": "text/x-python",
   "name": "python",
   "nbconvert_exporter": "python",
   "pygments_lexer": "ipython3",
   "version": "3.6.10"
  }
 },
 "nbformat": 4,
 "nbformat_minor": 4
}
