{
 "cells": [
  {
   "cell_type": "code",
   "execution_count": 40,
   "metadata": {},
   "outputs": [],
   "source": [
    "import pandas as pd\n",
    "import numpy as np"
   ]
  },
  {
   "cell_type": "code",
   "execution_count": 104,
   "metadata": {},
   "outputs": [],
   "source": [
    "# creating lists to use for later looping\n",
    "years = [2013,2014, 2015,2016,2017,2018,2019]\n",
    "leagues = [\"english_premier_league\",\"italian_serie_a\",\"spanish_primera_division\"]"
   ]
  },
  {
   "cell_type": "code",
   "execution_count": 42,
   "metadata": {},
   "outputs": [],
   "source": [
    "# Creating a function that will merge the various years for each league chosen\n",
    "def data_org(league):\n",
    "    appended_data = []\n",
    "    for year in years:\n",
    "        file_path=f\"transfers_data/data/{year}/{league}.csv\"\n",
    "        df_league = pd.read_csv(file_path)\n",
    "        appended_data.append(df_league)\n",
    "    new_df = pd.concat(appended_data)\n",
    "    new_df = new_df[[\"year\",\"club_name\",\"transfer_movement\",\"fee_cleaned\"]]\n",
    "    new_df = new_df[new_df[\"transfer_movement\"]=='in']\n",
    "    return new_df"
   ]
  },
  {
   "cell_type": "code",
   "execution_count": 43,
   "metadata": {},
   "outputs": [],
   "source": [
    "# Applying the function to build our datasets\n",
    "premier_league_df = data_org(leagues[0])\n",
    "italian_df = data_org(leagues[1])\n",
    "spanish_df = data_org(leagues[2])"
   ]
  },
  {
   "cell_type": "code",
   "execution_count": 44,
   "metadata": {},
   "outputs": [],
   "source": [
    "# Creating a function that formats the dataframes to suit requirements for analysis\n",
    "def group_and_clean(df):\n",
    "    df_group = df.groupby([\"year\",\"club_name\"]).sum()\n",
    "    df_group = df_group.sort_values(by=[\"year\",\"fee_cleaned\"],ascending=False).rename(columns={\"fee_cleaned\": \"Transfer Spend (Euros)\"}).reset_index()\n",
    "    df_group = df_group.rename(columns={\"club_name\":\"Teams\"})\n",
    "    return df_group"
   ]
  },
  {
   "cell_type": "code",
   "execution_count": 45,
   "metadata": {},
   "outputs": [],
   "source": [
    "# Applying the function to format our datasets\n",
    "italian_transfers = group_and_clean(italian_df)\n",
    "english_transfers = group_and_clean(premier_league_df)\n",
    "spanish_transfers = group_and_clean(spanish_df)"
   ]
  },
  {
   "cell_type": "code",
   "execution_count": 103,
   "metadata": {},
   "outputs": [],
   "source": [
    "# A function that will be used when calculating the moving average \n",
    "# In this data set, there are teams that have not been in the league for each year we are working with due to promotion / relegation. \n",
    "# This function ensures that we are only calculating the Moving Average for teams that have been there for consecutive years.\n",
    "\n",
    "def year_test(time):\n",
    "    count = 0\n",
    "    length = len(time) - 1\n",
    "    outcome = \"False\"\n",
    "    # Using the difference between years to determine if they are sequential.\n",
    "    for year1, year2 in zip(time,time[1:]):\n",
    "        total = year2 - year1\n",
    "        count += total\n",
    "    if length == count:\n",
    "        outcome = \"True\"\n",
    "    return outcome"
   ]
  },
  {
   "cell_type": "code",
   "execution_count": 105,
   "metadata": {},
   "outputs": [],
   "source": [
    "# Function to calculate the moving average (MA)\n",
    "def moving_average(df):\n",
    "    # empty list to store our dataframes\n",
    "    append_team = []\n",
    "    \n",
    "    # sorting values by Team and then year to allow average to calculate\n",
    "    df = df.sort_values(by=[\"Teams\",\"year\"], ascending = True)\n",
    "    \n",
    "    # generating a unique list of the teams\n",
    "    teams = df[\"Teams\"].unique().tolist()\n",
    "\n",
    "    for team in teams:\n",
    "        # filtering on an individual team to create their 3yr MA\n",
    "        team_df = df[df[\"Teams\"]==team]\n",
    "        years = team_df[\"year\"].tolist()\n",
    "        if year_test(years) == \"True\":\n",
    "            # using 'rolling' function to create MA\n",
    "            team_df[\"MA\"] = team_df.iloc[:,2].rolling(window=3,min_periods = 3).mean().round(2)\n",
    "            team_df = team_df[[\"year\",\"Teams\",\"MA\"]]\n",
    "            append_team.append(team_df)\n",
    "    team_list = pd.concat(append_team)\n",
    "    \n",
    "    #joining the dataframes\n",
    "    team_join = pd.merge(df,team_list,how = \"outer\",on=[\"year\",\"Teams\"])\n",
    "    return team_join"
   ]
  },
  {
   "cell_type": "code",
   "execution_count": 106,
   "metadata": {},
   "outputs": [
    {
     "name": "stderr",
     "output_type": "stream",
     "text": [
      "/opt/anaconda3/envs/PythonData/lib/python3.6/site-packages/ipykernel_launcher.py:18: SettingWithCopyWarning: \n",
      "A value is trying to be set on a copy of a slice from a DataFrame.\n",
      "Try using .loc[row_indexer,col_indexer] = value instead\n",
      "\n",
      "See the caveats in the documentation: https://pandas.pydata.org/pandas-docs/stable/user_guide/indexing.html#returning-a-view-versus-a-copy\n"
     ]
    }
   ],
   "source": [
    "# Applying MA function to each league\n",
    "spanish_summary = moving_average(spanish_transfers)\n",
    "english_summary = moving_average(english_transfers)\n",
    "italian_summary = moving_average(italian_transfers)"
   ]
  },
  {
   "cell_type": "code",
   "execution_count": 107,
   "metadata": {},
   "outputs": [],
   "source": [
    "# Cleaning Italian Data\n",
    "italian_summary[\"Teams\"] = italian_summary[\"Teams\"].str.replace(\"\\s$\",\"\")\n",
    "italian_summary[\"Teams\"] = italian_summary[\"Teams\"].str.replace(\"\\s+FC\", \"\")\n",
    "italian_summary[\"Teams\"] = italian_summary[\"Teams\"].str.replace(\"\\s+BC\", \"\")\n",
    "italian_summary[\"Teams\"] = italian_summary[\"Teams\"].str.replace(\"\\s+CFC\", \"\")\n",
    "italian_summary[\"Teams\"] = italian_summary[\"Teams\"].str.replace(\"^\\s?UC\", \"\")\n",
    "italian_summary[\"Teams\"] = italian_summary[\"Teams\"].str.replace(\"^\\s?US\", \"\")\n",
    "italian_summary[\"Teams\"] = italian_summary[\"Teams\"].str.replace(\"^\\s?SSC\\s?\", \"\")\n",
    "italian_summary[\"Teams\"] = italian_summary[\"Teams\"].str.replace(\"^\\s?\",\"\")"
   ]
  },
  {
   "cell_type": "code",
   "execution_count": 108,
   "metadata": {},
   "outputs": [],
   "source": [
    "# Cleaning English Data\n",
    "english_summary[\"Teams\"] = english_summary[\"Teams\"].str.replace(\"\\s$\",\"\")\n",
    "english_summary[\"Teams\"] = english_summary[\"Teams\"].str.replace(\"\\s+FC\", \"\")\n",
    "english_summary[\"Teams\"] = english_summary[\"Teams\"].str.replace(\"\\s+AFC\", \"\")\n",
    "english_summary[\"Teams\"] = english_summary[\"Teams\"].str.replace(\"^AFC\\s\", \"\")"
   ]
  },
  {
   "cell_type": "code",
   "execution_count": 109,
   "metadata": {},
   "outputs": [],
   "source": [
    "# Outputting data to CSV\n",
    "italian_summary.to_csv(\"transfers_output/italian_transfers.csv\")\n",
    "english_summary.to_csv(\"transfers_output/english_transfers.csv\")\n",
    "spanish_summary.to_csv(\"transfers_output/spanish_transfers.csv\")"
   ]
  },
  {
   "cell_type": "code",
   "execution_count": null,
   "metadata": {},
   "outputs": [],
   "source": []
  }
 ],
 "metadata": {
  "kernelspec": {
   "display_name": "Python 3",
   "language": "python",
   "name": "python3"
  },
  "language_info": {
   "codemirror_mode": {
    "name": "ipython",
    "version": 3
   },
   "file_extension": ".py",
   "mimetype": "text/x-python",
   "name": "python",
   "nbconvert_exporter": "python",
   "pygments_lexer": "ipython3",
   "version": "3.6.10"
  }
 },
 "nbformat": 4,
 "nbformat_minor": 4
}
