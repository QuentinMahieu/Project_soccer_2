{
 "cells": [
  {
   "cell_type": "code",
   "execution_count": 3,
   "metadata": {},
   "outputs": [],
   "source": [
    "%matplotlib inline"
   ]
  },
  {
   "cell_type": "code",
   "execution_count": 4,
   "metadata": {},
   "outputs": [],
   "source": [
    "import pandas as pd\n",
    "import matplotlib.pyplot as plt\n",
    "import numpy as np\n",
    "import scipy.stats as stats\n",
    "import os"
   ]
  },
  {
   "cell_type": "code",
   "execution_count": 5,
   "metadata": {},
   "outputs": [],
   "source": [
    "eng_df = pd.read_csv(\"transfers_output/england_joined.csv\")\n",
    "italy_df = pd.read_csv(\"transfers_output/italy_joined.csv\")\n",
    "spain_df = pd.read_csv(\"transfers_output/spain_joined.csv\")"
   ]
  },
  {
   "cell_type": "code",
   "execution_count": 6,
   "metadata": {},
   "outputs": [],
   "source": [
    "spain_df = spain_df.fillna(0)\n",
    "italy_df= italy_df.fillna(0)\n",
    "eng_df = eng_df.fillna(0)"
   ]
  },
  {
   "cell_type": "code",
   "execution_count": 7,
   "metadata": {},
   "outputs": [],
   "source": [
    "list_dfs = [eng_df,spain_df,italy_df]"
   ]
  },
  {
   "cell_type": "code",
   "execution_count": 12,
   "metadata": {},
   "outputs": [],
   "source": [
    "# Calculating R-square for each league and financial variable\n",
    "def r_square(list_dfs, col1, col2):\n",
    "    leagues = [\"Premier league\",\"Liga\", \"Serie A\"]\n",
    "    for league, df in zip(leagues, list_dfs):\n",
    "        name = league\n",
    "        normalised = df[col2]/max(df[col2])\n",
    "        r = stats.pearsonr(df[col1],normalised)[0]\n",
    "        r_2 = round(r**2,3)\n",
    "        print(f\"When considering {col1} vs {col2}, The R-Square of {name} is {r_2}\")"
   ]
  },
  {
   "cell_type": "code",
   "execution_count": 13,
   "metadata": {},
   "outputs": [
    {
     "name": "stdout",
     "output_type": "stream",
     "text": [
      "When considering Ranking vs MA, The R-Square of Premier league is 0.442\n",
      "When considering Ranking vs MA, The R-Square of Liga is 0.352\n",
      "When considering Ranking vs MA, The R-Square of Serie A is 0.326\n"
     ]
    }
   ],
   "source": [
    "r_square(list_dfs,\"Ranking\",\"MA\")"
   ]
  },
  {
   "cell_type": "code",
   "execution_count": 14,
   "metadata": {},
   "outputs": [
    {
     "name": "stdout",
     "output_type": "stream",
     "text": [
      "When considering Ranking vs avg player wage, The R-Square of Premier league is 0.269\n",
      "When considering Ranking vs avg player wage, The R-Square of Liga is 0.191\n",
      "When considering Ranking vs avg player wage, The R-Square of Serie A is 0.225\n"
     ]
    }
   ],
   "source": [
    "r_square(list_dfs,\"Ranking\",\"avg player wage\")"
   ]
  },
  {
   "cell_type": "code",
   "execution_count": 18,
   "metadata": {},
   "outputs": [
    {
     "name": "stdout",
     "output_type": "stream",
     "text": [
      "When considering Ranking vs Transfer Spend (Euros), The R-Square of Premier league is 0.212\n",
      "When considering Ranking vs Transfer Spend (Euros), The R-Square of Liga is 0.255\n",
      "When considering Ranking vs Transfer Spend (Euros), The R-Square of Serie A is 0.303\n"
     ]
    }
   ],
   "source": [
    "r_square(list_dfs,\"Ranking\",\"Transfer Spend (Euros)\")"
   ]
  },
  {
   "cell_type": "code",
   "execution_count": 19,
   "metadata": {},
   "outputs": [
    {
     "name": "stdout",
     "output_type": "stream",
     "text": [
      "When considering Ranking vs avg player value (EU), The R-Square of Premier league is 0.34\n",
      "When considering Ranking vs avg player value (EU), The R-Square of Liga is 0.205\n",
      "When considering Ranking vs avg player value (EU), The R-Square of Serie A is 0.219\n"
     ]
    }
   ],
   "source": [
    "r_square(list_dfs,\"Ranking\",\"avg player value (EU)\")"
   ]
  },
  {
   "cell_type": "code",
   "execution_count": 2,
   "metadata": {},
   "outputs": [],
   "source": [
    "# This function creates a summary Df comparing the Top 4 Teams and the League for the average of a given variable.\n",
    "def compare_average(df,column):\n",
    "    \n",
    "    years = eng_df[\"Year\"].unique().tolist()\n",
    "    \n",
    "    league_average = []\n",
    "    \n",
    "    for year in years:\n",
    "        filtered_df = df[df[\"Year\"]==year]\n",
    "        average = round(filtered_df[column].mean(),2)\n",
    "        league_average.append(average)\n",
    "    result = {years[i]: league_average[i] for i in range(len(years))} \n",
    "\n",
    "    league_df = pd.DataFrame.from_dict(result, orient = \"index\").reset_index()\n",
    "    league_df = league_df.rename(columns={0:f\"League Avg: {column}\",\"index\":\"Year\"})\n",
    "\n",
    "    top4_average = []\n",
    "    \n",
    "    for year in years:\n",
    "        filtered_df_2 = df[(df[\"Year\"]==year) & (df[\"Ranking\"]<5)]\n",
    "        average = round(filtered_df_2[column].mean(),2)\n",
    "        top4_average.append(average)\n",
    "\n",
    "    result_2 = {years[i]: top4_average[i] for i in range(len(years))} \n",
    "    top4_df = pd.DataFrame.from_dict(result_2, orient = \"index\").reset_index()\n",
    "    top4_df = top4_df.rename(columns={0:f\"Top 4 Avg: {column}\",\"index\":\"Year\"})\n",
    "    combined_df = pd.merge(league_df,top4_df,on=[\"Year\"])\n",
    "    return combined_df"
   ]
  },
  {
   "cell_type": "code",
   "execution_count": 45,
   "metadata": {},
   "outputs": [],
   "source": [
    "# Applying the function to create dataframes for each league and the 3yr Moving Average.\n",
    "# Moving Average (MA) has been selected to investigate further as it has the highest r-value.\n",
    "\n",
    "# Premier League\n",
    "eng_MA = compare_average(eng_df,\"MA\")\n",
    "eng_MA[\"Difference\"] = eng_MA[\"Top 4 Avg: MA\"]-eng_MA[\"League Avg: MA\"]\n",
    "# Serie A\n",
    "italy_MA = compare_average(italy_df,\"MA\")\n",
    "italy_MA[\"Difference\"] = italy_MA[\"Top 4 Avg: MA\"]-italy_MA[\"League Avg: MA\"]\n",
    "# La Liga\n",
    "spain_MA = compare_average(spain_df,\"MA\")\n",
    "spain_MA[\"Difference\"] = spain_MA[\"Top 4 Avg: MA\"]-spain_MA[\"League Avg: MA\"]"
   ]
  },
  {
   "cell_type": "code",
   "execution_count": 73,
   "metadata": {},
   "outputs": [
    {
     "data": {
      "text/html": [
       "<div>\n",
       "<style scoped>\n",
       "    .dataframe tbody tr th:only-of-type {\n",
       "        vertical-align: middle;\n",
       "    }\n",
       "\n",
       "    .dataframe tbody tr th {\n",
       "        vertical-align: top;\n",
       "    }\n",
       "\n",
       "    .dataframe thead th {\n",
       "        text-align: right;\n",
       "    }\n",
       "</style>\n",
       "<table border=\"1\" class=\"dataframe\">\n",
       "  <thead>\n",
       "    <tr style=\"text-align: right;\">\n",
       "      <th></th>\n",
       "      <th>Year</th>\n",
       "      <th>League Avg: MA</th>\n",
       "      <th>Top 4 Avg: MA</th>\n",
       "      <th>Difference</th>\n",
       "    </tr>\n",
       "  </thead>\n",
       "  <tbody>\n",
       "    <tr>\n",
       "      <th>0</th>\n",
       "      <td>2019</td>\n",
       "      <td>47.90</td>\n",
       "      <td>81.60</td>\n",
       "      <td>33.70</td>\n",
       "    </tr>\n",
       "    <tr>\n",
       "      <th>1</th>\n",
       "      <td>2018</td>\n",
       "      <td>42.51</td>\n",
       "      <td>82.54</td>\n",
       "      <td>40.03</td>\n",
       "    </tr>\n",
       "    <tr>\n",
       "      <th>2</th>\n",
       "      <td>2017</td>\n",
       "      <td>35.26</td>\n",
       "      <td>82.70</td>\n",
       "      <td>47.44</td>\n",
       "    </tr>\n",
       "    <tr>\n",
       "      <th>3</th>\n",
       "      <td>2016</td>\n",
       "      <td>27.30</td>\n",
       "      <td>53.92</td>\n",
       "      <td>26.62</td>\n",
       "    </tr>\n",
       "    <tr>\n",
       "      <th>4</th>\n",
       "      <td>2015</td>\n",
       "      <td>21.73</td>\n",
       "      <td>40.83</td>\n",
       "      <td>19.10</td>\n",
       "    </tr>\n",
       "  </tbody>\n",
       "</table>\n",
       "</div>"
      ],
      "text/plain": [
       "   Year  League Avg: MA  Top 4 Avg: MA  Difference\n",
       "0  2019           47.90          81.60       33.70\n",
       "1  2018           42.51          82.54       40.03\n",
       "2  2017           35.26          82.70       47.44\n",
       "3  2016           27.30          53.92       26.62\n",
       "4  2015           21.73          40.83       19.10"
      ]
     },
     "execution_count": 73,
     "metadata": {},
     "output_type": "execute_result"
    }
   ],
   "source": [
    "italy_MA"
   ]
  },
  {
   "cell_type": "code",
   "execution_count": 64,
   "metadata": {},
   "outputs": [
    {
     "data": {
      "text/html": [
       "<div>\n",
       "<style scoped>\n",
       "    .dataframe tbody tr th:only-of-type {\n",
       "        vertical-align: middle;\n",
       "    }\n",
       "\n",
       "    .dataframe tbody tr th {\n",
       "        vertical-align: top;\n",
       "    }\n",
       "\n",
       "    .dataframe thead th {\n",
       "        text-align: right;\n",
       "    }\n",
       "</style>\n",
       "<table border=\"1\" class=\"dataframe\">\n",
       "  <thead>\n",
       "    <tr style=\"text-align: right;\">\n",
       "      <th></th>\n",
       "      <th>Year</th>\n",
       "      <th>League Avg: MA</th>\n",
       "      <th>Top 4 Avg: MA</th>\n",
       "      <th>Difference</th>\n",
       "    </tr>\n",
       "  </thead>\n",
       "  <tbody>\n",
       "    <tr>\n",
       "      <th>0</th>\n",
       "      <td>2019</td>\n",
       "      <td>45.56</td>\n",
       "      <td>163.97</td>\n",
       "      <td>118.41</td>\n",
       "    </tr>\n",
       "    <tr>\n",
       "      <th>1</th>\n",
       "      <td>2018</td>\n",
       "      <td>32.88</td>\n",
       "      <td>107.73</td>\n",
       "      <td>74.85</td>\n",
       "    </tr>\n",
       "    <tr>\n",
       "      <th>2</th>\n",
       "      <td>2017</td>\n",
       "      <td>27.30</td>\n",
       "      <td>78.17</td>\n",
       "      <td>50.87</td>\n",
       "    </tr>\n",
       "    <tr>\n",
       "      <th>3</th>\n",
       "      <td>2016</td>\n",
       "      <td>23.12</td>\n",
       "      <td>66.73</td>\n",
       "      <td>43.61</td>\n",
       "    </tr>\n",
       "    <tr>\n",
       "      <th>4</th>\n",
       "      <td>2015</td>\n",
       "      <td>22.09</td>\n",
       "      <td>66.59</td>\n",
       "      <td>44.50</td>\n",
       "    </tr>\n",
       "  </tbody>\n",
       "</table>\n",
       "</div>"
      ],
      "text/plain": [
       "   Year  League Avg: MA  Top 4 Avg: MA  Difference\n",
       "0  2019           45.56         163.97      118.41\n",
       "1  2018           32.88         107.73       74.85\n",
       "2  2017           27.30          78.17       50.87\n",
       "3  2016           23.12          66.73       43.61\n",
       "4  2015           22.09          66.59       44.50"
      ]
     },
     "execution_count": 64,
     "metadata": {},
     "output_type": "execute_result"
    }
   ],
   "source": [
    "spain_MA"
   ]
  },
  {
   "cell_type": "code",
   "execution_count": 71,
   "metadata": {},
   "outputs": [],
   "source": [
    "# This function takes the summary dataframe created above and turns it into a comparative bar chart.\n",
    "def bar_compare(df, league):\n",
    "\n",
    "    ind = np.arange(5)\n",
    "    width = 0.35\n",
    "\n",
    "    fig, ax = plt.subplots()\n",
    "\n",
    "    rects1 = ax.bar(ind, df[\"Top 4 Avg: MA\"], width, color='royalblue')\n",
    "    rects2 = ax.bar(ind + width, df[\"League Avg: MA\"], width, color='seagreen')\n",
    "\n",
    "    ax.set_ylabel('3 Yr MA Spend (M Euros)')\n",
    "    ax.set_title(league, fontweight = \"bold\", fontsize = \"14\")\n",
    "    ax.set_xticks(ind + width / 2)\n",
    "    ax.set_xticklabels( ('2019', '2018', '2017', '2016', '2015') )\n",
    "\n",
    "    ax.legend( (rects1[0], rects2[0]), ('Top 4', 'League') )\n",
    "    \n",
    "    path = \"transfers_output/\"\n",
    "    filename = f\"{league}_bar.png\"\n",
    "    f = open(path+filename,\"w\")\n",
    "    f.close()\n",
    "    plt.savefig(path+filename)\n",
    "    \n",
    "    plt.show()\n"
   ]
  },
  {
   "cell_type": "code",
   "execution_count": 72,
   "metadata": {},
   "outputs": [
    {
     "data": {
      "image/png": "[encoded data removed]",
      "text/plain": [
       "<Figure size 432x288 with 1 Axes>"
      ]
     },
     "metadata": {
      "needs_background": "light"
     },
     "output_type": "display_data"
    }
   ],
   "source": [
    "eng_bar = bar_compare(eng_MA,\"Premier League\")\n",
    "eng_bar"
   ]
  },
  {
   "cell_type": "code",
   "execution_count": 61,
   "metadata": {},
   "outputs": [
    {
     "data": {
      "image/png": "[encoded data removed]",
      "text/plain": [
       "<Figure size 432x288 with 1 Axes>"
      ]
     },
     "metadata": {
      "needs_background": "light"
     },
     "output_type": "display_data"
    }
   ],
   "source": [
    "italy_bar = bar_compare(italy_MA,\"Serie A\")\n",
    "italy_bar"
   ]
  },
  {
   "cell_type": "code",
   "execution_count": 62,
   "metadata": {},
   "outputs": [
    {
     "data": {
      "image/png": "[encoded data removed]",
      "text/plain": [
       "<Figure size 432x288 with 1 Axes>"
      ]
     },
     "metadata": {
      "needs_background": "light"
     },
     "output_type": "display_data"
    }
   ],
   "source": [
    "spain_bar = bar_compare(spain_MA,\"La Liga\")\n",
    "spain_bar"
   ]
  },
  {
   "cell_type": "code",
   "execution_count": null,
   "metadata": {},
   "outputs": [],
   "source": []
  }
 ],
 "metadata": {
  "kernelspec": {
   "display_name": "Python 3",
   "language": "python",
   "name": "python3"
  },
  "language_info": {
   "codemirror_mode": {
    "name": "ipython",
    "version": 3
   },
   "file_extension": ".py",
   "mimetype": "text/x-python",
   "name": "python",
   "nbconvert_exporter": "python",
   "pygments_lexer": "ipython3",
   "version": "3.6.10"
  }
 },
 "nbformat": 4,
 "nbformat_minor": 4
}
