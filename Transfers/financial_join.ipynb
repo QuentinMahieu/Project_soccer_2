{
 "cells": [
  {
   "cell_type": "code",
   "execution_count": 116,
   "metadata": {},
   "outputs": [],
   "source": [
    "import pandas as pd\n",
    "import numpy as np\n",
    "import difflib"
   ]
  },
  {
   "cell_type": "code",
   "execution_count": 117,
   "metadata": {},
   "outputs": [],
   "source": [
    "# creating lists to use for later looping\n",
    "transfer_data = [\"italian\",\"spanish\",\"english\"]\n",
    "wage_data = [\"SerieA\",\"Liga\",\"EPl\"]"
   ]
  },
  {
   "cell_type": "code",
   "execution_count": 118,
   "metadata": {},
   "outputs": [],
   "source": [
    "# Creating a function to join two cleaned datasets\n",
    "def transfer_joiner(team_a,team_b):\n",
    "    file_transfer = f\"transfers_output/{team_a}_transfers.csv\"\n",
    "    file_wage = f\"Team_player_data/cleaned/{team_b}.csv\"\n",
    "    transfer = pd.read_csv(file_transfer)\n",
    "    transfer = transfer.rename(columns={\"year\":\"Year\"})\n",
    "    transfer = transfer[[\"Year\",\"Teams\",\"Transfer Spend (Euros)\",\"MA\"]]\n",
    "    wage = pd.read_csv(file_wage)\n",
    "    wage = wage[[\"Year\",\"Teams\", \"Ranking\",\"avg player value (EU)\",\"avg player wage\"]]\n",
    "    # As certain team names appear different in the sets, this line does a 'fuzzy' lookup to match the names from one dataframe to another\n",
    "    wage[\"Teams\"] = wage[\"Teams\"].apply(lambda x: difflib.get_close_matches(x,transfer[\"Teams\"])[0])\n",
    "    wage[\"Teams\"] = wage[\"Teams\"].str.replace(\"FC Internazionale\",\"Inter Milan\")\n",
    "    joined = pd.merge(wage,transfer,on=[\"Year\",\"Teams\"],how=\"outer\")\n",
    "    joined = joined[joined[\"Year\"]>2014]\n",
    "    return joined"
   ]
  },
  {
   "cell_type": "code",
   "execution_count": 119,
   "metadata": {},
   "outputs": [],
   "source": [
    "italy_joined = transfer_joiner(transfer_data[0],wage_data[0])\n",
    "spain_joined = transfer_joiner(transfer_data[1],wage_data[1])\n",
    "england_joined = transfer_joiner(transfer_data[2],wage_data[2])"
   ]
  },
  {
   "cell_type": "code",
   "execution_count": 120,
   "metadata": {},
   "outputs": [],
   "source": [
    "italy_joined.to_csv(\"transfers_output/italy_joined.csv\")\n",
    "spain_joined.to_csv(\"transfers_output/spain_joined.csv\")\n",
    "england_joined.to_csv(\"transfers_output/england_joined.csv\")"
   ]
  },
  {
   "cell_type": "code",
   "execution_count": null,
   "metadata": {},
   "outputs": [],
   "source": []
  }
 ],
 "metadata": {
  "kernelspec": {
   "display_name": "Python 3",
   "language": "python",
   "name": "python3"
  },
  "language_info": {
   "codemirror_mode": {
    "name": "ipython",
    "version": 3
   },
   "file_extension": ".py",
   "mimetype": "text/x-python",
   "name": "python",
   "nbconvert_exporter": "python",
   "pygments_lexer": "ipython3",
   "version": "3.6.10"
  }
 },
 "nbformat": 4,
 "nbformat_minor": 4
}
