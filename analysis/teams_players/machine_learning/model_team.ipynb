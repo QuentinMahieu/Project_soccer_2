{
 "metadata": {
  "language_info": {
   "codemirror_mode": {
    "name": "ipython",
    "version": 3
   },
   "file_extension": ".py",
   "mimetype": "text/x-python",
   "name": "python",
   "nbconvert_exporter": "python",
   "pygments_lexer": "ipython3",
   "version": "3.6.10-final"
  },
  "orig_nbformat": 2,
  "kernelspec": {
   "name": "python_defaultSpec_1610177492363",
   "display_name": "Python 3.6.10 64-bit"
  }
 },
 "nbformat": 4,
 "nbformat_minor": 2,
 "cells": [
  {
   "cell_type": "code",
   "execution_count": 259,
   "metadata": {},
   "outputs": [],
   "source": [
    "import pandas as pd\n",
    "import numpy as np\n",
    "import matplotlib.pyplot as plt\n",
    "%matplotlib inline"
   ]
  },
  {
   "cell_type": "code",
   "execution_count": 260,
   "metadata": {},
   "outputs": [
    {
     "output_type": "execute_result",
     "data": {
      "text/plain": "   Ranking  Year     Teams  Points     Goals+     Goals-  avg age  \\\n0       20  2020   Osasuna    11.0  10.000000  18.000000      0.0   \n1        1  2020  AC Milan    28.0  37.428571  26.285714      0.0   \n2       20  2020   Crotone     6.0  10.000000  25.000000      0.0   \n3       19  2020    Torino     6.0  34.714286  33.714286      0.0   \n4       18  2020     Genoa     7.0  31.142857  33.714286      0.0   \n\n   avg heights (cm)  avg weight (kg)  avg player rating  ...  avg player wage  \\\n0               0.0              0.0          71.666667  ...              0.0   \n1               0.0              0.0          74.317073  ...              0.0   \n2               0.0              0.0          65.117647  ...              0.0   \n3               0.0              0.0          71.645161  ...              0.0   \n4               0.0              0.0          69.902439  ...              0.0   \n\n   Shots pg  Yellowcard  RedCard  Possession%  Pass%  AerialsWon  Country  \\\n0       9.6          27        1         42.5   68.1        30.3    Spain   \n1      15.6          29        0         50.7   82.9        17.8    Italy   \n2       9.3          31        3         48.9   80.9        10.3    Italy   \n3      10.9          25        2         47.3   82.6        11.7    Italy   \n4       8.6          27        1         45.3   78.2        13.0    Italy   \n\n  Transfer Spend (Euros)         MA  \n0                    0.0   0.000000  \n1                    0.0  70.952857  \n2                    0.0   0.000000  \n3                    0.0  21.850000  \n4                    0.0  18.680000  \n\n[5 rows x 21 columns]",
      "text/html": "<div>\n<style scoped>\n    .dataframe tbody tr th:only-of-type {\n        vertical-align: middle;\n    }\n\n    .dataframe tbody tr th {\n        vertical-align: top;\n    }\n\n    .dataframe thead th {\n        text-align: right;\n    }\n</style>\n<table border=\"1\" class=\"dataframe\">\n  <thead>\n    <tr style=\"text-align: right;\">\n      <th></th>\n      <th>Ranking</th>\n      <th>Year</th>\n      <th>Teams</th>\n      <th>Points</th>\n      <th>Goals+</th>\n      <th>Goals-</th>\n      <th>avg age</th>\n      <th>avg heights (cm)</th>\n      <th>avg weight (kg)</th>\n      <th>avg player rating</th>\n      <th>...</th>\n      <th>avg player wage</th>\n      <th>Shots pg</th>\n      <th>Yellowcard</th>\n      <th>RedCard</th>\n      <th>Possession%</th>\n      <th>Pass%</th>\n      <th>AerialsWon</th>\n      <th>Country</th>\n      <th>Transfer Spend (Euros)</th>\n      <th>MA</th>\n    </tr>\n  </thead>\n  <tbody>\n    <tr>\n      <th>0</th>\n      <td>20</td>\n      <td>2020</td>\n      <td>Osasuna</td>\n      <td>11.0</td>\n      <td>10.000000</td>\n      <td>18.000000</td>\n      <td>0.0</td>\n      <td>0.0</td>\n      <td>0.0</td>\n      <td>71.666667</td>\n      <td>...</td>\n      <td>0.0</td>\n      <td>9.6</td>\n      <td>27</td>\n      <td>1</td>\n      <td>42.5</td>\n      <td>68.1</td>\n      <td>30.3</td>\n      <td>Spain</td>\n      <td>0.0</td>\n      <td>0.000000</td>\n    </tr>\n    <tr>\n      <th>1</th>\n      <td>1</td>\n      <td>2020</td>\n      <td>AC Milan</td>\n      <td>28.0</td>\n      <td>37.428571</td>\n      <td>26.285714</td>\n      <td>0.0</td>\n      <td>0.0</td>\n      <td>0.0</td>\n      <td>74.317073</td>\n      <td>...</td>\n      <td>0.0</td>\n      <td>15.6</td>\n      <td>29</td>\n      <td>0</td>\n      <td>50.7</td>\n      <td>82.9</td>\n      <td>17.8</td>\n      <td>Italy</td>\n      <td>0.0</td>\n      <td>70.952857</td>\n    </tr>\n    <tr>\n      <th>2</th>\n      <td>20</td>\n      <td>2020</td>\n      <td>Crotone</td>\n      <td>6.0</td>\n      <td>10.000000</td>\n      <td>25.000000</td>\n      <td>0.0</td>\n      <td>0.0</td>\n      <td>0.0</td>\n      <td>65.117647</td>\n      <td>...</td>\n      <td>0.0</td>\n      <td>9.3</td>\n      <td>31</td>\n      <td>3</td>\n      <td>48.9</td>\n      <td>80.9</td>\n      <td>10.3</td>\n      <td>Italy</td>\n      <td>0.0</td>\n      <td>0.000000</td>\n    </tr>\n    <tr>\n      <th>3</th>\n      <td>19</td>\n      <td>2020</td>\n      <td>Torino</td>\n      <td>6.0</td>\n      <td>34.714286</td>\n      <td>33.714286</td>\n      <td>0.0</td>\n      <td>0.0</td>\n      <td>0.0</td>\n      <td>71.645161</td>\n      <td>...</td>\n      <td>0.0</td>\n      <td>10.9</td>\n      <td>25</td>\n      <td>2</td>\n      <td>47.3</td>\n      <td>82.6</td>\n      <td>11.7</td>\n      <td>Italy</td>\n      <td>0.0</td>\n      <td>21.850000</td>\n    </tr>\n    <tr>\n      <th>4</th>\n      <td>18</td>\n      <td>2020</td>\n      <td>Genoa</td>\n      <td>7.0</td>\n      <td>31.142857</td>\n      <td>33.714286</td>\n      <td>0.0</td>\n      <td>0.0</td>\n      <td>0.0</td>\n      <td>69.902439</td>\n      <td>...</td>\n      <td>0.0</td>\n      <td>8.6</td>\n      <td>27</td>\n      <td>1</td>\n      <td>45.3</td>\n      <td>78.2</td>\n      <td>13.0</td>\n      <td>Italy</td>\n      <td>0.0</td>\n      <td>18.680000</td>\n    </tr>\n  </tbody>\n</table>\n<p>5 rows × 21 columns</p>\n</div>"
     },
     "metadata": {},
     "execution_count": 260
    }
   ],
   "source": [
    "#data sets\n",
    "leagues_file = \"../../../data/team_player/cleaned_final/leagues.csv\"\n",
    "leagues_df = pd.read_csv(leagues_file)\n",
    "del leagues_df[\"Unnamed: 0\"]\n",
    "leagues_df.dropna(inplace=True)\n",
    "leagues_df.head()"
   ]
  },
  {
   "cell_type": "code",
   "execution_count": 269,
   "metadata": {},
   "outputs": [
    {
     "output_type": "execute_result",
     "data": {
      "text/plain": "124    19.32\nName: MA, dtype: float64"
     },
     "metadata": {},
     "execution_count": 269
    }
   ],
   "source": [
    "leagues_df.iloc[[124]][\"MA\"]"
   ]
  },
  {
   "cell_type": "code",
   "execution_count": 261,
   "metadata": {},
   "outputs": [],
   "source": [
    "# import numpy as np\n",
    "# import pandas as pd\n",
    "# import seaborn as sns\n",
    "# import matplotlib.pyplot as plt\n",
    "\n",
    "# sns.set_theme(style=\"white\")\n",
    "# # Compute the correlation matrix\n",
    "# corr = leagues_df.corr()\n",
    "# # Generate a mask for the upper triangle\n",
    "# mask = np.triu(np.ones_like(corr, dtype=bool))\n",
    "\n",
    "# # Set up the matplotlib figure\n",
    "# f, ax = plt.subplots(figsize=(11, 9))\n",
    "\n",
    "# # Generate a custom diverging colormap\n",
    "# cmap = sns.diverging_palette(50, 50, as_cmap=True)\n",
    "\n",
    "# # Draw the heatmap with the mask and correct aspect ratio\n",
    "# #sns.heatmap(corr, mask=mask, cmap=cmap, vmax=.3, center=0,\n",
    "# #            square=True, linewidths=.5, cbar_kws={\"shrink\": .5})\n",
    "# sns.heatmap(corr,vmin=-1, vmax=1, annot=True,mask=mask,fmt='.2g')\n",
    "# plt.tight_layout()\n",
    "# plt.title(\"Correlation matrix\", fontdict={\"size\": 25, \"color\":\"white\"},pad=-5)\n",
    "# ax.xaxis.label.set_color('white')\n",
    "# ax.tick_params(axis='x', colors='black')\n",
    "# ax.yaxis.label.set_color('black')\n",
    "# ax.tick_params(axis='y', colors='black')\n",
    "# plt.savefig(\"../../../images/heatmap.png\", transparent=True)\n",
    "#final_df.corr()[\"Ranking\"]"
   ]
  },
  {
   "cell_type": "code",
   "execution_count": 37,
   "metadata": {},
   "outputs": [],
   "source": [
    "leagues_corr = leagues_df.corr()\n",
    "leagues_corr.to_csv(\"../../../data/team_player/cleaned_final/correlation.csv\",header=True,index=False)"
   ]
  },
  {
   "cell_type": "code",
   "execution_count": 242,
   "metadata": {},
   "outputs": [
    {
     "output_type": "error",
     "ename": "ValueError",
     "evalue": "X has 5 features per sample; expecting 7",
     "traceback": [
      "\u001b[0;31m---------------------------------------------------------------------------\u001b[0m",
      "\u001b[0;31mValueError\u001b[0m                                Traceback (most recent call last)",
      "\u001b[0;32m<ipython-input-242-2724f2fb113d>\u001b[0m in \u001b[0;36m<module>\u001b[0;34m()\u001b[0m\n\u001b[1;32m      1\u001b[0m \u001b[0mX1\u001b[0m \u001b[0;34m=\u001b[0m \u001b[0mdf_final\u001b[0m\u001b[0;34m[\u001b[0m\u001b[0;34m[\u001b[0m\u001b[0;34m'Possession%'\u001b[0m\u001b[0;34m,\u001b[0m\u001b[0;34m\"Shots pg\"\u001b[0m\u001b[0;34m,\u001b[0m\u001b[0;34m\"Pass%\"\u001b[0m\u001b[0;34m,\u001b[0m\u001b[0;34m\"Goals+\"\u001b[0m\u001b[0;34m,\u001b[0m\u001b[0;34m\"Goals-\"\u001b[0m\u001b[0;34m]\u001b[0m\u001b[0;34m]\u001b[0m\u001b[0;34m\u001b[0m\u001b[0;34m\u001b[0m\u001b[0m\n\u001b[0;32m----> 2\u001b[0;31m \u001b[0my_pred\u001b[0m \u001b[0;34m=\u001b[0m \u001b[0mregressor\u001b[0m\u001b[0;34m.\u001b[0m\u001b[0mpredict\u001b[0m\u001b[0;34m(\u001b[0m\u001b[0mX1\u001b[0m\u001b[0;34m)\u001b[0m\u001b[0;34m\u001b[0m\u001b[0;34m\u001b[0m\u001b[0m\n\u001b[0m",
      "\u001b[0;32m/opt/anaconda3/envs/PythonDataNew/lib/python3.6/site-packages/sklearn/linear_model/_base.py\u001b[0m in \u001b[0;36mpredict\u001b[0;34m(self, X)\u001b[0m\n\u001b[1;32m    305\u001b[0m             \u001b[0mPredicted\u001b[0m \u001b[0;32mclass\u001b[0m \u001b[0mlabel\u001b[0m \u001b[0mper\u001b[0m \u001b[0msample\u001b[0m\u001b[0;34m.\u001b[0m\u001b[0;34m\u001b[0m\u001b[0;34m\u001b[0m\u001b[0m\n\u001b[1;32m    306\u001b[0m         \"\"\"\n\u001b[0;32m--> 307\u001b[0;31m         \u001b[0mscores\u001b[0m \u001b[0;34m=\u001b[0m \u001b[0mself\u001b[0m\u001b[0;34m.\u001b[0m\u001b[0mdecision_function\u001b[0m\u001b[0;34m(\u001b[0m\u001b[0mX\u001b[0m\u001b[0;34m)\u001b[0m\u001b[0;34m\u001b[0m\u001b[0;34m\u001b[0m\u001b[0m\n\u001b[0m\u001b[1;32m    308\u001b[0m         \u001b[0;32mif\u001b[0m \u001b[0mlen\u001b[0m\u001b[0;34m(\u001b[0m\u001b[0mscores\u001b[0m\u001b[0;34m.\u001b[0m\u001b[0mshape\u001b[0m\u001b[0;34m)\u001b[0m \u001b[0;34m==\u001b[0m \u001b[0;36m1\u001b[0m\u001b[0;34m:\u001b[0m\u001b[0;34m\u001b[0m\u001b[0;34m\u001b[0m\u001b[0m\n\u001b[1;32m    309\u001b[0m             \u001b[0mindices\u001b[0m \u001b[0;34m=\u001b[0m \u001b[0;34m(\u001b[0m\u001b[0mscores\u001b[0m \u001b[0;34m>\u001b[0m \u001b[0;36m0\u001b[0m\u001b[0;34m)\u001b[0m\u001b[0;34m.\u001b[0m\u001b[0mastype\u001b[0m\u001b[0;34m(\u001b[0m\u001b[0mnp\u001b[0m\u001b[0;34m.\u001b[0m\u001b[0mint\u001b[0m\u001b[0;34m)\u001b[0m\u001b[0;34m\u001b[0m\u001b[0;34m\u001b[0m\u001b[0m\n",
      "\u001b[0;32m/opt/anaconda3/envs/PythonDataNew/lib/python3.6/site-packages/sklearn/linear_model/_base.py\u001b[0m in \u001b[0;36mdecision_function\u001b[0;34m(self, X)\u001b[0m\n\u001b[1;32m    285\u001b[0m         \u001b[0;32mif\u001b[0m \u001b[0mX\u001b[0m\u001b[0;34m.\u001b[0m\u001b[0mshape\u001b[0m\u001b[0;34m[\u001b[0m\u001b[0;36m1\u001b[0m\u001b[0;34m]\u001b[0m \u001b[0;34m!=\u001b[0m \u001b[0mn_features\u001b[0m\u001b[0;34m:\u001b[0m\u001b[0;34m\u001b[0m\u001b[0;34m\u001b[0m\u001b[0m\n\u001b[1;32m    286\u001b[0m             raise ValueError(\"X has %d features per sample; expecting %d\"\n\u001b[0;32m--> 287\u001b[0;31m                              % (X.shape[1], n_features))\n\u001b[0m\u001b[1;32m    288\u001b[0m \u001b[0;34m\u001b[0m\u001b[0m\n\u001b[1;32m    289\u001b[0m         scores = safe_sparse_dot(X, self.coef_.T,\n",
      "\u001b[0;31mValueError\u001b[0m: X has 5 features per sample; expecting 7"
     ]
    }
   ],
   "source": [
    "df_final = leagues_df[leagues]\n",
    "X1 = df_final[[\"avg player rating\",'Possession%',\"Shots pg\",\"Pass%\",\"Goals+\",\"MA\",\"Goals-\"]]\n",
    "y_pred = regressor.predict(X1)"
   ]
  },
  {
   "cell_type": "code",
   "execution_count": 262,
   "metadata": {},
   "outputs": [],
   "source": [
    "#divide the data into attributes (independent variable X), labels(dependent variable, the prediction, y)\n",
    "X = leagues_df[[\"avg player rating\",'Possession%',\"Shots pg\",\"Pass%\",\"Goals+\",\"MA\",\"Goals-\"]]\n",
    "y = leagues_df[\"Ranking\"]\n",
    "# xx = leagues_df[[\"Shots pg\",'Possession%',\"Pass%\",\"avg player rating\",\"MA\",\"Goals+\"]]\n",
    "# yy = leagues_df[\"Points\"]"
   ]
  },
  {
   "cell_type": "code",
   "execution_count": 263,
   "metadata": {},
   "outputs": [],
   "source": [
    "#Execute the following code to divide our data into training and test set\n",
    "from sklearn.model_selection import train_test_split\n",
    "X_train, X_test, y_train, y_test = train_test_split(X, y, test_size=0.2, random_state=0)"
   ]
  },
  {
   "cell_type": "code",
   "execution_count": 264,
   "metadata": {},
   "outputs": [],
   "source": [
    "# from sklearn.model_selection import train_test_split\n",
    "# X_train, X_test, y_train, y_test = train_test_split(xx, yy, test_size=0.2, random_state=0)"
   ]
  },
  {
   "cell_type": "code",
   "execution_count": 265,
   "metadata": {},
   "outputs": [
    {
     "output_type": "execute_result",
     "data": {
      "text/plain": "LogisticRegression()"
     },
     "metadata": {},
     "execution_count": 265
    }
   ],
   "source": [
    "'''\n",
    "Linear regression\n",
    "'''\n",
    "#train the algorithm\n",
    "from sklearn.linear_model import LinearRegression, LogisticRegression\n",
    "# regressor = LinearRegression()\n",
    "regressor = LogisticRegression()\n",
    "regressor.fit(X_train, y_train)\n"
   ]
  },
  {
   "cell_type": "code",
   "execution_count": 266,
   "metadata": {},
   "outputs": [],
   "source": [
    "# #the regression model has to find the most optimal coefficients for all the attributes. \n",
    "# #To see what #coefficients our regression model has chosen, execute the following script:\n",
    "# coeff_df = pd.DataFrame(regressor.coef_, X.columns, columns=['Coefficient'])\n",
    "# # coeff_df = pd.DataFrame(regressor.coef_, xx.columns, columns=['Coefficient'])\n",
    "# coeff_df"
   ]
  },
  {
   "cell_type": "markdown",
   "metadata": {},
   "source": [
    "[This means :] \n",
    "* for an increase of 1 unit in goals+, there is a decrease of 0.228 in ranking means closer from the top.\n",
    "* for an increase of 1 unit in goals-, there is a increase of 0.22 in ranking means further from the top.\n",
    "* for an increase of 1 unit in player_rate, there is a decrease of 0.32 in ranking means closer from the top."
   ]
  },
  {
   "cell_type": "code",
   "execution_count": 267,
   "metadata": {},
   "outputs": [
    {
     "output_type": "execute_result",
     "data": {
      "text/plain": "     Actual  Predicted\n124      16         10\n341      13         13\n21       18         20\n96        3          5\n132       2          3",
      "text/html": "<div>\n<style scoped>\n    .dataframe tbody tr th:only-of-type {\n        vertical-align: middle;\n    }\n\n    .dataframe tbody tr th {\n        vertical-align: top;\n    }\n\n    .dataframe thead th {\n        text-align: right;\n    }\n</style>\n<table border=\"1\" class=\"dataframe\">\n  <thead>\n    <tr style=\"text-align: right;\">\n      <th></th>\n      <th>Actual</th>\n      <th>Predicted</th>\n    </tr>\n  </thead>\n  <tbody>\n    <tr>\n      <th>124</th>\n      <td>16</td>\n      <td>10</td>\n    </tr>\n    <tr>\n      <th>341</th>\n      <td>13</td>\n      <td>13</td>\n    </tr>\n    <tr>\n      <th>21</th>\n      <td>18</td>\n      <td>20</td>\n    </tr>\n    <tr>\n      <th>96</th>\n      <td>3</td>\n      <td>5</td>\n    </tr>\n    <tr>\n      <th>132</th>\n      <td>2</td>\n      <td>3</td>\n    </tr>\n  </tbody>\n</table>\n</div>"
     },
     "metadata": {},
     "execution_count": 267
    }
   ],
   "source": [
    "#predictions\n",
    "y_pred = regressor.predict(X_test)\n",
    "#compare the predictions\n",
    "df3 = pd.DataFrame({'Actual': y_test, 'Predicted': y_pred})\n",
    "df3.head()"
   ]
  },
  {
   "cell_type": "code",
   "execution_count": 256,
   "metadata": {
    "tags": []
   },
   "outputs": [
    {
     "output_type": "stream",
     "name": "stdout",
     "text": "Mean Absolute Error: 2.25\nMean Squared Error: 9.654761904761905\nRoot Mean Squared Error: 3.1072112745614686\n"
    }
   ],
   "source": [
    "#Evaluation of the algorithm\n",
    "from sklearn import metrics\n",
    "print('Mean Absolute Error:', metrics.mean_absolute_error(y_test, y_pred))\n",
    "print('Mean Squared Error:', metrics.mean_squared_error(y_test, y_pred))\n",
    "print('Root Mean Squared Error:', np.sqrt(metrics.mean_squared_error(y_test, y_pred)))"
   ]
  },
  {
   "cell_type": "code",
   "execution_count": 25,
   "metadata": {},
   "outputs": [
    {
     "output_type": "execute_result",
     "data": {
      "text/plain": "     Actual  Predicted\n124       5         14\n341       2         14\n21        2          6\n96       17         14\n132      13          3",
      "text/html": "<div>\n<style scoped>\n    .dataframe tbody tr th:only-of-type {\n        vertical-align: middle;\n    }\n\n    .dataframe tbody tr th {\n        vertical-align: top;\n    }\n\n    .dataframe thead th {\n        text-align: right;\n    }\n</style>\n<table border=\"1\" class=\"dataframe\">\n  <thead>\n    <tr style=\"text-align: right;\">\n      <th></th>\n      <th>Actual</th>\n      <th>Predicted</th>\n    </tr>\n  </thead>\n  <tbody>\n    <tr>\n      <th>124</th>\n      <td>5</td>\n      <td>14</td>\n    </tr>\n    <tr>\n      <th>341</th>\n      <td>2</td>\n      <td>14</td>\n    </tr>\n    <tr>\n      <th>21</th>\n      <td>2</td>\n      <td>6</td>\n    </tr>\n    <tr>\n      <th>96</th>\n      <td>17</td>\n      <td>14</td>\n    </tr>\n    <tr>\n      <th>132</th>\n      <td>13</td>\n      <td>3</td>\n    </tr>\n  </tbody>\n</table>\n</div>"
     },
     "metadata": {},
     "execution_count": 25
    }
   ],
   "source": [
    "'''\n",
    "Logistic regression\n",
    "'''\n",
    "# import the class\n",
    "from sklearn.linear_model import LogisticRegression\n",
    "# instantiate the model (using the default parameters)\n",
    "logreg = LogisticRegression()\n",
    "# fit the model with data\n",
    "logreg.fit(X_train, y_train)\n",
    "# predict the response values for the observations in X\n",
    "y_pred2 = logreg.predict(X_test)\n",
    "df = pd.DataFrame({'Actual': y_test, 'Predicted': y_pred2})\n",
    "df.head(5)"
   ]
  },
  {
   "cell_type": "code",
   "execution_count": 26,
   "metadata": {
    "tags": []
   },
   "outputs": [
    {
     "output_type": "stream",
     "name": "stdout",
     "text": "0.047619047619047616\n"
    }
   ],
   "source": [
    "# compute classification accuracy for the logistic regression model\n",
    "from sklearn import metrics\n",
    "\n",
    "print(metrics.accuracy_score(y_test, y_pred2))"
   ]
  },
  {
   "cell_type": "code",
   "execution_count": 72,
   "metadata": {
    "tags": []
   },
   "outputs": [],
   "source": [
    "'''\n",
    "KNN\n",
    "'''\n",
    "from sklearn.neighbors import KNeighborsClassifier\n",
    "ks = {}\n",
    "for k in range(1,50):\n",
    "    knn = KNeighborsClassifier(n_neighbors=k)\n",
    "    knn.fit(X_train, y_train)\n",
    "    y_pred3 = knn.predict(X_test)\n",
    "    ks[k] = metrics.accuracy_score(y_test, y_pred3)\n"
   ]
  },
  {
   "cell_type": "code",
   "execution_count": 73,
   "metadata": {
    "tags": []
   },
   "outputs": [
    {
     "output_type": "stream",
     "name": "stdout",
     "text": "Min k neighbours = 1\n"
    },
    {
     "output_type": "display_data",
     "data": {
      "text/plain": "<Figure size 432x288 with 1 Axes>",
      "image/svg+xml": "<?xml version=\"1.0\" encoding=\"utf-8\" standalone=\"no\"?>\n<!DOCTYPE svg PUBLIC \"-//W3C//DTD SVG 1.1//EN\"\n  \"http://www.w3.org/Graphics/SVG/1.1/DTD/svg11.dtd\">\n<!-- Created with matplotlib (https://matplotlib.org/) -->\n<svg height=\"251.399844pt\" version=\"1.1\" viewBox=\"0 0 380.107031 251.399844\" width=\"380.107031pt\" xmlns=\"http://www.w3.org/2000/svg\" xmlns:xlink=\"http://www.w3.org/1999/xlink\">\n <metadata>\n  <rdf:RDF xmlns:cc=\"http://creativecommons.org/ns#\" xmlns:dc=\"http://purl.org/dc/elements/1.1/\" xmlns:rdf=\"http://www.w3.org/1999/02/22-rdf-syntax-ns#\">\n   <cc:Work>\n    <dc:type rdf:resource=\"http://purl.org/dc/dcmitype/StillImage\"/>\n    <dc:date>2021-01-04T15:12:44.664292</dc:date>\n    <dc:format>image/svg+xml</dc:format>\n    <dc:creator>\n     <cc:Agent>\n      <dc:title>Matplotlib v3.3.1, https://matplotlib.org/</dc:title>\n     </cc:Agent>\n    </dc:creator>\n   </cc:Work>\n  </rdf:RDF>\n </metadata>\n <defs>\n  <style type=\"text/css\">*{stroke-linecap:butt;stroke-linejoin:round;}</style>\n </defs>\n <g id=\"figure_1\">\n  <g id=\"patch_1\">\n   <path d=\"M 0 251.399844 \nL 380.107031 251.399844 \nL 380.107031 0 \nL 0 0 \nz\n\" style=\"fill:#ffffff;\"/>\n  </g>\n  <g id=\"axes_1\">\n   <g id=\"patch_2\">\n    <path d=\"M 38.107031 224.64 \nL 372.907031 224.64 \nL 372.907031 7.2 \nL 38.107031 7.2 \nz\n\" style=\"fill:#ffffff;\"/>\n   </g>\n   <g id=\"matplotlib.axis_1\">\n    <g id=\"xtick_1\">\n     <g id=\"text_1\">\n      <!-- 0 -->\n      <g style=\"fill:#262626;\" transform=\"translate(43.925788 242.013594)scale(0.11 -0.11)\">\n       <defs>\n        <path d=\"M 4.15625 35.296875 \nQ 4.15625 48 6.765625 55.734375 \nQ 9.375 63.484375 14.515625 67.671875 \nQ 19.671875 71.875 27.484375 71.875 \nQ 33.25 71.875 37.59375 69.546875 \nQ 41.9375 67.234375 44.765625 62.859375 \nQ 47.609375 58.5 49.21875 52.21875 \nQ 50.828125 45.953125 50.828125 35.296875 \nQ 50.828125 22.703125 48.234375 14.96875 \nQ 45.65625 7.234375 40.5 3 \nQ 35.359375 -1.21875 27.484375 -1.21875 \nQ 17.140625 -1.21875 11.234375 6.203125 \nQ 4.15625 15.140625 4.15625 35.296875 \nz\nM 13.1875 35.296875 \nQ 13.1875 17.671875 17.3125 11.828125 \nQ 21.4375 6 27.484375 6 \nQ 33.546875 6 37.671875 11.859375 \nQ 41.796875 17.71875 41.796875 35.296875 \nQ 41.796875 52.984375 37.671875 58.78125 \nQ 33.546875 64.59375 27.390625 64.59375 \nQ 21.34375 64.59375 17.71875 59.46875 \nQ 13.1875 52.9375 13.1875 35.296875 \nz\n\" id=\"ArialMT-48\"/>\n       </defs>\n       <use xlink:href=\"#ArialMT-48\"/>\n      </g>\n     </g>\n    </g>\n    <g id=\"xtick_2\">\n     <g id=\"text_2\">\n      <!-- 10 -->\n      <g style=\"fill:#262626;\" transform=\"translate(104.276364 242.013594)scale(0.11 -0.11)\">\n       <defs>\n        <path d=\"M 37.25 0 \nL 28.46875 0 \nL 28.46875 56 \nQ 25.296875 52.984375 20.140625 49.953125 \nQ 14.984375 46.921875 10.890625 45.40625 \nL 10.890625 53.90625 \nQ 18.265625 57.375 23.78125 62.296875 \nQ 29.296875 67.234375 31.59375 71.875 \nL 37.25 71.875 \nz\n\" id=\"ArialMT-49\"/>\n       </defs>\n       <use xlink:href=\"#ArialMT-49\"/>\n       <use x=\"55.615234\" xlink:href=\"#ArialMT-48\"/>\n      </g>\n     </g>\n    </g>\n    <g id=\"xtick_3\">\n     <g id=\"text_3\">\n      <!-- 20 -->\n      <g style=\"fill:#262626;\" transform=\"translate(167.685455 242.013594)scale(0.11 -0.11)\">\n       <defs>\n        <path d=\"M 50.34375 8.453125 \nL 50.34375 0 \nL 3.03125 0 \nQ 2.9375 3.171875 4.046875 6.109375 \nQ 5.859375 10.9375 9.828125 15.625 \nQ 13.8125 20.3125 21.34375 26.46875 \nQ 33.015625 36.03125 37.109375 41.625 \nQ 41.21875 47.21875 41.21875 52.203125 \nQ 41.21875 57.421875 37.46875 61 \nQ 33.734375 64.59375 27.734375 64.59375 \nQ 21.390625 64.59375 17.578125 60.78125 \nQ 13.765625 56.984375 13.71875 50.25 \nL 4.6875 51.171875 \nQ 5.609375 61.28125 11.65625 66.578125 \nQ 17.71875 71.875 27.9375 71.875 \nQ 38.234375 71.875 44.234375 66.15625 \nQ 50.25 60.453125 50.25 52 \nQ 50.25 47.703125 48.484375 43.546875 \nQ 46.734375 39.40625 42.65625 34.8125 \nQ 38.578125 30.21875 29.109375 22.21875 \nQ 21.1875 15.578125 18.9375 13.203125 \nQ 16.703125 10.84375 15.234375 8.453125 \nz\n\" id=\"ArialMT-50\"/>\n       </defs>\n       <use xlink:href=\"#ArialMT-50\"/>\n       <use x=\"55.615234\" xlink:href=\"#ArialMT-48\"/>\n      </g>\n     </g>\n    </g>\n    <g id=\"xtick_4\">\n     <g id=\"text_4\">\n      <!-- 30 -->\n      <g style=\"fill:#262626;\" transform=\"translate(231.094545 242.013594)scale(0.11 -0.11)\">\n       <defs>\n        <path d=\"M 4.203125 18.890625 \nL 12.984375 20.0625 \nQ 14.5 12.59375 18.140625 9.296875 \nQ 21.78125 6 27 6 \nQ 33.203125 6 37.46875 10.296875 \nQ 41.75 14.59375 41.75 20.953125 \nQ 41.75 27 37.796875 30.921875 \nQ 33.84375 34.859375 27.734375 34.859375 \nQ 25.25 34.859375 21.53125 33.890625 \nL 22.515625 41.609375 \nQ 23.390625 41.5 23.921875 41.5 \nQ 29.546875 41.5 34.03125 44.421875 \nQ 38.53125 47.359375 38.53125 53.46875 \nQ 38.53125 58.296875 35.25 61.46875 \nQ 31.984375 64.65625 26.8125 64.65625 \nQ 21.6875 64.65625 18.265625 61.421875 \nQ 14.84375 58.203125 13.875 51.765625 \nL 5.078125 53.328125 \nQ 6.6875 62.15625 12.390625 67.015625 \nQ 18.109375 71.875 26.609375 71.875 \nQ 32.46875 71.875 37.390625 69.359375 \nQ 42.328125 66.84375 44.9375 62.5 \nQ 47.5625 58.15625 47.5625 53.265625 \nQ 47.5625 48.640625 45.0625 44.828125 \nQ 42.578125 41.015625 37.703125 38.765625 \nQ 44.046875 37.3125 47.5625 32.6875 \nQ 51.078125 28.078125 51.078125 21.140625 \nQ 51.078125 11.765625 44.234375 5.25 \nQ 37.40625 -1.265625 26.953125 -1.265625 \nQ 17.53125 -1.265625 11.296875 4.34375 \nQ 5.078125 9.96875 4.203125 18.890625 \nz\n\" id=\"ArialMT-51\"/>\n       </defs>\n       <use xlink:href=\"#ArialMT-51\"/>\n       <use x=\"55.615234\" xlink:href=\"#ArialMT-48\"/>\n      </g>\n     </g>\n    </g>\n    <g id=\"xtick_5\">\n     <g id=\"text_5\">\n      <!-- 40 -->\n      <g style=\"fill:#262626;\" transform=\"translate(294.503636 242.013594)scale(0.11 -0.11)\">\n       <defs>\n        <path d=\"M 32.328125 0 \nL 32.328125 17.140625 \nL 1.265625 17.140625 \nL 1.265625 25.203125 \nL 33.9375 71.578125 \nL 41.109375 71.578125 \nL 41.109375 25.203125 \nL 50.78125 25.203125 \nL 50.78125 17.140625 \nL 41.109375 17.140625 \nL 41.109375 0 \nz\nM 32.328125 25.203125 \nL 32.328125 57.46875 \nL 9.90625 25.203125 \nz\n\" id=\"ArialMT-52\"/>\n       </defs>\n       <use xlink:href=\"#ArialMT-52\"/>\n       <use x=\"55.615234\" xlink:href=\"#ArialMT-48\"/>\n      </g>\n     </g>\n    </g>\n    <g id=\"xtick_6\">\n     <g id=\"text_6\">\n      <!-- 50 -->\n      <g style=\"fill:#262626;\" transform=\"translate(357.912727 242.013594)scale(0.11 -0.11)\">\n       <defs>\n        <path d=\"M 4.15625 18.75 \nL 13.375 19.53125 \nQ 14.40625 12.796875 18.140625 9.390625 \nQ 21.875 6 27.15625 6 \nQ 33.5 6 37.890625 10.78125 \nQ 42.28125 15.578125 42.28125 23.484375 \nQ 42.28125 31 38.0625 35.34375 \nQ 33.84375 39.703125 27 39.703125 \nQ 22.75 39.703125 19.328125 37.765625 \nQ 15.921875 35.84375 13.96875 32.765625 \nL 5.71875 33.84375 \nL 12.640625 70.609375 \nL 48.25 70.609375 \nL 48.25 62.203125 \nL 19.671875 62.203125 \nL 15.828125 42.96875 \nQ 22.265625 47.46875 29.34375 47.46875 \nQ 38.71875 47.46875 45.15625 40.96875 \nQ 51.609375 34.46875 51.609375 24.265625 \nQ 51.609375 14.546875 45.953125 7.46875 \nQ 39.0625 -1.21875 27.15625 -1.21875 \nQ 17.390625 -1.21875 11.203125 4.25 \nQ 5.03125 9.71875 4.15625 18.75 \nz\n\" id=\"ArialMT-53\"/>\n       </defs>\n       <use xlink:href=\"#ArialMT-53\"/>\n       <use x=\"55.615234\" xlink:href=\"#ArialMT-48\"/>\n      </g>\n     </g>\n    </g>\n   </g>\n   <g id=\"matplotlib.axis_2\">\n    <g id=\"ytick_1\">\n     <g id=\"text_7\">\n      <!-- 0.03 -->\n      <g style=\"fill:#262626;\" transform=\"translate(7.2 208.150615)scale(0.11 -0.11)\">\n       <defs>\n        <path d=\"M 9.078125 0 \nL 9.078125 10.015625 \nL 19.09375 10.015625 \nL 19.09375 0 \nz\n\" id=\"ArialMT-46\"/>\n       </defs>\n       <use xlink:href=\"#ArialMT-48\"/>\n       <use x=\"55.615234\" xlink:href=\"#ArialMT-46\"/>\n       <use x=\"83.398438\" xlink:href=\"#ArialMT-48\"/>\n       <use x=\"139.013672\" xlink:href=\"#ArialMT-51\"/>\n      </g>\n     </g>\n    </g>\n    <g id=\"ytick_2\">\n     <g id=\"text_8\">\n      <!-- 0.04 -->\n      <g style=\"fill:#262626;\" transform=\"translate(7.2 160.709161)scale(0.11 -0.11)\">\n       <use xlink:href=\"#ArialMT-48\"/>\n       <use x=\"55.615234\" xlink:href=\"#ArialMT-46\"/>\n       <use x=\"83.398438\" xlink:href=\"#ArialMT-48\"/>\n       <use x=\"139.013672\" xlink:href=\"#ArialMT-52\"/>\n      </g>\n     </g>\n    </g>\n    <g id=\"ytick_3\">\n     <g id=\"text_9\">\n      <!-- 0.05 -->\n      <g style=\"fill:#262626;\" transform=\"translate(7.2 113.267706)scale(0.11 -0.11)\">\n       <use xlink:href=\"#ArialMT-48\"/>\n       <use x=\"55.615234\" xlink:href=\"#ArialMT-46\"/>\n       <use x=\"83.398438\" xlink:href=\"#ArialMT-48\"/>\n       <use x=\"139.013672\" xlink:href=\"#ArialMT-53\"/>\n      </g>\n     </g>\n    </g>\n    <g id=\"ytick_4\">\n     <g id=\"text_10\">\n      <!-- 0.06 -->\n      <g style=\"fill:#262626;\" transform=\"translate(7.2 65.826251)scale(0.11 -0.11)\">\n       <defs>\n        <path d=\"M 49.75 54.046875 \nL 41.015625 53.375 \nQ 39.84375 58.546875 37.703125 60.890625 \nQ 34.125 64.65625 28.90625 64.65625 \nQ 24.703125 64.65625 21.53125 62.3125 \nQ 17.390625 59.28125 14.984375 53.46875 \nQ 12.59375 47.65625 12.5 36.921875 \nQ 15.671875 41.75 20.265625 44.09375 \nQ 24.859375 46.4375 29.890625 46.4375 \nQ 38.671875 46.4375 44.84375 39.96875 \nQ 51.03125 33.5 51.03125 23.25 \nQ 51.03125 16.5 48.125 10.71875 \nQ 45.21875 4.9375 40.140625 1.859375 \nQ 35.0625 -1.21875 28.609375 -1.21875 \nQ 17.625 -1.21875 10.6875 6.859375 \nQ 3.765625 14.9375 3.765625 33.5 \nQ 3.765625 54.25 11.421875 63.671875 \nQ 18.109375 71.875 29.4375 71.875 \nQ 37.890625 71.875 43.28125 67.140625 \nQ 48.6875 62.40625 49.75 54.046875 \nz\nM 13.875 23.1875 \nQ 13.875 18.65625 15.796875 14.5 \nQ 17.71875 10.359375 21.1875 8.171875 \nQ 24.65625 6 28.46875 6 \nQ 34.03125 6 38.03125 10.484375 \nQ 42.046875 14.984375 42.046875 22.703125 \nQ 42.046875 30.125 38.078125 34.390625 \nQ 34.125 38.671875 28.125 38.671875 \nQ 22.171875 38.671875 18.015625 34.390625 \nQ 13.875 30.125 13.875 23.1875 \nz\n\" id=\"ArialMT-54\"/>\n       </defs>\n       <use xlink:href=\"#ArialMT-48\"/>\n       <use x=\"55.615234\" xlink:href=\"#ArialMT-46\"/>\n       <use x=\"83.398438\" xlink:href=\"#ArialMT-48\"/>\n       <use x=\"139.013672\" xlink:href=\"#ArialMT-54\"/>\n      </g>\n     </g>\n    </g>\n    <g id=\"ytick_5\">\n     <g id=\"text_11\">\n      <!-- 0.07 -->\n      <g style=\"fill:#262626;\" transform=\"translate(7.2 18.384797)scale(0.11 -0.11)\">\n       <defs>\n        <path d=\"M 4.734375 62.203125 \nL 4.734375 70.65625 \nL 51.078125 70.65625 \nL 51.078125 63.8125 \nQ 44.234375 56.546875 37.515625 44.484375 \nQ 30.8125 32.421875 27.15625 19.671875 \nQ 24.515625 10.6875 23.78125 0 \nL 14.75 0 \nQ 14.890625 8.453125 18.0625 20.40625 \nQ 21.234375 32.375 27.171875 43.484375 \nQ 33.109375 54.59375 39.796875 62.203125 \nz\n\" id=\"ArialMT-55\"/>\n       </defs>\n       <use xlink:href=\"#ArialMT-48\"/>\n       <use x=\"55.615234\" xlink:href=\"#ArialMT-46\"/>\n       <use x=\"83.398438\" xlink:href=\"#ArialMT-48\"/>\n       <use x=\"139.013672\" xlink:href=\"#ArialMT-55\"/>\n      </g>\n     </g>\n    </g>\n   </g>\n   <g id=\"line2d_1\">\n    <path clip-path=\"url(#pcd839cd95f)\" d=\"M 53.325213 214.756364 \nL 59.666122 214.756364 \nL 66.007031 148.865455 \nL 72.34794 148.865455 \nL 78.688849 82.974545 \nL 85.029759 82.974545 \nL 91.370668 82.974545 \nL 97.711577 17.083636 \nL 104.052486 82.974545 \nL 110.393395 214.756364 \nL 116.734304 148.865455 \nL 123.075213 148.865455 \nL 129.416122 148.865455 \nL 135.757031 148.865455 \nL 142.09794 82.974545 \nL 148.438849 82.974545 \nL 154.779759 148.865455 \nL 161.120668 17.083636 \nL 167.461577 82.974545 \nL 173.802486 82.974545 \nL 180.143395 148.865455 \nL 186.484304 148.865455 \nL 192.825213 148.865455 \nL 199.166122 82.974545 \nL 205.507031 82.974545 \nL 211.84794 82.974545 \nL 218.188849 82.974545 \nL 224.529759 82.974545 \nL 230.870668 82.974545 \nL 237.211577 148.865455 \nL 243.552486 148.865455 \nL 249.893395 82.974545 \nL 256.234304 82.974545 \nL 262.575213 82.974545 \nL 268.916122 82.974545 \nL 275.257031 82.974545 \nL 281.59794 17.083636 \nL 287.938849 82.974545 \nL 294.279759 82.974545 \nL 300.620668 82.974545 \nL 306.961577 82.974545 \nL 313.302486 82.974545 \nL 319.643395 82.974545 \nL 325.984304 17.083636 \nL 332.325213 17.083636 \nL 338.666122 17.083636 \nL 345.007031 17.083636 \nL 351.34794 17.083636 \nL 357.688849 17.083636 \n\" style=\"fill:none;stroke:#4c72b0;stroke-linecap:round;stroke-width:1.5;\"/>\n   </g>\n   <g id=\"patch_3\">\n    <path d=\"M 38.107031 224.64 \nL 38.107031 7.2 \n\" style=\"fill:none;stroke:#262626;stroke-linecap:square;stroke-linejoin:miter;stroke-width:1.25;\"/>\n   </g>\n   <g id=\"patch_4\">\n    <path d=\"M 372.907031 224.64 \nL 372.907031 7.2 \n\" style=\"fill:none;stroke:#262626;stroke-linecap:square;stroke-linejoin:miter;stroke-width:1.25;\"/>\n   </g>\n   <g id=\"patch_5\">\n    <path d=\"M 38.107031 224.64 \nL 372.907031 224.64 \n\" style=\"fill:none;stroke:#262626;stroke-linecap:square;stroke-linejoin:miter;stroke-width:1.25;\"/>\n   </g>\n   <g id=\"patch_6\">\n    <path d=\"M 38.107031 7.2 \nL 372.907031 7.2 \n\" style=\"fill:none;stroke:#262626;stroke-linecap:square;stroke-linejoin:miter;stroke-width:1.25;\"/>\n   </g>\n   <g id=\"legend_1\">\n    <g id=\"patch_7\">\n     <path d=\"M 45.807031 31.559844 \nL 87.124062 31.559844 \nQ 89.324062 31.559844 89.324062 29.359844 \nL 89.324062 14.9 \nQ 89.324062 12.7 87.124062 12.7 \nL 45.807031 12.7 \nQ 43.607031 12.7 43.607031 14.9 \nL 43.607031 29.359844 \nQ 43.607031 31.559844 45.807031 31.559844 \nz\n\" style=\"fill:#ffffff;opacity:0.8;stroke:#cccccc;stroke-linejoin:miter;\"/>\n    </g>\n    <g id=\"line2d_2\">\n     <path d=\"M 48.007031 21.123594 \nL 70.007031 21.123594 \n\" style=\"fill:none;stroke:#4c72b0;stroke-linecap:round;stroke-width:1.5;\"/>\n    </g>\n    <g id=\"line2d_3\"/>\n    <g id=\"text_12\">\n     <!-- 0 -->\n     <g style=\"fill:#262626;\" transform=\"translate(78.807031 24.973594)scale(0.11 -0.11)\">\n      <use xlink:href=\"#ArialMT-48\"/>\n     </g>\n    </g>\n   </g>\n  </g>\n </g>\n <defs>\n  <clipPath id=\"pcd839cd95f\">\n   <rect height=\"217.44\" width=\"334.8\" x=\"38.107031\" y=\"7.2\"/>\n  </clipPath>\n </defs>\n</svg>\n",
      "image/png": "[encoded data removed]"
     },
     "metadata": {}
    }
   ],
   "source": [
    "ks_df = pd.DataFrame.from_dict(ks, orient='index')\n",
    "ks_df.plot()\n",
    "print(f\"Min k neighbours = {ks_df[0].idxmin()}\")"
   ]
  },
  {
   "cell_type": "code",
   "execution_count": 74,
   "metadata": {
    "tags": []
   },
   "outputs": [
    {
     "output_type": "stream",
     "name": "stdout",
     "text": "Mean Absolute Error: 10.583333333333334\nMean Squared Error: 176.88888888888889\nRoot Mean Squared Error: 13.299958228840001\n"
    }
   ],
   "source": [
    "'''\n",
    "Rainforest\n",
    "'''\n",
    "from sklearn.preprocessing import StandardScaler\n",
    "from sklearn import metrics\n",
    "from sklearn.ensemble import RandomForestRegressor\n",
    "\n",
    "sc = StandardScaler()\n",
    "X_train = sc.fit_transform(X_train)\n",
    "X_test = sc.transform(X_test)\n",
    "\n",
    "\n",
    "regressor = RandomForestRegressor(n_estimators=1, random_state=0)\n",
    "regressor.fit(X_train, y_train)\n",
    "y_pred = regressor.predict(X_test)\n",
    "\n",
    "\n",
    "print('Mean Absolute Error:', metrics.mean_absolute_error(y_test, y_pred))\n",
    "print('Mean Squared Error:', metrics.mean_squared_error(y_test, y_pred))\n",
    "print('Root Mean Squared Error:', np.sqrt(metrics.mean_squared_error(y_test, y_pred)))"
   ]
  },
  {
   "cell_type": "code",
   "execution_count": null,
   "metadata": {},
   "outputs": [],
   "source": []
  }
 ]
}