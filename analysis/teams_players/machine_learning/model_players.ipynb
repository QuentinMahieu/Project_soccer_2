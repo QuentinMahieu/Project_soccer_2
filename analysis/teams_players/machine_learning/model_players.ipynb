{
 "metadata": {
  "language_info": {
   "codemirror_mode": {
    "name": "ipython",
    "version": 3
   },
   "file_extension": ".py",
   "mimetype": "text/x-python",
   "name": "python",
   "nbconvert_exporter": "python",
   "pygments_lexer": "ipython3",
   "version": "3.6.10-final"
  },
  "orig_nbformat": 2,
  "kernelspec": {
   "name": "python_defaultSpec_1608352785365",
   "display_name": "Python 3.6.10 64-bit ('PythonDataNew': conda)"
  }
 },
 "nbformat": 4,
 "nbformat_minor": 2,
 "cells": [
  {
   "cell_type": "code",
   "execution_count": 1,
   "metadata": {},
   "outputs": [],
   "source": [
    "import pandas as pd\n",
    "import numpy as np\n",
    "import matplotlib.pyplot as plt\n",
    "%matplotlib inline"
   ]
  },
  {
   "cell_type": "code",
   "execution_count": 2,
   "metadata": {},
   "outputs": [
    {
     "output_type": "execute_result",
     "data": {
      "text/plain": "Index(['Ranking', 'Year', 'Teams', 'Points', 'Goals+', 'Goals-', 'avg age',\n       'avg heights (cm)', 'avg weight (kg)', 'avg player rating',\n       'avg player value (EU)', 'avg player wage', 'Transfer Spend (Euros)',\n       'MA'],\n      dtype='object')"
     },
     "metadata": {},
     "execution_count": 2
    }
   ],
   "source": [
    "path = \"../../../data/team_player/cleaned/model_data.csv\"\n",
    "final_df = pd.read_csv(path)\n",
    "final_df.columns"
   ]
  },
  {
   "cell_type": "code",
   "execution_count": 76,
   "metadata": {},
   "outputs": [],
   "source": [
    "X = final_df[[\"Goals+\",\"Goals-\",\"avg player rating\",\"MA\",'avg player value (EU)']]\n",
    "y = final_df[\"Ranking\"]"
   ]
  },
  {
   "cell_type": "code",
   "execution_count": 77,
   "metadata": {},
   "outputs": [],
   "source": [
    "from sklearn.model_selection import train_test_split\n",
    "X_train, X_test, y_train, y_test = train_test_split(X, y, test_size=0.2, random_state=0)"
   ]
  },
  {
   "cell_type": "code",
   "execution_count": 78,
   "metadata": {},
   "outputs": [
    {
     "output_type": "execute_result",
     "data": {
      "text/plain": "     Actual  Predicted\n55       16  15.646273\n181      15  11.156871\n92       13  12.933907\n207       3   6.088549\n188       4   5.733738",
      "text/html": "<div>\n<style scoped>\n    .dataframe tbody tr th:only-of-type {\n        vertical-align: middle;\n    }\n\n    .dataframe tbody tr th {\n        vertical-align: top;\n    }\n\n    .dataframe thead th {\n        text-align: right;\n    }\n</style>\n<table border=\"1\" class=\"dataframe\">\n  <thead>\n    <tr style=\"text-align: right;\">\n      <th></th>\n      <th>Actual</th>\n      <th>Predicted</th>\n    </tr>\n  </thead>\n  <tbody>\n    <tr>\n      <th>55</th>\n      <td>16</td>\n      <td>15.646273</td>\n    </tr>\n    <tr>\n      <th>181</th>\n      <td>15</td>\n      <td>11.156871</td>\n    </tr>\n    <tr>\n      <th>92</th>\n      <td>13</td>\n      <td>12.933907</td>\n    </tr>\n    <tr>\n      <th>207</th>\n      <td>3</td>\n      <td>6.088549</td>\n    </tr>\n    <tr>\n      <th>188</th>\n      <td>4</td>\n      <td>5.733738</td>\n    </tr>\n  </tbody>\n</table>\n</div>"
     },
     "metadata": {},
     "execution_count": 78
    }
   ],
   "source": [
    "'''\n",
    "Linear regression\n",
    "'''\n",
    "#train the algorithm\n",
    "from sklearn.linear_model import LinearRegression\n",
    "regressor = LinearRegression()\n",
    "regressor.fit(X_train, y_train)\n",
    "coeff_df = pd.DataFrame(regressor.coef_, X.columns, columns=['Coefficient'])\n",
    "coeff_df\n",
    "#predictions\n",
    "y_pred = regressor.predict(X_test)\n",
    "#compare the predictions\n",
    "df = pd.DataFrame({'Actual': y_test, 'Predicted': y_pred})\n",
    "df.head(5)"
   ]
  },
  {
   "cell_type": "code",
   "execution_count": 79,
   "metadata": {
    "tags": []
   },
   "outputs": [
    {
     "output_type": "stream",
     "name": "stdout",
     "text": "Mean Absolute Error: 2.5397513789249517\nMean Squared Error: 9.854160221807119\nRoot Mean Squared Error: 3.1391336737716538\n"
    }
   ],
   "source": [
    "#Evaluation of the algorithm\n",
    "from sklearn import metrics\n",
    "print('Mean Absolute Error:', metrics.mean_absolute_error(y_test, y_pred))\n",
    "print('Mean Squared Error:', metrics.mean_squared_error(y_test, y_pred))\n",
    "print('Root Mean Squared Error:', np.sqrt(metrics.mean_squared_error(y_test, y_pred)))"
   ]
  }
 ]
}