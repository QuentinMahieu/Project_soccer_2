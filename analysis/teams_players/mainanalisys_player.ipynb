{
 "metadata": {
  "language_info": {
   "codemirror_mode": {
    "name": "ipython",
    "version": 3
   },
   "file_extension": ".py",
   "mimetype": "text/x-python",
   "name": "python",
   "nbconvert_exporter": "python",
   "pygments_lexer": "ipython3",
   "version": "3.6.10-final"
  },
  "orig_nbformat": 2,
  "kernelspec": {
   "name": "python_defaultSpec_1608352832729",
   "display_name": "Python 3.6.10 64-bit ('PythonDataNew': conda)"
  }
 },
 "nbformat": 4,
 "nbformat_minor": 2,
 "cells": [
  {
   "cell_type": "code",
   "execution_count": 1,
   "metadata": {},
   "outputs": [],
   "source": [
    "#import usefull modules\n",
    "import pandas as pd\n",
    "import scipy.stats as stats\n",
    "import numpy as np\n",
    "from functions import cleanup\n",
    "from pprint import pprint"
   ]
  },
  {
   "cell_type": "code",
   "execution_count": 2,
   "metadata": {},
   "outputs": [],
   "source": [
    "#import files and read the data\n",
    "path_2019 = \"../../data/team_player/raw/players_20.csv\"\n",
    "path_2020 = \"../../data/team_player/raw/players_20.csv\"\n",
    "path_epl = \"../../data/team_player/cleaned/EPL.csv\"\n",
    "path_liga = \"../../data/team_player/cleaned/Liga.csv\"\n",
    "path_seriea = \"../../data/team_player/cleaned/SerieA.csv\"\n",
    "\n",
    "players_19 = pd.read_csv(path_2019)\n",
    "players_20 = pd.read_csv(path_2020)\n",
    "epl_df = pd.read_csv(path_epl)\n",
    "liga_df = pd.read_csv(path_liga)\n",
    "seriea_df = pd.read_csv(path_seriea)\n",
    "list_leagues = [epl_df,liga_df,seriea_df]"
   ]
  },
  {
   "cell_type": "code",
   "execution_count": 3,
   "metadata": {},
   "outputs": [],
   "source": [
    "players_19 = players_19.loc[:,\"short_name\":'goalkeeping_reflexes'].rename({\"club\": \"Teams\"},axis=1)\n",
    "players_20 = players_20.loc[:,\"short_name\":'goalkeeping_reflexes'].rename({\"club\": \"Teams\"},axis=1)\n",
    "del players_19[\"dob\"]\n",
    "del players_19[\"long_name\"]\n",
    "del players_20[\"dob\"]\n",
    "del players_20[\"long_name\"]\n",
    "players_19 = cleanup(players_19)\n",
    "players_20 = cleanup(players_20)"
   ]
  },
  {
   "cell_type": "code",
   "execution_count": 4,
   "metadata": {},
   "outputs": [],
   "source": [
    "#We want to know a bit more about the players in the top 4 of each team and averages per position\n",
    "players_19 = players_19[(players_19[\"Teams\"].isin(epl_df[\"Teams\"])) | (\n",
    "    players_19[\"Teams\"].isin(liga_df[\"Teams\"]) | players_19[\"Teams\"].isin(seriea_df[\"Teams\"]))]\n",
    "players_20 = players_20[(players_20[\"Teams\"].isin(epl_df[\"Teams\"])) | (\n",
    "    players_20[\"Teams\"].isin(liga_df[\"Teams\"]) | players_20[\"Teams\"].isin(seriea_df[\"Teams\"]))]"
   ]
  },
  {
   "cell_type": "code",
   "execution_count": 5,
   "metadata": {},
   "outputs": [],
   "source": [
    "# position groups\n",
    "list_players = [players_19,players_20]\n",
    "strikers = [\"^LF$\",\"^LS$\",\"^CF$\",\"^RS$\",\"^RF$\"]\n",
    "middfilders_off = [\"^LAM$\",\"^RAM$\"]\n",
    "middfilders_central = [\"^M$\",\"^LM$\",\"^RM$\",\"^RCM$\",]\n",
    "middfilders_def = [\"^DM$\"]\n",
    "central_back = [\"^CH$\",\"^RCB$\"]\n",
    "left_back = [\"^LH$\",\"^LWD$\",\"^LCB$\",\"^LDM$\",\"^LWB$\"]\n",
    "right_back = [\"^RH$\",\"^RWD$\",\"^RCB$\",\"^RDM$\",\"^RWB$\"]\n",
    "goalkeeper = [\"^SUB$\",\"^RES$\"]\n",
    "for df in list_players:\n",
    "    for position in strikers:\n",
    "        df[\"team_position\"] = df[\"team_position\"].str.replace(position,\"ST\")\n",
    "    for position in middfilders_off:\n",
    "        df[\"team_position\"] = df[\"team_position\"].str.replace(position,\"CAM\")\n",
    "    for position in middfilders_central:\n",
    "        df[\"team_position\"] = df[\"team_position\"].str.replace(position,\"CM\")\n",
    "    for position in middfilders_def:\n",
    "        df[\"team_position\"] = df[\"team_position\"].str.replace(position,\"CDM\")\n",
    "    for position in central_back:\n",
    "        df[\"team_position\"] = df[\"team_position\"].str.replace(position,\"CB\")\n",
    "    for position in left_back:\n",
    "        df[\"team_position\"] = df[\"team_position\"].str.replace(position,\"LB\")\n",
    "    for position in right_back:\n",
    "        df[\"team_position\"] = df[\"team_position\"].str.replace(position,\"RB\")\n",
    "    for position in goalkeeper:\n",
    "        df[\"team_position\"] = df[\"team_position\"].str.replace(position,\"GK\")"
   ]
  },
  {
   "cell_type": "code",
   "execution_count": 6,
   "metadata": {},
   "outputs": [
    {
     "output_type": "execute_result",
     "data": {
      "text/plain": "  team_position        age   height_cm  weight_kg    overall  potential  \\\n0           CAM  26.031250  177.906250  70.906250  75.218750  78.875000   \n1            CB  27.833333  187.196078  80.617647  75.823529  78.284314   \n2           CDM  27.774194  181.612903  75.290323  77.258065  79.548387   \n3            CM  26.005747  178.356322  72.465517  75.729885  79.080460   \n4            GK  24.569966  182.462457  75.841866  69.485779  75.951650   \n\n      value_eur      wage_eur  international_reputation  weak_foot  ...  \\\n0  1.092656e+07  35250.000000                  1.625000   3.250000  ...   \n1  1.011863e+07  39460.784314                  1.509804   2.960784  ...   \n2  1.458548e+07  59258.064516                  1.709677   3.322581  ...   \n3  1.212672e+07  40028.735632                  1.465517   3.298851  ...   \n4  4.747662e+06  23208.191126                  1.241752   2.959613  ...   \n\n   mentality_penalties  mentality_composure  defending_marking  \\\n0            65.468750            72.375000          50.906250   \n1            43.392157            69.039216          75.598039   \n2            63.000000            74.967742          70.000000   \n3            61.275862            71.925287          57.971264   \n4            48.430603            61.777588          47.340728   \n\n   defending_standing_tackle  defending_sliding_tackle  goalkeeping_diving  \\\n0                  50.968750                 47.187500           10.000000   \n1                  77.049020                 74.852941           10.156863   \n2                  74.193548                 70.838710            9.483871   \n3                  57.086207                 53.448276           10.747126   \n4                  47.625711                 45.526166           20.102958   \n\n   goalkeeping_handling  goalkeeping_kicking  goalkeeping_positioning  \\\n0             11.718750            11.437500                10.531250   \n1             10.058824            10.431373                 9.784314   \n2             10.580645            10.225806                10.322581   \n3             10.477011            10.545977                10.373563   \n4             19.678043            19.231513                19.782139   \n\n   goalkeeping_reflexes  \n0             10.281250  \n1             10.372549  \n2              9.677419  \n3             11.120690  \n4             20.244596  \n\n[5 rows x 61 columns]",
      "text/html": "<div>\n<style scoped>\n    .dataframe tbody tr th:only-of-type {\n        vertical-align: middle;\n    }\n\n    .dataframe tbody tr th {\n        vertical-align: top;\n    }\n\n    .dataframe thead th {\n        text-align: right;\n    }\n</style>\n<table border=\"1\" class=\"dataframe\">\n  <thead>\n    <tr style=\"text-align: right;\">\n      <th></th>\n      <th>team_position</th>\n      <th>age</th>\n      <th>height_cm</th>\n      <th>weight_kg</th>\n      <th>overall</th>\n      <th>potential</th>\n      <th>value_eur</th>\n      <th>wage_eur</th>\n      <th>international_reputation</th>\n      <th>weak_foot</th>\n      <th>...</th>\n      <th>mentality_penalties</th>\n      <th>mentality_composure</th>\n      <th>defending_marking</th>\n      <th>defending_standing_tackle</th>\n      <th>defending_sliding_tackle</th>\n      <th>goalkeeping_diving</th>\n      <th>goalkeeping_handling</th>\n      <th>goalkeeping_kicking</th>\n      <th>goalkeeping_positioning</th>\n      <th>goalkeeping_reflexes</th>\n    </tr>\n  </thead>\n  <tbody>\n    <tr>\n      <th>0</th>\n      <td>CAM</td>\n      <td>26.031250</td>\n      <td>177.906250</td>\n      <td>70.906250</td>\n      <td>75.218750</td>\n      <td>78.875000</td>\n      <td>1.092656e+07</td>\n      <td>35250.000000</td>\n      <td>1.625000</td>\n      <td>3.250000</td>\n      <td>...</td>\n      <td>65.468750</td>\n      <td>72.375000</td>\n      <td>50.906250</td>\n      <td>50.968750</td>\n      <td>47.187500</td>\n      <td>10.000000</td>\n      <td>11.718750</td>\n      <td>11.437500</td>\n      <td>10.531250</td>\n      <td>10.281250</td>\n    </tr>\n    <tr>\n      <th>1</th>\n      <td>CB</td>\n      <td>27.833333</td>\n      <td>187.196078</td>\n      <td>80.617647</td>\n      <td>75.823529</td>\n      <td>78.284314</td>\n      <td>1.011863e+07</td>\n      <td>39460.784314</td>\n      <td>1.509804</td>\n      <td>2.960784</td>\n      <td>...</td>\n      <td>43.392157</td>\n      <td>69.039216</td>\n      <td>75.598039</td>\n      <td>77.049020</td>\n      <td>74.852941</td>\n      <td>10.156863</td>\n      <td>10.058824</td>\n      <td>10.431373</td>\n      <td>9.784314</td>\n      <td>10.372549</td>\n    </tr>\n    <tr>\n      <th>2</th>\n      <td>CDM</td>\n      <td>27.774194</td>\n      <td>181.612903</td>\n      <td>75.290323</td>\n      <td>77.258065</td>\n      <td>79.548387</td>\n      <td>1.458548e+07</td>\n      <td>59258.064516</td>\n      <td>1.709677</td>\n      <td>3.322581</td>\n      <td>...</td>\n      <td>63.000000</td>\n      <td>74.967742</td>\n      <td>70.000000</td>\n      <td>74.193548</td>\n      <td>70.838710</td>\n      <td>9.483871</td>\n      <td>10.580645</td>\n      <td>10.225806</td>\n      <td>10.322581</td>\n      <td>9.677419</td>\n    </tr>\n    <tr>\n      <th>3</th>\n      <td>CM</td>\n      <td>26.005747</td>\n      <td>178.356322</td>\n      <td>72.465517</td>\n      <td>75.729885</td>\n      <td>79.080460</td>\n      <td>1.212672e+07</td>\n      <td>40028.735632</td>\n      <td>1.465517</td>\n      <td>3.298851</td>\n      <td>...</td>\n      <td>61.275862</td>\n      <td>71.925287</td>\n      <td>57.971264</td>\n      <td>57.086207</td>\n      <td>53.448276</td>\n      <td>10.747126</td>\n      <td>10.477011</td>\n      <td>10.545977</td>\n      <td>10.373563</td>\n      <td>11.120690</td>\n    </tr>\n    <tr>\n      <th>4</th>\n      <td>GK</td>\n      <td>24.569966</td>\n      <td>182.462457</td>\n      <td>75.841866</td>\n      <td>69.485779</td>\n      <td>75.951650</td>\n      <td>4.747662e+06</td>\n      <td>23208.191126</td>\n      <td>1.241752</td>\n      <td>2.959613</td>\n      <td>...</td>\n      <td>48.430603</td>\n      <td>61.777588</td>\n      <td>47.340728</td>\n      <td>47.625711</td>\n      <td>45.526166</td>\n      <td>20.102958</td>\n      <td>19.678043</td>\n      <td>19.231513</td>\n      <td>19.782139</td>\n      <td>20.244596</td>\n    </tr>\n  </tbody>\n</table>\n<p>5 rows × 61 columns</p>\n</div>"
     },
     "metadata": {},
     "execution_count": 6
    }
   ],
   "source": [
    "grouped_df_19 = players_19.groupby(\"team_position\")\n",
    "grouped_mean_19 = grouped_df_19.mean().reset_index()\n",
    "grouped_mean_19.head()"
   ]
  },
  {
   "cell_type": "code",
   "execution_count": 7,
   "metadata": {
    "tags": []
   },
   "outputs": [
    {
     "output_type": "execute_result",
     "data": {
      "text/plain": "          age  height_cm  weight_kg  overall  international_reputation  \\\nCAM  0.440676   0.050584   0.292400      1.0                  0.780899   \nCB   0.125687   0.110979   0.057641      1.0                  0.686939   \nCDM  0.069401   0.370059   0.041413      1.0                  0.788111   \nCM   0.247221   0.028265   0.079902      1.0                  0.724449   \nGK   0.558801   0.121283   0.258060      1.0                  0.576240   \n\n     weak_foot  skill_moves      pace  shooting   passing  ...  \\\nCAM  -0.136690     0.521789  0.091949  0.840953  0.897246  ...   \nCB    0.188516     0.150873  0.274693  0.349714  0.546229  ...   \nCDM  -0.004431     0.145858 -0.160148  0.351686  0.695113  ...   \nCM    0.324863     0.338706  0.037294  0.659328  0.822930  ...   \nGK    0.197566     0.265122  0.207283  0.495118  0.678419  ...   \n\n     mentality_penalties  mentality_composure  defending_marking  \\\nCAM             0.509283             0.813664           0.259707   \nCB              0.260935             0.807685           0.918894   \nCDM             0.303295             0.787027           0.501659   \nCM              0.361926             0.808502           0.231337   \nGK              0.203470             0.704569           0.230310   \n\n     defending_standing_tackle  defending_sliding_tackle  goalkeeping_diving  \\\nCAM                   0.105429                  0.109341            0.243971   \nCB                    0.956966                  0.928167           -0.102771   \nCDM                   0.670360                  0.611805           -0.045795   \nCM                    0.227791                  0.153840            0.109409   \nGK                    0.177162                  0.151278            0.128324   \n\n     goalkeeping_handling  goalkeeping_kicking  goalkeeping_positioning  \\\nCAM             -0.426654            -0.083828                 0.025025   \nCB              -0.015970             0.001531                 0.144554   \nCDM             -0.226087            -0.049947                -0.159485   \nCM               0.015622            -0.081033                -0.071744   \nGK               0.128742             0.121058                 0.133187   \n\n     goalkeeping_reflexes  \nCAM              0.132670  \nCB               0.011186  \nCDM             -0.075391  \nCM              -0.179638  \nGK               0.124143  \n\n[5 rows x 53 columns]",
      "text/html": "<div>\n<style scoped>\n    .dataframe tbody tr th:only-of-type {\n        vertical-align: middle;\n    }\n\n    .dataframe tbody tr th {\n        vertical-align: top;\n    }\n\n    .dataframe thead th {\n        text-align: right;\n    }\n</style>\n<table border=\"1\" class=\"dataframe\">\n  <thead>\n    <tr style=\"text-align: right;\">\n      <th></th>\n      <th>age</th>\n      <th>height_cm</th>\n      <th>weight_kg</th>\n      <th>overall</th>\n      <th>international_reputation</th>\n      <th>weak_foot</th>\n      <th>skill_moves</th>\n      <th>pace</th>\n      <th>shooting</th>\n      <th>passing</th>\n      <th>...</th>\n      <th>mentality_penalties</th>\n      <th>mentality_composure</th>\n      <th>defending_marking</th>\n      <th>defending_standing_tackle</th>\n      <th>defending_sliding_tackle</th>\n      <th>goalkeeping_diving</th>\n      <th>goalkeeping_handling</th>\n      <th>goalkeeping_kicking</th>\n      <th>goalkeeping_positioning</th>\n      <th>goalkeeping_reflexes</th>\n    </tr>\n  </thead>\n  <tbody>\n    <tr>\n      <th>CAM</th>\n      <td>0.440676</td>\n      <td>0.050584</td>\n      <td>0.292400</td>\n      <td>1.0</td>\n      <td>0.780899</td>\n      <td>-0.136690</td>\n      <td>0.521789</td>\n      <td>0.091949</td>\n      <td>0.840953</td>\n      <td>0.897246</td>\n      <td>...</td>\n      <td>0.509283</td>\n      <td>0.813664</td>\n      <td>0.259707</td>\n      <td>0.105429</td>\n      <td>0.109341</td>\n      <td>0.243971</td>\n      <td>-0.426654</td>\n      <td>-0.083828</td>\n      <td>0.025025</td>\n      <td>0.132670</td>\n    </tr>\n    <tr>\n      <th>CB</th>\n      <td>0.125687</td>\n      <td>0.110979</td>\n      <td>0.057641</td>\n      <td>1.0</td>\n      <td>0.686939</td>\n      <td>0.188516</td>\n      <td>0.150873</td>\n      <td>0.274693</td>\n      <td>0.349714</td>\n      <td>0.546229</td>\n      <td>...</td>\n      <td>0.260935</td>\n      <td>0.807685</td>\n      <td>0.918894</td>\n      <td>0.956966</td>\n      <td>0.928167</td>\n      <td>-0.102771</td>\n      <td>-0.015970</td>\n      <td>0.001531</td>\n      <td>0.144554</td>\n      <td>0.011186</td>\n    </tr>\n    <tr>\n      <th>CDM</th>\n      <td>0.069401</td>\n      <td>0.370059</td>\n      <td>0.041413</td>\n      <td>1.0</td>\n      <td>0.788111</td>\n      <td>-0.004431</td>\n      <td>0.145858</td>\n      <td>-0.160148</td>\n      <td>0.351686</td>\n      <td>0.695113</td>\n      <td>...</td>\n      <td>0.303295</td>\n      <td>0.787027</td>\n      <td>0.501659</td>\n      <td>0.670360</td>\n      <td>0.611805</td>\n      <td>-0.045795</td>\n      <td>-0.226087</td>\n      <td>-0.049947</td>\n      <td>-0.159485</td>\n      <td>-0.075391</td>\n    </tr>\n    <tr>\n      <th>CM</th>\n      <td>0.247221</td>\n      <td>0.028265</td>\n      <td>0.079902</td>\n      <td>1.0</td>\n      <td>0.724449</td>\n      <td>0.324863</td>\n      <td>0.338706</td>\n      <td>0.037294</td>\n      <td>0.659328</td>\n      <td>0.822930</td>\n      <td>...</td>\n      <td>0.361926</td>\n      <td>0.808502</td>\n      <td>0.231337</td>\n      <td>0.227791</td>\n      <td>0.153840</td>\n      <td>0.109409</td>\n      <td>0.015622</td>\n      <td>-0.081033</td>\n      <td>-0.071744</td>\n      <td>-0.179638</td>\n    </tr>\n    <tr>\n      <th>GK</th>\n      <td>0.558801</td>\n      <td>0.121283</td>\n      <td>0.258060</td>\n      <td>1.0</td>\n      <td>0.576240</td>\n      <td>0.197566</td>\n      <td>0.265122</td>\n      <td>0.207283</td>\n      <td>0.495118</td>\n      <td>0.678419</td>\n      <td>...</td>\n      <td>0.203470</td>\n      <td>0.704569</td>\n      <td>0.230310</td>\n      <td>0.177162</td>\n      <td>0.151278</td>\n      <td>0.128324</td>\n      <td>0.128742</td>\n      <td>0.121058</td>\n      <td>0.133187</td>\n      <td>0.124143</td>\n    </tr>\n  </tbody>\n</table>\n<p>5 rows × 53 columns</p>\n</div>"
     },
     "metadata": {},
     "execution_count": 7
    }
   ],
   "source": [
    "#we want to know the correlation bewteen the overall rating and the rest of the columns\n",
    "position_corr = {}\n",
    "droped_df_2019 = players_19.drop(players_19.columns[[0,4,5,7,8,9,10,25, 26, 21, 22, 23, 24, 18, 19]],axis=1)\n",
    "for position in list(grouped_mean_19[\"team_position\"].unique()):\n",
    "    position_corr[position] = droped_df_2019[droped_df_2019[\"team_position\"]== position].corr()[\"overall\"]\n",
    "position_corr_df = pd.DataFrame.from_dict(position_corr).T \n",
    "position_corr_df.head()"
   ]
  },
  {
   "cell_type": "code",
   "execution_count": 8,
   "metadata": {
    "tags": []
   },
   "outputs": [
    {
     "output_type": "execute_result",
     "data": {
      "text/plain": "                          1                          2   \\\nCAM  attacking_short_passing         skill_ball_control   \nCB                 defending  defending_standing_tackle   \nCDM       movement_reactions    attacking_short_passing   \nCM        skill_ball_control         movement_reactions   \nGK                 gk_diving                gk_handling   \n\n                           3                        4   \\\nCAM                   passing          skill_dribbling   \nCB   defending_sliding_tackle        defending_marking   \nCDM        skill_ball_control  mentality_interceptions   \nCM                    passing  attacking_short_passing   \nGK             gk_positioning              gk_reflexes   \n\n                           5                   6                           7   \\\nCAM                 dribbling    mentality_vision          movement_reactions   \nCB    mentality_interceptions  movement_reactions  attacking_heading_accuracy   \nCDM  international_reputation  skill_long_passing         mentality_composure   \nCM        mentality_composure    mentality_vision                   dribbling   \nGK         movement_reactions          gk_kicking         mentality_composure   \n\n                           8                         9   \\\nCAM                  shooting     mentality_positioning   \nCB        mentality_composure  international_reputation   \nCDM          mentality_vision                   passing   \nCM   international_reputation     mentality_positioning   \nGK                    passing                 dribbling   \n\n                           10  \nCAM       mentality_composure  \nCB       mentality_aggression  \nCDM                 dribbling  \nCM            skill_dribbling  \nGK   international_reputation  ",
      "text/html": "<div>\n<style scoped>\n    .dataframe tbody tr th:only-of-type {\n        vertical-align: middle;\n    }\n\n    .dataframe tbody tr th {\n        vertical-align: top;\n    }\n\n    .dataframe thead th {\n        text-align: right;\n    }\n</style>\n<table border=\"1\" class=\"dataframe\">\n  <thead>\n    <tr style=\"text-align: right;\">\n      <th></th>\n      <th>1</th>\n      <th>2</th>\n      <th>3</th>\n      <th>4</th>\n      <th>5</th>\n      <th>6</th>\n      <th>7</th>\n      <th>8</th>\n      <th>9</th>\n      <th>10</th>\n    </tr>\n  </thead>\n  <tbody>\n    <tr>\n      <th>CAM</th>\n      <td>attacking_short_passing</td>\n      <td>skill_ball_control</td>\n      <td>passing</td>\n      <td>skill_dribbling</td>\n      <td>dribbling</td>\n      <td>mentality_vision</td>\n      <td>movement_reactions</td>\n      <td>shooting</td>\n      <td>mentality_positioning</td>\n      <td>mentality_composure</td>\n    </tr>\n    <tr>\n      <th>CB</th>\n      <td>defending</td>\n      <td>defending_standing_tackle</td>\n      <td>defending_sliding_tackle</td>\n      <td>defending_marking</td>\n      <td>mentality_interceptions</td>\n      <td>movement_reactions</td>\n      <td>attacking_heading_accuracy</td>\n      <td>mentality_composure</td>\n      <td>international_reputation</td>\n      <td>mentality_aggression</td>\n    </tr>\n    <tr>\n      <th>CDM</th>\n      <td>movement_reactions</td>\n      <td>attacking_short_passing</td>\n      <td>skill_ball_control</td>\n      <td>mentality_interceptions</td>\n      <td>international_reputation</td>\n      <td>skill_long_passing</td>\n      <td>mentality_composure</td>\n      <td>mentality_vision</td>\n      <td>passing</td>\n      <td>dribbling</td>\n    </tr>\n    <tr>\n      <th>CM</th>\n      <td>skill_ball_control</td>\n      <td>movement_reactions</td>\n      <td>passing</td>\n      <td>attacking_short_passing</td>\n      <td>mentality_composure</td>\n      <td>mentality_vision</td>\n      <td>dribbling</td>\n      <td>international_reputation</td>\n      <td>mentality_positioning</td>\n      <td>skill_dribbling</td>\n    </tr>\n    <tr>\n      <th>GK</th>\n      <td>gk_diving</td>\n      <td>gk_handling</td>\n      <td>gk_positioning</td>\n      <td>gk_reflexes</td>\n      <td>movement_reactions</td>\n      <td>gk_kicking</td>\n      <td>mentality_composure</td>\n      <td>passing</td>\n      <td>dribbling</td>\n      <td>international_reputation</td>\n    </tr>\n  </tbody>\n</table>\n</div>"
     },
     "metadata": {},
     "execution_count": 8
    }
   ],
   "source": [
    "#most correlated values with overall player rating\n",
    "corr_df = position_corr_df.apply(lambda s, n: pd.Series(s.nlargest(n).index), axis=1, n=11).iloc[:,1:]\n",
    "corr_df.head()"
   ]
  },
  {
   "cell_type": "code",
   "execution_count": 9,
   "metadata": {},
   "outputs": [
    {
     "output_type": "execute_result",
     "data": {
      "text/plain": "        short_name  age  height_cm  weight_kg nationality              Teams  \\\n97        A. Gómez   31        165         68   Argentina           Atalanta   \n113        D. Alli   23        188         80     England  Tottenham Hotspur   \n135        M. Özil   30        180         76     Germany            Arsenal   \n212  R. Nainggolan   31        176         77     Belgium    Cagliari Calcio   \n219  G. Sigurðsson   29        186         77     Iceland            Everton   \n\n     overall  potential  value_eur  wage_eur  ... mentality_penalties  \\\n97        85         85   34000000     92000  ...                  72   \n113       84         89   41500000    115000  ...                  74   \n135       84         84   29500000    125000  ...                  67   \n212       83         83   22500000     51000  ...                  63   \n219       83         83   25500000    120000  ...                  79   \n\n    mentality_composure  defending_marking  defending_standing_tackle  \\\n97                   84                 50                         30   \n113                  87                 70                         70   \n135                  83                 24                         16   \n212                  84                 83                         86   \n219                  84                 57                         57   \n\n     defending_sliding_tackle goalkeeping_diving goalkeeping_handling  \\\n97                         34                  8                   11   \n113                        63                  7                    6   \n135                        19                  6                   14   \n212                        90                 11                   11   \n219                        55                 13                    8   \n\n    goalkeeping_kicking  goalkeeping_positioning goalkeeping_reflexes  \n97                   12                        9                    6  \n113                   9                       11                    8  \n135                  10                        6                   14  \n212                  14                        8                   11  \n219                  10                       15                   12  \n\n[5 rows x 74 columns]",
      "text/html": "<div>\n<style scoped>\n    .dataframe tbody tr th:only-of-type {\n        vertical-align: middle;\n    }\n\n    .dataframe tbody tr th {\n        vertical-align: top;\n    }\n\n    .dataframe thead th {\n        text-align: right;\n    }\n</style>\n<table border=\"1\" class=\"dataframe\">\n  <thead>\n    <tr style=\"text-align: right;\">\n      <th></th>\n      <th>short_name</th>\n      <th>age</th>\n      <th>height_cm</th>\n      <th>weight_kg</th>\n      <th>nationality</th>\n      <th>Teams</th>\n      <th>overall</th>\n      <th>potential</th>\n      <th>value_eur</th>\n      <th>wage_eur</th>\n      <th>...</th>\n      <th>mentality_penalties</th>\n      <th>mentality_composure</th>\n      <th>defending_marking</th>\n      <th>defending_standing_tackle</th>\n      <th>defending_sliding_tackle</th>\n      <th>goalkeeping_diving</th>\n      <th>goalkeeping_handling</th>\n      <th>goalkeeping_kicking</th>\n      <th>goalkeeping_positioning</th>\n      <th>goalkeeping_reflexes</th>\n    </tr>\n  </thead>\n  <tbody>\n    <tr>\n      <th>97</th>\n      <td>A. Gómez</td>\n      <td>31</td>\n      <td>165</td>\n      <td>68</td>\n      <td>Argentina</td>\n      <td>Atalanta</td>\n      <td>85</td>\n      <td>85</td>\n      <td>34000000</td>\n      <td>92000</td>\n      <td>...</td>\n      <td>72</td>\n      <td>84</td>\n      <td>50</td>\n      <td>30</td>\n      <td>34</td>\n      <td>8</td>\n      <td>11</td>\n      <td>12</td>\n      <td>9</td>\n      <td>6</td>\n    </tr>\n    <tr>\n      <th>113</th>\n      <td>D. Alli</td>\n      <td>23</td>\n      <td>188</td>\n      <td>80</td>\n      <td>England</td>\n      <td>Tottenham Hotspur</td>\n      <td>84</td>\n      <td>89</td>\n      <td>41500000</td>\n      <td>115000</td>\n      <td>...</td>\n      <td>74</td>\n      <td>87</td>\n      <td>70</td>\n      <td>70</td>\n      <td>63</td>\n      <td>7</td>\n      <td>6</td>\n      <td>9</td>\n      <td>11</td>\n      <td>8</td>\n    </tr>\n    <tr>\n      <th>135</th>\n      <td>M. Özil</td>\n      <td>30</td>\n      <td>180</td>\n      <td>76</td>\n      <td>Germany</td>\n      <td>Arsenal</td>\n      <td>84</td>\n      <td>84</td>\n      <td>29500000</td>\n      <td>125000</td>\n      <td>...</td>\n      <td>67</td>\n      <td>83</td>\n      <td>24</td>\n      <td>16</td>\n      <td>19</td>\n      <td>6</td>\n      <td>14</td>\n      <td>10</td>\n      <td>6</td>\n      <td>14</td>\n    </tr>\n    <tr>\n      <th>212</th>\n      <td>R. Nainggolan</td>\n      <td>31</td>\n      <td>176</td>\n      <td>77</td>\n      <td>Belgium</td>\n      <td>Cagliari Calcio</td>\n      <td>83</td>\n      <td>83</td>\n      <td>22500000</td>\n      <td>51000</td>\n      <td>...</td>\n      <td>63</td>\n      <td>84</td>\n      <td>83</td>\n      <td>86</td>\n      <td>90</td>\n      <td>11</td>\n      <td>11</td>\n      <td>14</td>\n      <td>8</td>\n      <td>11</td>\n    </tr>\n    <tr>\n      <th>219</th>\n      <td>G. Sigurðsson</td>\n      <td>29</td>\n      <td>186</td>\n      <td>77</td>\n      <td>Iceland</td>\n      <td>Everton</td>\n      <td>83</td>\n      <td>83</td>\n      <td>25500000</td>\n      <td>120000</td>\n      <td>...</td>\n      <td>79</td>\n      <td>84</td>\n      <td>57</td>\n      <td>57</td>\n      <td>55</td>\n      <td>13</td>\n      <td>8</td>\n      <td>10</td>\n      <td>15</td>\n      <td>12</td>\n    </tr>\n  </tbody>\n</table>\n<p>5 rows × 74 columns</p>\n</div>"
     },
     "metadata": {},
     "execution_count": 9
    }
   ],
   "source": [
    "a =players_19[players_19[\"team_position\"]==\"CAM\"]\n",
    "a.head()"
   ]
  },
  {
   "cell_type": "code",
   "execution_count": 10,
   "metadata": {},
   "outputs": [],
   "source": [
    "X = a[['skill_ball_control','attacking_short_passing','skill_dribbling','dribbling','passing','mentality_vision','mentality_composure','shooting','movement_reactions']]\n",
    "y = a[\"overall\"]"
   ]
  },
  {
   "cell_type": "code",
   "execution_count": 11,
   "metadata": {},
   "outputs": [],
   "source": [
    "from sklearn.model_selection import train_test_split\n",
    "X_train, X_test, y_train, y_test = train_test_split(X, y, test_size=0.2, random_state=0)"
   ]
  },
  {
   "cell_type": "code",
   "execution_count": 12,
   "metadata": {},
   "outputs": [
    {
     "output_type": "execute_result",
     "data": {
      "text/plain": "      Actual  Predicted\n1265      76  74.575051\n3118      73  75.100342\n942       78  77.847643\n135       84  84.199972\n2122      74  74.192373",
      "text/html": "<div>\n<style scoped>\n    .dataframe tbody tr th:only-of-type {\n        vertical-align: middle;\n    }\n\n    .dataframe tbody tr th {\n        vertical-align: top;\n    }\n\n    .dataframe thead th {\n        text-align: right;\n    }\n</style>\n<table border=\"1\" class=\"dataframe\">\n  <thead>\n    <tr style=\"text-align: right;\">\n      <th></th>\n      <th>Actual</th>\n      <th>Predicted</th>\n    </tr>\n  </thead>\n  <tbody>\n    <tr>\n      <th>1265</th>\n      <td>76</td>\n      <td>74.575051</td>\n    </tr>\n    <tr>\n      <th>3118</th>\n      <td>73</td>\n      <td>75.100342</td>\n    </tr>\n    <tr>\n      <th>942</th>\n      <td>78</td>\n      <td>77.847643</td>\n    </tr>\n    <tr>\n      <th>135</th>\n      <td>84</td>\n      <td>84.199972</td>\n    </tr>\n    <tr>\n      <th>2122</th>\n      <td>74</td>\n      <td>74.192373</td>\n    </tr>\n  </tbody>\n</table>\n</div>"
     },
     "metadata": {},
     "execution_count": 12
    }
   ],
   "source": [
    "from sklearn.linear_model import LinearRegression\n",
    "regressor = LinearRegression()\n",
    "regressor.fit(X_train, y_train)\n",
    "coeff_df = pd.DataFrame(regressor.coef_, X.columns, columns=['Coefficient'])\n",
    "coeff_df\n",
    "#predictions\n",
    "y_pred = regressor.predict(X_test)\n",
    "#compare the predictions\n",
    "df = pd.DataFrame({'Actual': y_test, 'Predicted': y_pred})\n",
    "df.head(5)"
   ]
  },
  {
   "cell_type": "code",
   "execution_count": 13,
   "metadata": {
    "tags": []
   },
   "outputs": [
    {
     "output_type": "stream",
     "name": "stdout",
     "text": "Mean Absolute Error: 0.973270236314154\nMean Squared Error: 1.8667396130441591\nRoot Mean Squared Error: 1.3662867975078143\n"
    }
   ],
   "source": [
    "#Evaluation of the algorithm\n",
    "from sklearn import metrics\n",
    "print('Mean Absolute Error:', metrics.mean_absolute_error(y_test, y_pred))\n",
    "print('Mean Squared Error:', metrics.mean_squared_error(y_test, y_pred))\n",
    "print('Root Mean Squared Error:', np.sqrt(metrics.mean_squared_error(y_test, y_pred)))"
   ]
  },
  {
   "cell_type": "code",
   "execution_count": null,
   "metadata": {},
   "outputs": [],
   "source": []
  }
 ]
}