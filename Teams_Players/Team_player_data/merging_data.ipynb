{
 "metadata": {
  "language_info": {
   "codemirror_mode": {
    "name": "ipython",
    "version": 3
   },
   "file_extension": ".py",
   "mimetype": "text/x-python",
   "name": "python",
   "nbconvert_exporter": "python",
   "pygments_lexer": "ipython3",
   "version": "3.6.10-final"
  },
  "orig_nbformat": 2,
  "kernelspec": {
   "name": "python_defaultSpec_1608275961422",
   "display_name": "Python 3.6.10 64-bit ('PythonDataNew': conda)"
  }
 },
 "nbformat": 4,
 "nbformat_minor": 2,
 "cells": [
  {
   "cell_type": "code",
   "execution_count": 1,
   "metadata": {},
   "outputs": [],
   "source": [
    "import pandas as pd\n",
    "import os"
   ]
  },
  {
   "cell_type": "code",
   "execution_count": 2,
   "metadata": {
    "tags": []
   },
   "outputs": [
    {
     "output_type": "stream",
     "name": "stdout",
     "text": "Cleaned Files:\n ['EPL.csv', 'spainranking.csv', 'engranking.csv', 'Liga.csv', 'itranking.csv', 'model_data.csv', 'SerieA.csv']\nRaw Files:\n ['players_20.csv', 'players_18.csv', '.DS_Store', 'players_19.csv', 'players_17.csv', 'big_five_1995-2019.csv', 'players_16.csv', 'players_15.csv', 'team_stats.xlsx', 'teams_and_leagues.csv']\n"
    }
   ],
   "source": [
    "files = os.listdir(\"cleaned\")\n",
    "print(\"Cleaned Files:\\n\",files)\n",
    "files2 = os.listdir(\"raw\")\n",
    "print(\"Raw Files:\\n\",files2)"
   ]
  },
  {
   "cell_type": "code",
   "execution_count": 3,
   "metadata": {},
   "outputs": [
    {
     "output_type": "execute_result",
     "data": {
      "text/plain": "['team_stats', 'epl', 'Sheet3']"
     },
     "metadata": {},
     "execution_count": 3
    }
   ],
   "source": [
    "xl = pd.ExcelFile(\"raw/team_stats.xlsx\")\n",
    "xl.sheet_names"
   ]
  },
  {
   "cell_type": "code",
   "execution_count": 4,
   "metadata": {},
   "outputs": [],
   "source": [
    "liga = pd.read_excel(\"raw/team_stats.xlsx\",sheet_name=\"team_stats\",header=0)\n",
    "epl = pd.read_excel(\"raw/team_stats.xlsx\",sheet_name=\"epl\",header=0)\n",
    "serieA = pd.read_excel(\"raw/team_stats.xlsx\",sheet_name=\"Sheet3\",header=0)"
   ]
  },
  {
   "cell_type": "code",
   "execution_count": 5,
   "metadata": {},
   "outputs": [],
   "source": [
    "liga.rename({'Rank':'Ranking'},axis=1, inplace=True)\n",
    "epl.rename({'Rank':'Ranking'},axis=1, inplace=True)\n",
    "serieA.rename({'Rank':'Ranking'},axis=1, inplace=True)"
   ]
  },
  {
   "cell_type": "code",
   "execution_count": 6,
   "metadata": {},
   "outputs": [],
   "source": [
    "eng_df = pd.read_csv(f\"cleaned/{files[0]}\",encoding=\"UTF-8\")\n",
    "final_eng = eng_df.merge(epl,on=['Ranking','Year'],how='outer')\n",
    "final_eng = final_eng.sort_values([\"Year\",\"Ranking\"]).reset_index(drop=True)\n",
    "final_eng['Goals+'].iloc[0:20] = final_eng['G+'].iloc[0:20]\n",
    "final_eng['Goals-'].iloc[0:20] = final_eng['G-'].iloc[0:20]\n",
    "final_eng['Points_x'].iloc[0:20] = final_eng['Points_y'].iloc[0:20]\n",
    "final_eng['Teams'].iloc[-20:] = final_eng['Team'].iloc[-20:]\n",
    "final_eng['Points_x'].iloc[-20:] = final_eng['Points_y'].iloc[-20:]\n",
    "final_eng['Goals+'].iloc[-20:] = final_eng['G+'].iloc[-20:]\n",
    "final_eng['Goals-'].iloc[-20:] = final_eng['G-'].iloc[-20:]\n",
    "final_eng = final_eng.drop(columns=[\"Team\",\"Goals\",\"G+\",\"G-\",\"Points_y\"]).rename({\"Points_x\":\"Points\"},axis=1)"
   ]
  },
  {
   "cell_type": "code",
   "execution_count": 7,
   "metadata": {},
   "outputs": [],
   "source": [
    "es_df = pd.read_csv(f\"cleaned/{files[3]}\",encoding=\"UTF-8\")\n",
    "final_es = es_df.merge(liga,on=['Ranking','Year'],how='outer')\n",
    "final_es = final_es.sort_values([\"Year\",\"Ranking\"]).reset_index(drop=True)\n",
    "final_es['Goals+'].iloc[0:20] = final_es['G+'].iloc[0:20]\n",
    "final_es['Goals-'].iloc[0:20] = final_es['G-'].iloc[0:20]\n",
    "final_es['Points_x'].iloc[0:20] = final_es['Points_y'].iloc[0:20]\n",
    "final_es['Teams'].iloc[-20:] = final_es['Team'].iloc[-20:]\n",
    "final_es['Points_x'].iloc[-20:] = final_es['Points_y'].iloc[-20:]\n",
    "final_es['Goals+'].iloc[-20:] = final_es['G+'].iloc[-20:]\n",
    "final_es['Goals-'].iloc[-20:] = final_es['G-'].iloc[-20:]\n",
    "final_es = final_es.drop(columns=[\"Team\",\"Goals\",\"G+\",\"G-\",\"Points_y\"]).rename({\"Points_x\":\"Points\"},axis=1)"
   ]
  },
  {
   "cell_type": "code",
   "execution_count": 8,
   "metadata": {},
   "outputs": [],
   "source": [
    "it_df = pd.read_csv(f\"cleaned/{files[6]}\",encoding=\"UTF-8\")\n",
    "final_it = it_df.merge(serieA,on=['Ranking','Year'],how='outer')\n",
    "final_it = final_it.sort_values([\"Year\",\"Ranking\"]).reset_index(drop=True)\n",
    "final_it['Goals+'].iloc[0:20] = final_it['G+'].iloc[0:20]\n",
    "final_it['Goals-'].iloc[0:20] = final_it['G-'].iloc[0:20]\n",
    "final_it['Points_x'].iloc[0:20] = final_it['Points_y'].iloc[0:20]\n",
    "final_it['Teams'].iloc[-20:] = final_it['Team'].iloc[-20:]\n",
    "final_it['Points_x'].iloc[-20:] = final_it['Points_y'].iloc[-20:]\n",
    "final_it['Goals+'].iloc[-20:] = final_it['G+'].iloc[-20:]\n",
    "final_it['Goals-'].iloc[-20:] = final_it['G-'].iloc[-20:]\n",
    "final_it = final_it.drop(columns=[\"Team\",\"Goals\",\"G+\",\"G-\",\"Points_y\"]).rename({\"Points_x\":\"Points\"},axis=1)"
   ]
  },
  {
   "cell_type": "code",
   "execution_count": 35,
   "metadata": {},
   "outputs": [],
   "source": [
    "final_eng.to_csv('project2_data/epl.csv')\n",
    "final_es.to_csv('project2_data/liga.csv')\n",
    "final_it.to_csv('project2_data/serieA.csv')"
   ]
  },
  {
   "cell_type": "code",
   "execution_count": null,
   "metadata": {},
   "outputs": [],
   "source": []
  }
 ]
}